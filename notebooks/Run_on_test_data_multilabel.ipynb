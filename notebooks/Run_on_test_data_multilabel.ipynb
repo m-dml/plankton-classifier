{
 "cells": [
  {
   "cell_type": "code",
   "execution_count": 1,
   "id": "f681ab42-a578-4141-aa26-522db9f2db34",
   "metadata": {
    "pycharm": {
     "name": "#%%\n"
    },
    "trusted": false
   },
   "outputs": [],
   "source": [
    "\n",
    "import seaborn as sns\n",
    "import torch\n",
    "import torch.nn.functional as F\n",
    "from tqdm.auto import tqdm\n",
    "\n",
    "sns.set()\n",
    "import numpy as np\n",
    "import os\n",
    "import glob\n",
    "import sys\n",
    "sys.path.append(\"..\")\n",
    "import hydra\n",
    "from src.lib.config import register_configs\n",
    "from src.models.LightningBaseModel import LightningModel\n",
    "from src.utils.CustomMetrics import MultiLabelAccuracy\n",
    "register_configs()\n",
    "try:\n",
    "    hydra.initialize(config_path=\"../conf\", job_name=\"plankton\")\n",
    "except ValueError:\n",
    "    print(ValueError)\n",
    "    \n",
    "import pytorch_lightning as pl\n",
    "from natsort import natsorted\n",
    "import pickle"
   ]
  },
  {
   "cell_type": "code",
   "execution_count": 2,
   "id": "f2addaef-7e5d-4b01-a0f5-2ca79d2bde92",
   "metadata": {
    "pycharm": {
     "name": "#%%\n"
    },
    "trusted": false
   },
   "outputs": [
    {
     "name": "stdout",
     "output_type": "stream",
     "text": "Data splits:  [0.01, 0.02, 0.03, 0.04, 0.05, 0.06, 0.07, 0.08, 0.09, 0.1, 0.2, 0.3, 0.4, 0.5, 0.6, 0.7, 0.8, 0.9, 1.0]\n"
    }
   ],
   "source": [
    "# set global values:\n",
    "\n",
    "experiments_multilabel = {\n",
    "    \"supervised_multilabel\": \"/gpfs/work/machnitz/plankton_logs/supervised/multilabel/multirun/2022-04-19/08-13-41\",\n",
    "    \"linear_multilabel\": \"/gpfs/work/machnitz/plankton_logs/linear_eval/multilabel/multirun/2022-04-19/08-14-01\",\n",
    "    \"finetune_multilabel\": \"/gpfs/work/machnitz/plankton_logs/finetune/multilabel/multirun/2022-04-19/08-14-27\",\n",
    "    \"finetune_sgd_multilabel\": \"/gpfs/work/machnitz/plankton_logs/finetune_sgd/multilabel/multirun/2022-04-19/14-06-46\"\n",
    "}\n",
    "\n",
    "experiments_singlelabel = {\n",
    "    \"supervised_singlelabel\": \"/gpfs/work/machnitz/plankton_logs/supervised/singlelabel/multirun/2022-04-19/08-14-50\",\n",
    "    \"linear_singlelabel\": \"/gpfs/work/machnitz/plankton_logs/linear_eval/singlelabel/multirun/2022-04-19/19-15-20\",\n",
    "    \"finetune_singlelabel\": \"/gpfs/work/machnitz/plankton_logs/finetune/singlelabel/multirun/2022-04-19/08-15-24\",\n",
    "    \"finetune_sgd_singlelabel\": \"/gpfs/work/machnitz/plankton_logs/finetune_sgd/singlelabel/multirun/2022-04-19/08-15-10\"\n",
    "}\n",
    "\n",
    "data_splits_per_experiment = [np.round(x,2) for x in np.arange(0.01, 0.1, 0.01)] + [np.round(x, 2) for x in np.arange(0.1, 1.1, 0.1)]\n",
    "print(\"Data splits: \", data_splits_per_experiment)"
   ]
  },
  {
   "cell_type": "code",
   "execution_count": 3,
   "id": "807252f0-2aac-4720-907a-8812503a8c99",
   "metadata": {
    "pycharm": {
     "name": "#%%\n"
    },
    "trusted": false
   },
   "outputs": [],
   "source": [
    "from matplotlib.colors import ListedColormap\n",
    "import seaborn as sns\n",
    "sns.set()\n",
    "\n",
    "hereon_color_array = np.array([\n",
    "    [230, 0, 70],\n",
    "    [0,145,160],\n",
    "    [0, 170, 230],\n",
    "    [250,180,35],\n",
    "    [0,70,125],\n",
    "    [175, 25, 60],\n",
    "    [170, 200 ,70],\n",
    "    [250,115,80],\n",
    "    [140, 90, 180],\n",
    "      \n",
    "])\n",
    "hereon_color_array = hereon_color_array / 255\n",
    "hereon_cmap = ListedColormap(hereon_color_array)\n",
    "\n",
    "sns.set_palette(hereon_color_array)"
   ]
  },
  {
   "cell_type": "markdown",
   "id": "89b05956-6c96-4465-86fd-c4335774cc6c",
   "metadata": {
    "pycharm": {
     "name": "#%% md\n"
    }
   },
   "source": [
    "# Multi Label experiments\n",
    "\n",
    "We only need to load the config of the supervised run, since it only is used to init the data-loaders and they are the same for all single-label experiments."
   ]
  },
  {
   "cell_type": "code",
   "execution_count": 4,
   "id": "97ca0565-b47b-4a12-9598-828faceed77c",
   "metadata": {
    "pycharm": {
     "name": "#%%\n"
    },
    "trusted": false
   },
   "outputs": [
    {
     "name": "stderr",
     "output_type": "stream",
     "text": "Global seed set to 7\n"
    }
   ],
   "source": [
    "pl.seed_everything(7)\n",
    "np.random.seed(7)\n",
    "cfg = hydra.compose(config_name=\"config\", overrides=[\"+experiment=plankton/publication/supervised_multilabel\", \n",
    "                                                     \"random_seed=7\", \n",
    "                                                     \"strategy=SingleDevice\", \n",
    "                                                     'strategy.device=\"cuda:0\"', \n",
    "                                                     \"trainer.enable_progress_bar=false\",\n",
    "                                                     \"datamodule.batch_size=200\"])"
   ]
  },
  {
   "cell_type": "code",
   "execution_count": 5,
   "id": "2221a9bc-0ae3-49ea-9a21-092d9a2c3bf5",
   "metadata": {
    "pycharm": {
     "name": "#%%\n"
    },
    "trusted": false
   },
   "outputs": [
    {
     "name": "stderr",
     "output_type": "stream",
     "text": "/gpfs/home/machnitz/miniconda3/envs/plankton/lib/python3.8/site-packages/pytorch_lightning/core/datamodule.py:95: LightningDeprecationWarning: DataModule property `train_transforms` was deprecated in v1.5 and will be removed in v1.7.\n  rank_zero_deprecation(\n"
    }
   ],
   "source": [
    "train_transforms = hydra.utils.instantiate(cfg.datamodule.train_transforms)\n",
    "valid_transforms = hydra.utils.instantiate(cfg.datamodule.valid_transforms)\n",
    "\n",
    "datamodule = hydra.utils.instantiate(\n",
    "    cfg.datamodule,\n",
    "    train_transforms=train_transforms,\n",
    "    valid_transforms=valid_transforms,\n",
    "    dataset=cfg.datamodule.dataset,\n",
    "    is_ddp=False,\n",
    ")\n",
    "datamodule.setup(stage=\"test\")"
   ]
  },
  {
   "cell_type": "code",
   "execution_count": 6,
   "id": "f4aaecac-5d10-42cf-b6b8-66cb34fcbe29",
   "metadata": {
    "pycharm": {
     "name": "#%%\n"
    },
    "trusted": false
   },
   "outputs": [],
   "source": [
    "def get_confidence_and_acc(logits, labels, acc_func=MultiLabelAccuracy(weighted=True), n_bins=15):\n",
    "    ece = torch.zeros(1, device=logits.device)\n",
    "    bin_boundaries = torch.linspace(0, 1, n_bins + 1)\n",
    "    bin_lowers = bin_boundaries[:-1]\n",
    "    bin_uppers = bin_boundaries[1:]\n",
    "    softmaxes = F.softmax(logits, dim=1)\n",
    "    confidences, predictions = torch.max(softmaxes, 1)\n",
    "    accuracies = torch.tensor([acc_func(predictions=prediction.unsqueeze(0), \n",
    "                                            targets=label.unsqueeze(0), \n",
    "                                            n_labels=labels.max()+1) \n",
    "                               for prediction, label in zip(predictions, labels)])\n",
    "    accuracy_bins = []\n",
    "    confidence_bins = []\n",
    "    for bin_lower, bin_upper in zip(bin_lowers, bin_uppers):\n",
    "        # Calculated in each bin\n",
    "        in_bin = confidences.gt(bin_lower.item()) * confidences.le(bin_upper.item())\n",
    "        prop_in_bin = in_bin.float().mean()\n",
    "        if prop_in_bin.item() > 0:\n",
    "            accuracy_in_bin = accuracies[in_bin].float().mean()\n",
    "            avg_confidence_in_bin = confidences[in_bin].mean()\n",
    "            accuracy_bins.append(accuracy_in_bin)\n",
    "            confidence_bins.append(avg_confidence_in_bin)\n",
    "            ece += torch.abs(avg_confidence_in_bin - accuracy_in_bin) * prop_in_bin\n",
    "    return torch.tensor(accuracy_bins), torch.tensor(confidence_bins), ece.item()\n"
   ]
  },
  {
   "cell_type": "code",
   "execution_count": 7,
   "outputs": [],
   "source": [
    "def instantiate_model(ckpt_path):\n",
    "    model = LightningModel.load_from_checkpoint(checkpoint_path=ckpt_path)\n",
    "    model.set_external_data(\n",
    "        class_labels=datamodule.unique_labels,\n",
    "        all_labels=datamodule.all_labels,\n",
    "        example_input_array=example_input.detach().cpu(),\n",
    "    )\n",
    "    return model\n",
    "\n",
    "def instantiate_trainer():\n",
    "    trainer: Trainer = hydra.utils.instantiate(\n",
    "        cfg.trainer,\n",
    "        strategy=cfg.strategy,\n",
    "        logger=[],\n",
    "        callbacks=[],\n",
    "        _convert_=\"partial\",\n",
    "        profiler=None,\n",
    "    )\n",
    "    return trainer"
   ],
   "metadata": {
    "collapsed": false,
    "pycharm": {
     "name": "#%%\n"
    },
    "trusted": false
   },
   "id": "abd35cf2"
  },
  {
   "cell_type": "code",
   "execution_count": 8,
   "id": "7f1d1b23-48c4-4828-b121-24ec8be0e2a7",
   "metadata": {
    "pycharm": {
     "name": "#%%\n"
    },
    "trusted": false
   },
   "outputs": [
    {
     "ename": "AssertionError",
     "evalue": "",
     "output_type": "error",
     "traceback": [
      "\u001B[0;31m---------------------------------------------------------------------------\u001B[0m",
      "\u001B[0;31mAssertionError\u001B[0m                            Traceback (most recent call last)",
      "Input \u001B[0;32mIn [8]\u001B[0m, in \u001B[0;36m<cell line: 1>\u001B[0;34m()\u001B[0m\n\u001B[0;32m----> 1\u001B[0m \u001B[38;5;28;01massert\u001B[39;00m \u001B[38;5;28;01mFalse\u001B[39;00m\n\u001B[1;32m      2\u001B[0m trainer \u001B[38;5;241m=\u001B[39m instantiate_trainer()\n\u001B[1;32m      4\u001B[0m dataloader \u001B[38;5;241m=\u001B[39m datamodule\u001B[38;5;241m.\u001B[39mtest_dataloader()\n",
      "\u001B[0;31mAssertionError\u001B[0m: "
     ]
    }
   ],
   "source": [
    "assert False\n",
    "trainer = instantiate_trainer()\n",
    "\n",
    "dataloader = datamodule.test_dataloader()\n",
    "\n",
    "for batch in dataloader:\n",
    "    example_input, _ = batch\n",
    "    break\n",
    "    \n",
    "return_metrics = dict()\n",
    "for key, setup_path in experiments_multilabel.items():\n",
    "    experiment_folders = [os.path.join(setup_path, str(i)) for i in np.arange(0, 19)]\n",
    "    return_metrics[key] = dict()\n",
    "    fig, axes = plt.subplots(nrows=4, ncols=5, figsize=(20,15), sharex=True, sharey=True)\n",
    "    for experiment_number, experiment_path in enumerate(tqdm(experiment_folders)):\n",
    "        # print(experiment_number)\n",
    "        with open(os.path.join(experiment_path, \"main.log\"), \"r\") as f:\n",
    "            complete_log = f.readlines()\n",
    "            found_best_checkpoint = False\n",
    "            for line in complete_log:\n",
    "                # print(line)\n",
    "                if found_best_checkpoint:\n",
    "                    best_checkpoint = line.strip()\n",
    "                    # print(f\"set best checkpoint to {best_checkpoint}\")\n",
    "                    break\n",
    "                    \n",
    "                if \"[main.main][INFO] - Best checkpoint path:\" in line:\n",
    "                    found_best_checkpoint = True\n",
    "                    # print(f\"found best checkpoint: {line}\")\n",
    "            \n",
    "        model = instantiate_model(best_checkpoint)\n",
    "        return_metrics[key][experiment_number] = trainer.test(model, dataloader)[0]\n",
    "        return_metrics[key][experiment_number][\"Data Fraction\"] = data_splits_per_experiment[experiment_number]\n",
    "        \n",
    "        with torch.no_grad():\n",
    "            for batch in dataloader:\n",
    "                x, labels = batch\n",
    "                logits = model(x)[1]\n",
    "                \n",
    "                accuracies, confidences, ece = get_confidence_and_acc(logits, labels[1])\n",
    "                return_metrics[key][experiment_number][\"ECE\"] = ece\n",
    "        \n",
    "        ax = axes.flatten()[experiment_number]\n",
    "        sns.lineplot(x=confidences.cpu().numpy(), y=accuracies.cpu().numpy(), ax=ax)\n",
    "        ax.plot(np.linspace(0,1,100), np.linspace(0,1,100), c=\"grey\", ls=\"--\")\n",
    "        ax.set_xlabel(\"Confidence\")\n",
    "        ax.set_ylabel(\"Accuracy\")\n",
    "        ax.set_title(f\"{key} | {data_splits_per_experiment[experiment_number]}\")\n",
    "        del model\n",
    "    plt.savefig(f\"ConfidenceAccuracy{key}.png\", dpi=300)\n",
    "    plt.show()\n",
    "    plt.close(\"all\")"
   ]
  },
  {
   "cell_type": "code",
   "execution_count": null,
   "id": "3f376343-684e-428d-87db-0a27ef275aa2",
   "metadata": {
    "pycharm": {
     "name": "#%%\n"
    },
    "trusted": false
   },
   "outputs": [],
   "source": [
    "reform = {(outerKey, innerKey): values for outerKey, innerDict in return_metrics.items() for innerKey, values in innerDict.items()}\n",
    "multi_label_df = pd.DataFrame.from_dict(reform).T\n",
    "multi_label_df.index.names = (\"Model\", \"Experiment\")\n",
    "multi_label_df"
   ]
  },
  {
   "cell_type": "code",
   "execution_count": null,
   "id": "755374dc-e711-4269-b619-4a91a636bc98",
   "metadata": {
    "pycharm": {
     "name": "#%%\n"
    },
    "trusted": false
   },
   "outputs": [],
   "source": [
    "fig, ax = plt.subplots(figsize=(15,5))\n",
    "sns.lineplot(x=\"Data Fraction\", y=\"Accuracy/Testing\", hue=\"Model\", style=\"Model\", data=multi_label_df, ax=ax, palette=hereon_color_array,  markers=True, markersize=10,)\n",
    "\n",
    "for item in data_splits_per_experiment:\n",
    "    ax.text(item,0.3,f'{item * 100:.0f}%',color=\"grey\", horizontalalignment=\"center\", rotation=-45)\n",
    "\n",
    "ax.set_xscale(\"log\")\n",
    "plt.savefig(\"Accuracies_Testing_Multilabel.png\", dpi=300)"
   ]
  },
  {
   "cell_type": "code",
   "execution_count": null,
   "id": "1aceb836-9afe-4f59-8b94-4dbba7bdc1fb",
   "metadata": {
    "pycharm": {
     "name": "#%%\n"
    },
    "trusted": false
   },
   "outputs": [],
   "source": [
    "fig, ax = plt.subplots(figsize=(15,5))\n",
    "sns.lineplot(x=\"Data Fraction\", y=\"ECE\", hue=\"Model\", style=\"Model\", data=multi_label_df, ax=ax, palette=hereon_color_array,  markers=True, markersize=10,)\n",
    "\n",
    "for item in data_splits_per_experiment:\n",
    "    ax.text(item,0.2,f'{item * 100:.0f}%',color=\"grey\", horizontalalignment=\"center\", rotation=-45)\n",
    "\n",
    "ax.set_xscale(\"log\")\n",
    "ax.legend(loc=\"best\")\n",
    "plt.savefig(\"ECE_Testing_Multilabel.png\", dpi=300)"
   ]
  },
  {
   "cell_type": "code",
   "execution_count": null,
   "id": "8df9f4cf-c49f-4ae1-a5a5-ce35ef91ccee",
   "metadata": {
    "pycharm": {
     "name": "#%%\n"
    },
    "trusted": false
   },
   "outputs": [],
   "source": [
    "fig, ax = plt.subplots(figsize=(15,5))\n",
    "sns.lineplot(x=\"Data Fraction\", y=\"loss/Testing\", hue=\"Model\", style=\"Model\", data=multi_label_df, ax=ax, palette=hereon_color_array,  markers=True, markersize=10,)\n",
    "\n",
    "for item in data_splits_per_experiment:\n",
    "    ax.text(item,2,f'{item * 100:.0f}%',color=\"grey\", horizontalalignment=\"center\", rotation=-45)\n",
    "\n",
    "ax.set_xscale(\"log\")\n",
    "ax.legend(loc=\"best\")\n",
    "plt.savefig(\"KLDiv_Testing_Multilabel.png\", dpi=300)"
   ]
  },
  {
   "cell_type": "markdown",
   "id": "59ed179e-a1f9-455c-bf93-605e5058fd12",
   "metadata": {
    "pycharm": {
     "name": "#%% md\n"
    }
   },
   "source": [
    "# Single Label"
   ]
  },
  {
   "cell_type": "code",
   "execution_count": 9,
   "id": "0b8b403f-5539-4b41-a5ba-e9f20a84d1ec",
   "metadata": {
    "pycharm": {
     "name": "#%%\n"
    },
    "trusted": false
   },
   "outputs": [
    {
     "name": "stderr",
     "output_type": "stream",
     "text": "Global seed set to 7\n"
    }
   ],
   "source": [
    "pl.seed_everything(7)\n",
    "np.random.seed(7)\n",
    "cfg = hydra.compose(config_name=\"config\", overrides=[\"+experiment=plankton/publication/supervised_singlelabel\", \n",
    "                                                     \"random_seed=7\", \n",
    "                                                     \"strategy=SingleDevice\", \n",
    "                                                     'strategy.device=\"cuda:0\"', \n",
    "                                                     \"trainer.enable_progress_bar=false\",\n",
    "                                                     \"datamodule.batch_size=200\",\n",
    "                                                     \"lightning_module.log_confusion_matrices=false\",\n",
    "                                                     \"lightning_module.temperature_scale=false\",\n",
    "                                                    ])"
   ]
  },
  {
   "cell_type": "code",
   "execution_count": 10,
   "id": "7a28ad4a-4065-4853-ae0d-c9d80ed515c9",
   "metadata": {
    "pycharm": {
     "name": "#%%\n"
    },
    "trusted": false
   },
   "outputs": [
    {
     "name": "stderr",
     "output_type": "stream",
     "text": "/gpfs/home/machnitz/miniconda3/envs/plankton/lib/python3.8/site-packages/pytorch_lightning/core/datamodule.py:95: LightningDeprecationWarning: DataModule property `train_transforms` was deprecated in v1.5 and will be removed in v1.7.\n  rank_zero_deprecation(\n77it [00:00, 4368.30it/s]                                                      | 0/19 [00:00<?, ?it/s]\n4536it [00:00, 7599.62it/s]\n88it [00:00, 3720.00it/s]█▎                                            | 2/19 [00:00<00:05,  3.23it/s]\n100it [00:00, 4362.16it/s]\n95it [00:00, 4930.45it/s]\n288it [00:00, 6502.45it/s]\n12it [00:00, 4121.15it/s]███████████▊                                  | 6/19 [00:00<00:01,  9.72it/s]\n158it [00:00, 7012.55it/s]\n59it [00:00, 6970.23it/s]\n1215it [00:00, 10737.09it/s]\n386it [00:00, 11836.02it/s]███████████████████▊                       | 10/19 [00:00<00:00, 14.30it/s]\n56it [00:00, 6301.98it/s]\n1290it [00:00, 11311.97it/s]\n207it [00:00, 6932.73it/s]████████████████████████████▌               | 13/19 [00:01<00:00, 15.53it/s]\n506it [00:00, 8265.73it/s]\n125299it [00:10, 11953.34it/s]\n4416it [00:00, 12848.97it/s]██████████████████████████████████▎       | 16/19 [00:11<00:03,  1.23s/it]\n1691it [00:00, 12557.53it/s]████████████████████████████████████▊     | 17/19 [00:11<00:02,  1.11s/it]\n2864it [00:00, 22216.26it/s]\nLoad Klas data: 100%|█████████████████████████████████████████████████| 19/19 [00:12<00:00,  1.55it/s]\n11it [00:00, 6910.93it/s]                                                      | 0/19 [00:00<?, ?it/s]\n648it [00:00, 12392.55it/s]\n12it [00:00, 5171.24it/s]\n14it [00:00, 5467.94it/s]\n13it [00:00, 5884.52it/s]\n41it [00:00, 4362.31it/s]\n1it [00:00, 1408.43it/s]\n22it [00:00, 8353.67it/s]\n8it [00:00, 6678.83it/s]\n173it [00:00, 14952.80it/s]\n55it [00:00, 19571.28it/s]████████████████████▊                       | 10/19 [00:00<00:00, 98.02it/s]\n8it [00:00, 7052.21it/s]\n184it [00:00, 17646.50it/s]\n29it [00:00, 10179.50it/s]\n72it [00:00, 10349.21it/s]\n17899it [00:01, 13466.76it/s]\n630it [00:00, 13211.40it/s]\n241it [00:00, 12578.42it/s]\n409it [00:00, 19977.53it/s]\nLoad Klas data: 100%|█████████████████████████████████████████████████| 19/19 [00:01<00:00, 12.21it/s]\n23it [00:00, 6905.44it/s]                                                      | 0/19 [00:00<?, ?it/s]\n1296it [00:00, 13476.04it/s]\n27it [00:00, 7216.81it/s]█▎                                            | 2/19 [00:00<00:00, 19.49it/s]\n29it [00:00, 9450.30it/s]\n29it [00:00, 7519.46it/s]\n83it [00:00, 6180.36it/s]\n5it [00:00, 5214.20it/s]\n46it [00:00, 9742.37it/s]\n18it [00:00, 8637.17it/s]\n348it [00:00, 15260.94it/s]\n111it [00:00, 17244.53it/s]\n16it [00:00, 8369.78it/s]\n370it [00:00, 17662.04it/s]\n61it [00:00, 8328.53it/s]█████████████████████████████▌               | 13/19 [00:00<00:00, 72.06it/s]\n145it [00:00, 9290.49it/s]\n35801it [00:02, 12006.41it/s]\n1263it [00:00, 11332.90it/s]\n484it [00:00, 11540.17it/s]\n819it [00:00, 21657.34it/s]\nLoad Klas data: 100%|█████████████████████████████████████████████████| 19/19 [00:03<00:00,  5.57it/s]\n"
    }
   ],
   "source": [
    "\n",
    "train_transforms = hydra.utils.instantiate(cfg.datamodule.train_transforms)\n",
    "valid_transforms = hydra.utils.instantiate(cfg.datamodule.valid_transforms)\n",
    "\n",
    "datamodule = hydra.utils.instantiate(\n",
    "    cfg.datamodule,\n",
    "    train_transforms=train_transforms,\n",
    "    valid_transforms=valid_transforms,\n",
    "    dataset=cfg.datamodule.dataset,\n",
    "    is_ddp=False,\n",
    ")\n",
    "datamodule.setup(stage=\"test\")"
   ]
  },
  {
   "cell_type": "code",
   "execution_count": 11,
   "id": "3ee2625c-2bb2-4610-a4e9-17e1e2d3b23e",
   "metadata": {
    "pycharm": {
     "name": "#%%\n"
    },
    "trusted": false
   },
   "outputs": [],
   "source": [
    "def get_confidence_and_acc_single(logits, labels, acc_func=None, n_bins=20, logits_are_probs=False):\n",
    "    ece = torch.zeros(1, device=logits.device)\n",
    "    bin_boundaries = torch.linspace(0, 1, n_bins + 1)\n",
    "    bin_lowers = bin_boundaries[:-1]\n",
    "    bin_uppers = bin_boundaries[1:]\n",
    "    if not logits_are_probs:\n",
    "        softmaxes = F.softmax(logits, dim=1)\n",
    "    else:\n",
    "        softmaxes = logits\n",
    "    confidences, predictions = torch.max(softmaxes, 1)\n",
    "    accuracies = predictions.eq(labels)\n",
    "    accuracy_bins = []\n",
    "    confidence_bins = []\n",
    "    for bin_lower, bin_upper in zip(bin_lowers, bin_uppers):\n",
    "        # Calculated in each bin\n",
    "        in_bin = confidences.gt(bin_lower.item()) * confidences.le(bin_upper.item())\n",
    "        prop_in_bin = in_bin.float().mean()\n",
    "        if prop_in_bin.item() > 0:\n",
    "            accuracy_in_bin = accuracies[in_bin].float().mean()\n",
    "            avg_confidence_in_bin = confidences[in_bin].mean()\n",
    "            accuracy_bins.append(accuracy_in_bin)\n",
    "            confidence_bins.append(avg_confidence_in_bin)\n",
    "            ece += torch.abs(avg_confidence_in_bin - accuracy_in_bin) * prop_in_bin\n",
    "    return torch.tensor(accuracy_bins), torch.tensor(confidence_bins), ece.item()"
   ]
  },
  {
   "cell_type": "code",
   "execution_count": 12,
   "outputs": [],
   "source": [
    "def run_and_save(_best_checkpoint, _dataloader, _return_metrics, _key, _experiment_number):\n",
    "    model = instantiate_model(_best_checkpoint)\n",
    "    model.log_confusion_matrices = False\n",
    "    model.temperature_scale = False\n",
    "    _return_metrics[_key][_experiment_number] = trainer.test(model, _dataloader)[0]\n",
    "    _return_metrics[_key][_experiment_number][\"Data Fraction\"] = data_splits_per_experiment[_experiment_number]\n",
    "    _logits = torch.empty(size=(len(_dataloader.dataset), len(datamodule.unique_labels))).to(\"cuda:0\")\n",
    "    _labels = torch.empty(size=[len(_dataloader.dataset)]).to(\"cuda:0\")\n",
    "\n",
    "    with torch.no_grad():\n",
    "        start = 0\n",
    "        for i, batch in tqdm(enumerate(_dataloader), total=(len(_dataloader))):\n",
    "            x, batch_labels = batch\n",
    "            end = start + len(batch_labels[0])\n",
    "            _labels[start: end] = batch_labels[0].squeeze()\n",
    "            _logits[start: end, :] = model(x)[1]\n",
    "\n",
    "            start = end\n",
    "\n",
    "    _labels = _labels.detach().cpu().int()\n",
    "    _logits = _logits.detach().cpu()\n",
    "\n",
    "    torch.save(_logits, f\"test_results/logits_{_key}_{_experiment_number}.pt\")\n",
    "    torch.save(_labels, f\"test_results/labels_{_key}_{_experiment_number}.pt\")\n",
    "    with open(f\"test_results/dict_{_key}_{_experiment_number}.pkl\", 'wb') as f:\n",
    "        pickle.dump(_return_metrics, f)\n",
    "    return _logits, _labels, _return_metrics"
   ],
   "metadata": {
    "collapsed": false,
    "pycharm": {
     "name": "#%%\n"
    },
    "trusted": false
   },
   "id": "c5853c36"
  },
  {
   "cell_type": "code",
   "execution_count": 13,
   "outputs": [],
   "source": [
    "def return_if_file_exists(func):\n",
    "    def function_wrapper(*args, **kwargs):\n",
    "        return func\n",
    "\n",
    "    file = function_wrapper()\n",
    "    if os.path.isfile:\n",
    "        return func\n",
    "    else:\n",
    "        raise FileNotFoundError(f\"File {file} does not exist\")\n",
    "\n",
    "\n",
    "@return_if_file_exists\n",
    "def get_temperature_file(checkpoint_file):\n",
    "    if os.path.split(checkpoint_file)[-1] == \"last.ckpt\":\n",
    "        path = os.path.split(checkpoint_file)[0]\n",
    "        temp_files = natsorted(glob.glob(os.path.join(path, \"temperatures_*.tensor\")))\n",
    "        return temp_files[-1]\n",
    "    else:\n",
    "        return checkpoint_file.replace(\"epoch=\", \"temperatures_\").replace(\".ckpt\", \".tensor\")\n",
    "\n",
    "@return_if_file_exists\n",
    "def get_distribution_file(checkpoint_file):\n",
    "    path = os.path.split(checkpoint_file)[0]\n",
    "    return os.path.join(path, \"training_label_distribution.pt\")\n",
    "\n"
   ],
   "metadata": {
    "collapsed": false,
    "pycharm": {
     "name": "#%%\n"
    },
    "trusted": false
   },
   "id": "b00252c6"
  },
  {
   "cell_type": "code",
   "execution_count": 16,
   "id": "b1ea867d-2e4f-48c9-a877-66623921cd3e",
   "metadata": {
    "pycharm": {
     "name": "#%%\n"
    },
    "trusted": false
   },
   "outputs": [
    {
     "name": "stderr",
     "output_type": "stream",
     "text": "GPU available: True, used: True\nTPU available: False, using: 0 TPU cores\nIPU available: False, using: 0 IPUs\nHPU available: False, using: 0 HPUs\n`Trainer(limit_train_batches=1.0)` was configured so 100% of the batches per epoch will be used..\n`Trainer(limit_val_batches=1.0)` was configured so 100% of the batches will be used..\n`Trainer(limit_test_batches=1.0)` was configured so 100% of the batches will be used..\n"
    },
    {
     "data": {
      "text/plain": "  0%|          | 0/19 [00:00<?, ?it/s]",
      "application/vnd.jupyter.widget-view+json": {
       "version_major": 2,
       "version_minor": 0,
       "model_id": "cd65d4c7195d4749ab98c611f0f74939"
      }
     },
     "metadata": {},
     "output_type": "display_data"
    },
    {
     "name": "stdout",
     "output_type": "stream",
     "text": "0\n"
    },
    {
     "name": "stderr",
     "output_type": "stream",
     "text": "LOCAL_RANK: 0 - CUDA_VISIBLE_DEVICES: [0]\n/gpfs/home/machnitz/miniconda3/envs/plankton/lib/python3.8/site-packages/pytorch_lightning/utilities/data.py:72: UserWarning: Trying to infer the `batch_size` from an ambiguous collection. The batch size we found is 200. To avoid any miscalculations, use `self.log(..., batch_size=batch_size)`.\n  warning_cache.warn(\n/gpfs/home/machnitz/miniconda3/envs/plankton/lib/python3.8/site-packages/pytorch_lightning/utilities/data.py:72: UserWarning: Trying to infer the `batch_size` from an ambiguous collection. The batch size we found is 174. To avoid any miscalculations, use `self.log(..., batch_size=batch_size)`.\n  warning_cache.warn(\n"
    },
    {
     "data": {
      "text/plain": "┏━━━━━━━━━━━━━━━━━━━━━━━━━━━┳━━━━━━━━━━━━━━━━━━━━━━━━━━━┓\n┃\u001B[1m \u001B[0m\u001B[1m       Test metric       \u001B[0m\u001B[1m \u001B[0m┃\u001B[1m \u001B[0m\u001B[1m      DataLoader 0       \u001B[0m\u001B[1m \u001B[0m┃\n┡━━━━━━━━━━━━━━━━━━━━━━━━━━━╇━━━━━━━━━━━━━━━━━━━━━━━━━━━┩\n│\u001B[36m \u001B[0m\u001B[36m    Accuracy/Testing     \u001B[0m\u001B[36m \u001B[0m│\u001B[35m \u001B[0m\u001B[35m  0.012813003733754158   \u001B[0m\u001B[35m \u001B[0m│\n│\u001B[36m \u001B[0m\u001B[36m      loss/Testing       \u001B[0m\u001B[36m \u001B[0m│\u001B[35m \u001B[0m\u001B[35m    36.21129608154297    \u001B[0m\u001B[35m \u001B[0m│\n└───────────────────────────┴───────────────────────────┘\n",
      "text/html": "<pre style=\"white-space:pre;overflow-x:auto;line-height:normal;font-family:Menlo,'DejaVu Sans Mono',consolas,'Courier New',monospace\">┏━━━━━━━━━━━━━━━━━━━━━━━━━━━┳━━━━━━━━━━━━━━━━━━━━━━━━━━━┓\n┃<span style=\"font-weight: bold\">        Test metric        </span>┃<span style=\"font-weight: bold\">       DataLoader 0        </span>┃\n┡━━━━━━━━━━━━━━━━━━━━━━━━━━━╇━━━━━━━━━━━━━━━━━━━━━━━━━━━┩\n│<span style=\"color: #008080; text-decoration-color: #008080\">     Accuracy/Testing      </span>│<span style=\"color: #800080; text-decoration-color: #800080\">   0.012813003733754158    </span>│\n│<span style=\"color: #008080; text-decoration-color: #008080\">       loss/Testing        </span>│<span style=\"color: #800080; text-decoration-color: #800080\">     36.21129608154297     </span>│\n└───────────────────────────┴───────────────────────────┘\n</pre>\n"
     },
     "metadata": {},
     "output_type": "display_data"
    },
    {
     "data": {
      "text/plain": "  0%|          | 0/205 [00:00<?, ?it/s]",
      "application/vnd.jupyter.widget-view+json": {
       "version_major": 2,
       "version_minor": 0,
       "model_id": "6e22b892eda34d09b3f0bddfeb55e835"
      }
     },
     "metadata": {},
     "output_type": "display_data"
    },
    {
     "ename": "UnboundLocalError",
     "evalue": "local variable 'logits' referenced before assignment",
     "output_type": "error",
     "traceback": [
      "\u001B[0;31m---------------------------------------------------------------------------\u001B[0m",
      "\u001B[0;31mUnboundLocalError\u001B[0m                         Traceback (most recent call last)",
      "Input \u001B[0;32mIn [16]\u001B[0m, in \u001B[0;36m<cell line: 10>\u001B[0;34m()\u001B[0m\n\u001B[1;32m     34\u001B[0m         return_metrics \u001B[38;5;241m=\u001B[39m pickle\u001B[38;5;241m.\u001B[39mload(f)\n\u001B[1;32m     35\u001B[0m \u001B[38;5;28;01melse\u001B[39;00m:\n\u001B[0;32m---> 36\u001B[0m     logits, labels, return_metrics \u001B[38;5;241m=\u001B[39m \u001B[43mrun_and_save\u001B[49m\u001B[43m(\u001B[49m\u001B[43mbest_checkpoint\u001B[49m\u001B[43m,\u001B[49m\u001B[43m \u001B[49m\u001B[43mtest_dataloader\u001B[49m\u001B[43m,\u001B[49m\u001B[43m \u001B[49m\u001B[43mreturn_metrics\u001B[49m\u001B[43m,\u001B[49m\u001B[43m \u001B[49m\u001B[43mkey\u001B[49m\u001B[43m,\u001B[49m\u001B[43m \u001B[49m\u001B[43mexperiment_number\u001B[49m\u001B[43m)\u001B[49m\n\u001B[1;32m     38\u001B[0m accuracies, confidences, ece \u001B[38;5;241m=\u001B[39m get_confidence_and_acc_single(logits, labels, acc_func\u001B[38;5;241m=\u001B[39macc_func)\n\u001B[1;32m     39\u001B[0m return_metrics[key][experiment_number][\u001B[38;5;124m\"\u001B[39m\u001B[38;5;124mECE\u001B[39m\u001B[38;5;124m\"\u001B[39m] \u001B[38;5;241m=\u001B[39m ece\n",
      "Input \u001B[0;32mIn [12]\u001B[0m, in \u001B[0;36mrun_and_save\u001B[0;34m(_best_checkpoint, _dataloader, _return_metrics, _key, _experiment_number)\u001B[0m\n\u001B[1;32m     14\u001B[0m         end \u001B[38;5;241m=\u001B[39m start \u001B[38;5;241m+\u001B[39m \u001B[38;5;28mlen\u001B[39m(batch_labels[\u001B[38;5;241m0\u001B[39m])\n\u001B[1;32m     15\u001B[0m         labels[start: end] \u001B[38;5;241m=\u001B[39m batch_labels[\u001B[38;5;241m0\u001B[39m]\u001B[38;5;241m.\u001B[39msqueeze()\n\u001B[0;32m---> 16\u001B[0m         \u001B[43mlogits\u001B[49m[start: end, :] \u001B[38;5;241m=\u001B[39m model(x)[\u001B[38;5;241m1\u001B[39m]\n\u001B[1;32m     18\u001B[0m         start \u001B[38;5;241m=\u001B[39m end\n\u001B[1;32m     20\u001B[0m labels \u001B[38;5;241m=\u001B[39m labels\u001B[38;5;241m.\u001B[39mdetach()\u001B[38;5;241m.\u001B[39mcpu()\u001B[38;5;241m.\u001B[39mint()\n",
      "\u001B[0;31mUnboundLocalError\u001B[0m: local variable 'logits' referenced before assignment"
     ]
    },
    {
     "data": {
      "text/plain": "<Figure size 1440x1080 with 20 Axes>",
      "image/png": "[encoded data removed]"
     },
     "metadata": {},
     "output_type": "display_data"
    }
   ],
   "source": [
    "trainer = instantiate_trainer()\n",
    "    \n",
    "test_dataloader = datamodule.test_dataloader()\n",
    "for example_input, _ in test_dataloader:\n",
    "    break\n",
    "\n",
    "acc_func = torchmetrics.Accuracy(average=\"none\", num_classes=len(datamodule.unique_labels))\n",
    "    \n",
    "return_metrics = dict()\n",
    "for key, setup_path in experiments_singlelabel.items():\n",
    "    experiment_folders = [os.path.join(setup_path, str(i)) for i in np.arange(0, 19)]\n",
    "    return_metrics[key] = dict()\n",
    "    fig, axes = plt.subplots(nrows=4, ncols=5, figsize=(20,15), sharex=True, sharey=True)\n",
    "    for experiment_number, experiment_path in enumerate(tqdm(experiment_folders)):\n",
    "        print(experiment_number)\n",
    "        with open(os.path.join(experiment_path, \"main.log\"), \"r\") as f:\n",
    "            complete_log = f.readlines()\n",
    "            found_best_checkpoint = False\n",
    "            for line in complete_log:\n",
    "                # print(line)\n",
    "                if found_best_checkpoint:\n",
    "                    best_checkpoint = line.strip()\n",
    "                    # print(f\"set best checkpoint to {best_checkpoint}\")\n",
    "                    break\n",
    "                    \n",
    "                if \"[main.main][INFO] - Best checkpoint path:\" in line:\n",
    "                    found_best_checkpoint = True\n",
    "                    # print(f\"found best checkpoint: {line}\")\n",
    "        if os.path.isfile(f\"test_results/labels_{key}_{experiment_number}.pt\"):\n",
    "            print(f\"loading {key}_{experiment_number} from file\")\n",
    "            logits = torch.load(f\"test_results/logits_{key}_{experiment_number}.pt\")\n",
    "            labels = torch.load(f\"test_results/labels_{key}_{experiment_number}.pt\")\n",
    "            with open(f\"test_results/dict_{key}_{experiment_number}.pkl\", 'rb') as f:\n",
    "                return_metrics = pickle.load(f)\n",
    "        else:\n",
    "            logits, labels, return_metrics = run_and_save(best_checkpoint, test_dataloader, return_metrics, key, experiment_number)\n",
    "\n",
    "        accuracies, confidences, ece = get_confidence_and_acc_single(logits, labels, acc_func=acc_func)\n",
    "        return_metrics[key][experiment_number][\"ECE\"] = ece\n",
    "\n",
    "        prob_scaling = EvalWrapper(temperature_file=get_temperature_file(best_checkpoint),\n",
    "                                   training_distribution_file=get_distribution_file(best_checkpoint),\n",
    "                                   device=\"cpu\")\n",
    "\n",
    "        corrected_probabilities = prob_scaling(logits=logits, correct_probabilities_with_training_prior=True)\n",
    "        accuracies_corrected, confidences_corrected, ece_corrected = get_confidence_and_acc_single(corrected_probabilities,\n",
    "                                                                                                   labels,\n",
    "                                                                                                   acc_func=acc_func,\n",
    "                                                                                                   logits_are_probs=True)\n",
    "        temp_scaled_logits = prob_scaling(logits=logits, correct_probabilities_with_temperature=True)\n",
    "        accuracies_temp, confidences_temp, ece_temp = get_confidence_and_acc_single(temp_scaled_logits,\n",
    "                                                                                    labels,\n",
    "                                                                                    acc_func=acc_func,\n",
    "                                                                                    logits_are_probs=False)\n",
    "        temp_and_prior_corrected_probabilities = prob_scaling(logits=temp_scaled_logits,\n",
    "                                                              correct_probabilities_with_training_prior=True)\n",
    "        accuracies_temp_and_corrected, confidences_temp_and_corrected, ece_temp_and_corrected = get_confidence_and_acc_single(temp_and_prior_corrected_probabilities, labels, acc_func=acc_func, logits_are_probs=False)\n",
    "\n",
    "        ax = axes.flatten()[experiment_number]\n",
    "        sns.lineplot(x=confidences.cpu().numpy(), y=accuracies.cpu().numpy(), ax=ax, label=\"pure NN outputs\")\n",
    "        sns.lineplot(x=confidences_corrected.cpu().numpy(), y=accuracies_corrected.cpu().numpy(), ax=ax, label=\"prior corrected outputs\")\n",
    "        sns.lineplot(x=confidences_temp.cpu().numpy(), y=accuracies_temp.cpu().numpy(), ax=ax, label=\"temp scaled outputs\")\n",
    "        sns.lineplot(x=confidences_temp_and_corrected.cpu().numpy(), y=accuracies_temp_and_corrected.cpu().numpy(), ax=ax, label=\"temp scaled and corrected\")\n",
    "        ax.plot(np.linspace(0,1,100), np.linspace(0,1,100), c=\"grey\", ls=\"--\")\n",
    "        ax.set_xlabel(\"Confidence\")\n",
    "        ax.set_ylabel(\"Accuracy\")\n",
    "        ax.set_title(f\"{key} | {data_splits_per_experiment[experiment_number]}\")\n",
    "        ax.legend(loc=\"best\")\n",
    "    plt.savefig(f\"ConfidenceAccuracy{key}.png\", dpi=300)\n",
    "    plt.show()\n",
    "    plt.close(\"all\")\n",
    "    "
   ]
  },
  {
   "cell_type": "code",
   "execution_count": null,
   "id": "7b2a4d81-1c52-4f7e-a44d-4d5421580862",
   "metadata": {
    "pycharm": {
     "name": "#%%\n"
    },
    "trusted": false
   },
   "outputs": [],
   "source": [
    "\n",
    "datamodule.setup(stage=\"fit\")\n",
    "val_dataloader = datamodule.val_dataloader()\n",
    "\n",
    "for batch in val_dataloader:\n",
    "    example_input, _ = batch\n",
    "    break\n",
    "\n",
    "val_logits, val_labels, val_return_metrics = run_and_save(best_checkpoint, val_dataloader, return_metrics, key+\"valid\", experiment_number)"
   ]
  },
  {
   "cell_type": "code",
   "execution_count": null,
   "id": "ad187524-eb32-4e4f-b364-0e4230e614e9",
   "metadata": {
    "pycharm": {
     "name": "#%%\n"
    },
    "trusted": false
   },
   "outputs": [],
   "source": [
    "\n",
    "datamodule.setup(stage=\"test\")\n",
    "test_dataloader = datamodule.test_dataloader()\n",
    "\n",
    "for batch in test_dataloader:\n",
    "    example_input, _ = batch\n",
    "    break\n",
    "\n",
    "test_logits, test_labels, test_return_metrics = run_and_save(best_checkpoint, test_dataloader, return_metrics, key+\"test_new\", experiment_number)"
   ]
  },
  {
   "cell_type": "code",
   "execution_count": null,
   "id": "950fc000-d522-4627-8db8-5548cf83b5a7",
   "metadata": {
    "pycharm": {
     "name": "#%%\n"
    },
    "trusted": false
   },
   "outputs": [],
   "source": [
    "reform = {(outerKey, innerKey): values for outerKey, innerDict in return_metrics.items() for innerKey, values in innerDict.items()}\n",
    "single_label_df = pd.DataFrame.from_dict(reform).T\n",
    "single_label_df.index.names = (\"Model\", \"Experiment\")\n",
    "single_label_df"
   ]
  },
  {
   "cell_type": "code",
   "execution_count": null,
   "id": "26d9ef2a-3f79-424e-b26c-2389cfb2f9da",
   "metadata": {
    "pycharm": {
     "name": "#%%\n"
    },
    "trusted": false
   },
   "outputs": [],
   "source": [
    "fig, ax = plt.subplots(figsize=(15,5))\n",
    "sns.lineplot(x=\"Data Fraction\", y=\"Accuracy/Testing\", hue=\"Model\", style=\"Model\", data=single_label_df, ax=ax, palette=hereon_color_array,  markers=True, markersize=10,)\n",
    "\n",
    "# for item in data_splits_per_experiment:\n",
    "#     ax.text(item,0.3,f'{item * 100:.0f}%',color=\"grey\", horizontalalignment=\"center\", rotation=-45)\n",
    "\n",
    "ax.set_xscale(\"log\")\n",
    "plt.savefig(\"Accuracies_Testing_Singlelabel.png\", dpi=300)"
   ]
  },
  {
   "cell_type": "code",
   "execution_count": null,
   "id": "3ecba306-d534-4c4b-910b-80e41e9f7910",
   "metadata": {
    "pycharm": {
     "name": "#%%\n"
    },
    "trusted": false
   },
   "outputs": [],
   "source": [
    "fig, ax = plt.subplots(figsize=(15,5))\n",
    "sns.lineplot(x=\"Data Fraction\", y=\"ECE\", hue=\"Model\", style=\"Model\", data=single_label_df, ax=ax, palette=hereon_color_array,  markers=True, markersize=10,)\n",
    "\n",
    "for item in data_splits_per_experiment:\n",
    "    ax.text(item,0.2,f'{item * 100:.0f}%',color=\"grey\", horizontalalignment=\"center\", rotation=-45)\n",
    "\n",
    "ax.set_xscale(\"log\")\n",
    "ax.legend(loc=\"best\")\n",
    "plt.savefig(\"ECE_Testing_Singlelabel.png\", dpi=300)"
   ]
  },
  {
   "cell_type": "code",
   "execution_count": null,
   "id": "cf5920f7-58f6-4cb8-85a6-aa242a406def",
   "metadata": {
    "pycharm": {
     "name": "#%%\n"
    },
    "trusted": false
   },
   "outputs": [],
   "source": [
    "fig, ax = plt.subplots(figsize=(15,5))\n",
    "sns.lineplot(x=\"Data Fraction\", y=\"loss/Testing\", hue=\"Model\", style=\"Model\", data=single_label_df, ax=ax, palette=hereon_color_array,  markers=True, markersize=10,)\n",
    "\n",
    "for item in data_splits_per_experiment:\n",
    "    ax.text(item,2,f'{item * 100:.0f}%',color=\"grey\", horizontalalignment=\"center\", rotation=-45)\n",
    "\n",
    "ax.set_xscale(\"log\")\n",
    "ax.legend(loc=\"best\")\n",
    "plt.savefig(\"NLL_Testing_Singlelabel.png\", dpi=300)"
   ]
  },
  {
   "cell_type": "code",
   "execution_count": null,
   "id": "701413fd-84bc-4b34-886f-6ea63de73181",
   "metadata": {
    "pycharm": {
     "name": "#%%\n"
    },
    "trusted": false
   },
   "outputs": [],
   "source": []
  }
 ],
 "metadata": {
  "kernelspec": {
   "display_name": "Plankton",
   "language": "python",
   "name": "plankton"
  },
  "language_info": {
   "codemirror_mode": {
    "name": "ipython",
    "version": 3
   },
   "file_extension": ".py",
   "mimetype": "text/x-python",
   "name": "python",
   "nbconvert_exporter": "python",
   "pygments_lexer": "ipython3",
   "version": "3.8.13"
  }
 },
 "nbformat": 4,
 "nbformat_minor": 5
}