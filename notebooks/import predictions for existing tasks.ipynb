{
 "cells": [
  {
   "cell_type": "code",
   "execution_count": 36,
   "id": "82ef0681",
   "metadata": {},
   "outputs": [],
   "source": [
    "from label_studio_sdk import Client\n",
    "import pandas as pd\n",
    "import collections\n",
    "\n",
    "# update these variables based on what you see in the terminal when starting label studio\n",
    "LABEL_STUDIO_URL = 'http://localhost:8883'\n",
    "API_KEY = '061663eb1d5f2e6ff2fb830326e7173c538c4817'"
   ]
  },
  {
   "cell_type": "code",
   "execution_count": 2,
   "id": "4dfe98d3",
   "metadata": {},
   "outputs": [],
   "source": [
    "target_project = 'Testimport_rois_20221102_102108'\n",
    "\n",
    "predictions_to_import = [\n",
    "    ('20220805/20220805_0800/20220805_080714.664.0.png', 'Noctiluca' ,),\n",
    "    ('20220623/20220623_0700/20220623_071103.834.1.png', 'Copepods')\n",
    "]"
   ]
  },
  {
   "cell_type": "code",
   "execution_count": 8,
   "id": "f8899848-eb95-42cd-8c0f-4bfdd3f828d9",
   "metadata": {},
   "outputs": [
    {
     "data": {
      "text/html": [
       "<div>\n",
       "<style scoped>\n",
       "    .dataframe tbody tr th:only-of-type {\n",
       "        vertical-align: middle;\n",
       "    }\n",
       "\n",
       "    .dataframe tbody tr th {\n",
       "        vertical-align: top;\n",
       "    }\n",
       "\n",
       "    .dataframe thead th {\n",
       "        text-align: right;\n",
       "    }\n",
       "</style>\n",
       "<table border=\"1\" class=\"dataframe\">\n",
       "  <thead>\n",
       "    <tr style=\"text-align: right;\">\n",
       "      <th></th>\n",
       "      <th>file</th>\n",
       "      <th>prediction</th>\n",
       "      <th>p_Blurry</th>\n",
       "      <th>p_Bubbles</th>\n",
       "      <th>p_Copepods</th>\n",
       "      <th>p_Ctenophore</th>\n",
       "      <th>p_Diatom chain</th>\n",
       "      <th>p_Dinoflagellate</th>\n",
       "      <th>p_Marine snow</th>\n",
       "      <th>p_Noctiluca</th>\n",
       "      <th>p_Other</th>\n",
       "      <th>p_Pluteus larvae</th>\n",
       "    </tr>\n",
       "  </thead>\n",
       "  <tbody>\n",
       "    <tr>\n",
       "      <th>0</th>\n",
       "      <td>/gpfs/work/vaswani/LPcruises/rois/20220623/202...</td>\n",
       "      <td>Noctiluca</td>\n",
       "      <td>0.000264</td>\n",
       "      <td>0.000007</td>\n",
       "      <td>0.000007</td>\n",
       "      <td>0.000007</td>\n",
       "      <td>1.544579e-06</td>\n",
       "      <td>0.000002</td>\n",
       "      <td>0.000004</td>\n",
       "      <td>0.999679</td>\n",
       "      <td>0.000019</td>\n",
       "      <td>0.000010</td>\n",
       "    </tr>\n",
       "    <tr>\n",
       "      <th>1</th>\n",
       "      <td>/gpfs/work/vaswani/LPcruises/rois/20220623/202...</td>\n",
       "      <td>Blurry</td>\n",
       "      <td>0.863435</td>\n",
       "      <td>0.001758</td>\n",
       "      <td>0.002701</td>\n",
       "      <td>0.001616</td>\n",
       "      <td>6.855118e-03</td>\n",
       "      <td>0.000896</td>\n",
       "      <td>0.006884</td>\n",
       "      <td>0.107287</td>\n",
       "      <td>0.007222</td>\n",
       "      <td>0.001347</td>\n",
       "    </tr>\n",
       "    <tr>\n",
       "      <th>2</th>\n",
       "      <td>/gpfs/work/vaswani/LPcruises/rois/20220623/202...</td>\n",
       "      <td>Marine snow</td>\n",
       "      <td>0.048235</td>\n",
       "      <td>0.000015</td>\n",
       "      <td>0.000102</td>\n",
       "      <td>0.000013</td>\n",
       "      <td>2.409353e-04</td>\n",
       "      <td>0.000008</td>\n",
       "      <td>0.950067</td>\n",
       "      <td>0.001079</td>\n",
       "      <td>0.000228</td>\n",
       "      <td>0.000011</td>\n",
       "    </tr>\n",
       "    <tr>\n",
       "      <th>3</th>\n",
       "      <td>/gpfs/work/vaswani/LPcruises/rois/20220623/202...</td>\n",
       "      <td>Noctiluca</td>\n",
       "      <td>0.000001</td>\n",
       "      <td>0.000005</td>\n",
       "      <td>0.000002</td>\n",
       "      <td>0.000004</td>\n",
       "      <td>7.838775e-07</td>\n",
       "      <td>0.000002</td>\n",
       "      <td>0.000001</td>\n",
       "      <td>0.999958</td>\n",
       "      <td>0.000013</td>\n",
       "      <td>0.000012</td>\n",
       "    </tr>\n",
       "    <tr>\n",
       "      <th>4</th>\n",
       "      <td>/gpfs/work/vaswani/LPcruises/rois/20220623/202...</td>\n",
       "      <td>Noctiluca</td>\n",
       "      <td>0.000437</td>\n",
       "      <td>0.000192</td>\n",
       "      <td>0.000173</td>\n",
       "      <td>0.000164</td>\n",
       "      <td>8.351880e-05</td>\n",
       "      <td>0.000085</td>\n",
       "      <td>0.000357</td>\n",
       "      <td>0.997755</td>\n",
       "      <td>0.000464</td>\n",
       "      <td>0.000289</td>\n",
       "    </tr>\n",
       "  </tbody>\n",
       "</table>\n",
       "</div>"
      ],
      "text/plain": [
       "                                                file   prediction  p_Blurry  \\\n",
       "0  /gpfs/work/vaswani/LPcruises/rois/20220623/202...    Noctiluca  0.000264   \n",
       "1  /gpfs/work/vaswani/LPcruises/rois/20220623/202...       Blurry  0.863435   \n",
       "2  /gpfs/work/vaswani/LPcruises/rois/20220623/202...  Marine snow  0.048235   \n",
       "3  /gpfs/work/vaswani/LPcruises/rois/20220623/202...    Noctiluca  0.000001   \n",
       "4  /gpfs/work/vaswani/LPcruises/rois/20220623/202...    Noctiluca  0.000437   \n",
       "\n",
       "   p_Bubbles  p_Copepods  p_Ctenophore  p_Diatom chain  p_Dinoflagellate  \\\n",
       "0   0.000007    0.000007      0.000007    1.544579e-06          0.000002   \n",
       "1   0.001758    0.002701      0.001616    6.855118e-03          0.000896   \n",
       "2   0.000015    0.000102      0.000013    2.409353e-04          0.000008   \n",
       "3   0.000005    0.000002      0.000004    7.838775e-07          0.000002   \n",
       "4   0.000192    0.000173      0.000164    8.351880e-05          0.000085   \n",
       "\n",
       "   p_Marine snow  p_Noctiluca   p_Other  p_Pluteus larvae  \n",
       "0       0.000004     0.999679  0.000019          0.000010  \n",
       "1       0.006884     0.107287  0.007222          0.001347  \n",
       "2       0.950067     0.001079  0.000228          0.000011  \n",
       "3       0.000001     0.999958  0.000013          0.000012  \n",
       "4       0.000357     0.997755  0.000464          0.000289  "
      ]
     },
     "execution_count": 8,
     "metadata": {},
     "output_type": "execute_result"
    }
   ],
   "source": [
    "csv_file = \"../data/rois_20221107_135029.csv\"\n",
    "df = pd.read_csv(csv_file, delimiter=\";\")\n",
    "df.head()"
   ]
  },
  {
   "cell_type": "code",
   "execution_count": 20,
   "id": "f7f9d501-7497-418e-b6a4-a3865e795342",
   "metadata": {},
   "outputs": [
    {
     "data": {
      "text/plain": [
       "['p_Blurry',\n",
       " 'p_Bubbles',\n",
       " 'p_Copepods',\n",
       " 'p_Ctenophore',\n",
       " 'p_Diatom chain',\n",
       " 'p_Dinoflagellate',\n",
       " 'p_Marine snow',\n",
       " 'p_Noctiluca',\n",
       " 'p_Other',\n",
       " 'p_Pluteus larvae']"
      ]
     },
     "execution_count": 20,
     "metadata": {},
     "output_type": "execute_result"
    }
   ],
   "source": [
    "p_cols = [x for x in df.columns if x.startswith(\"p_\")]\n",
    "p_cols"
   ]
  },
  {
   "cell_type": "code",
   "execution_count": 67,
   "id": "10eac154-0a22-4c21-acdd-fcab67a4a37a",
   "metadata": {},
   "outputs": [
    {
     "ename": "NameError",
     "evalue": "name 'col_name' is not defined",
     "output_type": "error",
     "traceback": [
      "\u001b[1;31m---------------------------------------------------------------------------\u001b[0m",
      "\u001b[1;31mNameError\u001b[0m                                 Traceback (most recent call last)",
      "Input \u001b[1;32mIn [67]\u001b[0m, in \u001b[0;36m<cell line: 8>\u001b[1;34m()\u001b[0m\n\u001b[0;32m     10\u001b[0m orderd_dict \u001b[38;5;241m=\u001b[39m collections\u001b[38;5;241m.\u001b[39mOrderedDict(\u001b[38;5;28msorted\u001b[39m(value_dict\u001b[38;5;241m.\u001b[39mitems(), reverse\u001b[38;5;241m=\u001b[39m\u001b[38;5;28;01mTrue\u001b[39;00m))\n\u001b[0;32m     11\u001b[0m orderd_dict\n\u001b[0;32m     12\u001b[0m predictions_to_import\u001b[38;5;241m.\u001b[39mappend(\n\u001b[0;32m     13\u001b[0m     (\n\u001b[0;32m     14\u001b[0m         line[\u001b[38;5;124m\"\u001b[39m\u001b[38;5;124mfile\u001b[39m\u001b[38;5;124m\"\u001b[39m]\u001b[38;5;241m.\u001b[39msplit(\u001b[38;5;124m\"\u001b[39m\u001b[38;5;124mrois/\u001b[39m\u001b[38;5;124m\"\u001b[39m)[\u001b[38;5;241m-\u001b[39m\u001b[38;5;241m1\u001b[39m], \n\u001b[0;32m     15\u001b[0m         line[\u001b[38;5;124m\"\u001b[39m\u001b[38;5;124mprediction\u001b[39m\u001b[38;5;124m\"\u001b[39m], \n\u001b[1;32m---> 16\u001b[0m         [x \u001b[38;5;28;01mfor\u001b[39;00m x \u001b[38;5;129;01min\u001b[39;00m (\u001b[38;5;124mf\u001b[39m\u001b[38;5;124m\"\u001b[39m\u001b[38;5;132;01m{\u001b[39;00mcol_name\u001b[38;5;132;01m}\u001b[39;00m\u001b[38;5;124m=\u001b[39m\u001b[38;5;132;01m{\u001b[39;00mp_value\u001b[38;5;132;01m:\u001b[39;00m\u001b[38;5;124m.02f\u001b[39m\u001b[38;5;132;01m}\u001b[39;00m\u001b[38;5;124m\"\u001b[39m) \u001b[38;5;28;01mfor\u001b[39;00m i, (p_value, col_name) \u001b[38;5;129;01min\u001b[39;00m \u001b[38;5;28menumerate\u001b[39m(orderd_dict\u001b[38;5;241m.\u001b[39mitems()) \u001b[38;5;28;01mif\u001b[39;00m i\u001b[38;5;241m<\u001b[39m\u001b[38;5;241m=\u001b[39mn_top\u001b[38;5;241m-\u001b[39m\u001b[38;5;241m1\u001b[39m]\n\u001b[0;32m     17\u001b[0m     )\n\u001b[0;32m     18\u001b[0m )\n",
      "\u001b[1;31mNameError\u001b[0m: name 'col_name' is not defined"
     ]
    }
   ],
   "source": [
    "df_relevant = df[[\"file\", \"prediction\"]]\n",
    "\n",
    "predictions_to_import = []\n",
    "p_cols = [x for x in df.columns if x.startswith(\"p_\")]\n",
    "\n",
    "n_top = 3\n",
    "\n",
    "for idx, line in df.iterrows():\n",
    "    value_dict = {line[p_col]: p_col for p_col in p_cols}\n",
    "    orderd_dict = collections.OrderedDict(sorted(value_dict.items(), reverse=True))\n",
    "    orderd_dict\n",
    "    predictions_to_import.append(\n",
    "        (\n",
    "            line[\"file\"].split(\"rois/\")[-1], \n",
    "            line[\"prediction\"], \n",
    "            [(f\"{col_name}={p_value:.02f}\") for i, (p_value, col_name) in enumerate(orderd_dict.items()) if i<=n_top-1 for x in ]\n",
    "        )\n",
    "    )"
   ]
  },
  {
   "cell_type": "code",
   "execution_count": 66,
   "id": "e3fddd63-c2be-4cd0-8ea4-c11da9545c16",
   "metadata": {},
   "outputs": [
    {
     "data": {
      "text/plain": [
       "[('20220623/20220623_0700/20220623_071103.834.1.png',\n",
       "  'Noctiluca',\n",
       "  ['p_Noctiluca=1.00', 'p_Blurry=0.00', 'p_Other=0.00']),\n",
       " ('20220623/20220623_0700/20220623_074755.195.0.png',\n",
       "  'Blurry',\n",
       "  ['p_Blurry=0.86', 'p_Noctiluca=0.11', 'p_Other=0.01']),\n",
       " ('20220623/20220623_0700/20220623_073445.339.0.png',\n",
       "  'Marine snow',\n",
       "  ['p_Marine snow=0.95', 'p_Blurry=0.05', 'p_Noctiluca=0.00']),\n",
       " ('20220623/20220623_0700/20220623_072507.641.0.png',\n",
       "  'Noctiluca',\n",
       "  ['p_Noctiluca=1.00', 'p_Other=0.00', 'p_Pluteus larvae=0.00']),\n",
       " ('20220623/20220623_0700/20220623_074655.650.1.png',\n",
       "  'Noctiluca',\n",
       "  ['p_Noctiluca=1.00', 'p_Other=0.00', 'p_Blurry=0.00']),\n",
       " ('20220623/20220623_0700/20220623_075059.894.0.png',\n",
       "  'Blurry',\n",
       "  ['p_Blurry=0.81', 'p_Noctiluca=0.19', 'p_Marine snow=0.00']),\n",
       " ('20220623/20220623_0700/20220623_074329.732.0.png',\n",
       "  'Marine snow',\n",
       "  ['p_Marine snow=0.41', 'p_Blurry=0.39', 'p_Noctiluca=0.04']),\n",
       " ('20220623/20220623_0700/20220623_074354.951.0.png',\n",
       "  'Noctiluca',\n",
       "  ['p_Noctiluca=1.00', 'p_Other=0.00', 'p_Pluteus larvae=0.00']),\n",
       " ('20220623/20220623_0700/20220623_074954.501.0.png',\n",
       "  'Noctiluca',\n",
       "  ['p_Noctiluca=1.00', 'p_Other=0.00', 'p_Blurry=0.00']),\n",
       " ('20220623/20220623_0700/20220623_075048.341.0.png',\n",
       "  'Noctiluca',\n",
       "  ['p_Noctiluca=1.00', 'p_Other=0.00', 'p_Pluteus larvae=0.00']),\n",
       " ('20220623/20220623_0700/20220623_072744.108.0.png',\n",
       "  'Noctiluca',\n",
       "  ['p_Noctiluca=1.00', 'p_Blurry=0.00', 'p_Other=0.00']),\n",
       " ('20220623/20220623_0700/20220623_073342.278.0.png',\n",
       "  'Noctiluca',\n",
       "  ['p_Noctiluca=0.99', 'p_Blurry=0.00', 'p_Other=0.00']),\n",
       " ('20220623/20220623_0700/20220623_075941.416.0.png',\n",
       "  'Blurry',\n",
       "  ['p_Blurry=1.00', 'p_Marine snow=0.00', 'p_Noctiluca=0.00']),\n",
       " ('20220623/20220623_0700/20220623_075601.189.0.png',\n",
       "  'Blurry',\n",
       "  ['p_Blurry=0.98', 'p_Marine snow=0.01', 'p_Noctiluca=0.00']),\n",
       " ('20220623/20220623_0700/20220623_072140.815.0.png',\n",
       "  'Noctiluca',\n",
       "  ['p_Noctiluca=0.77', 'p_Blurry=0.22', 'p_Other=0.00']),\n",
       " ('20220623/20220623_0700/20220623_075627.958.0.png',\n",
       "  'Marine snow',\n",
       "  ['p_Marine snow=0.60', 'p_Noctiluca=0.27', 'p_Blurry=0.04']),\n",
       " ('20220623/20220623_0700/20220623_073943.963.0.png',\n",
       "  'Marine snow',\n",
       "  ['p_Marine snow=0.98', 'p_Blurry=0.02', 'p_Copepods=0.00']),\n",
       " ('20220623/20220623_0700/20220623_075610.416.0.png',\n",
       "  'Blurry',\n",
       "  ['p_Blurry=0.98', 'p_Noctiluca=0.01', 'p_Marine snow=0.01']),\n",
       " ('20220623/20220623_0700/20220623_075741.494.1.png',\n",
       "  'Blurry',\n",
       "  ['p_Blurry=0.99', 'p_Marine snow=0.01', 'p_Noctiluca=0.01']),\n",
       " ('20220623/20220623_0700/20220623_073553.643.0.png',\n",
       "  'Blurry',\n",
       "  ['p_Blurry=0.99', 'p_Marine snow=0.01', 'p_Noctiluca=0.00'])]"
      ]
     },
     "execution_count": 66,
     "metadata": {},
     "output_type": "execute_result"
    }
   ],
   "source": [
    "predictions_to_import[:20]"
   ]
  },
  {
   "cell_type": "code",
   "execution_count": 3,
   "id": "7575a74f",
   "metadata": {},
   "outputs": [],
   "source": [
    "ls = Client(url=LABEL_STUDIO_URL, api_key=API_KEY)"
   ]
  },
  {
   "cell_type": "code",
   "execution_count": 4,
   "id": "dc381e7b",
   "metadata": {},
   "outputs": [],
   "source": [
    "all_projects = ls.list_projects()"
   ]
  },
  {
   "cell_type": "code",
   "execution_count": 5,
   "id": "e1746719",
   "metadata": {},
   "outputs": [
    {
     "name": "stdout",
     "output_type": "stream",
     "text": [
      "['Testimport_rois_20221102_102108', 'Phytodive_CNN_eval', 'Helgoland_2021_2', 'Phytodive_CPICS']\n"
     ]
    }
   ],
   "source": [
    "project_names = [p.get_params()['title'] for p in all_projects]\n",
    "print(project_names)"
   ]
  },
  {
   "cell_type": "code",
   "execution_count": 6,
   "id": "8241f087",
   "metadata": {},
   "outputs": [],
   "source": [
    "project_idx = project_names.index(target_project)"
   ]
  },
  {
   "cell_type": "code",
   "execution_count": 7,
   "id": "e53cf4a8",
   "metadata": {},
   "outputs": [],
   "source": [
    "project = all_projects[project_idx]"
   ]
  },
  {
   "cell_type": "code",
   "execution_count": 8,
   "id": "dbebb6e4",
   "metadata": {},
   "outputs": [],
   "source": [
    "tasks = project.get_tasks()  # for large projects, might need to specify a filter here or it will be slow"
   ]
  },
  {
   "cell_type": "code",
   "execution_count": 9,
   "id": "61ac5349",
   "metadata": {},
   "outputs": [
    {
     "name": "stdout",
     "output_type": "stream",
     "text": [
      "['20220805/20220805_0800/20220805_080714.664.0.png', '20220609/20220609_1000/20220609_102524.052.0.png', '20220623/20220623_0700/20220623_071103.834.1.png', '20220623/20220623_0700/20220623_071103.834.1.png']\n"
     ]
    }
   ],
   "source": [
    "images = [task['data']['image'] for task in tasks]\n",
    "\n",
    "# remove server info so we just have the relative filename\n",
    "for j, s in enumerate(images):\n",
    "    if ':' not in s:\n",
    "        continue\n",
    "    last_colon = max(loc for loc, val in enumerate(s) if val == ':')\n",
    "    images[j] = s[last_colon + 6:]\n",
    "    \n",
    "print(images)"
   ]
  },
  {
   "cell_type": "code",
   "execution_count": 21,
   "id": "d5cb47aa",
   "metadata": {},
   "outputs": [],
   "source": [
    "predictions = []\n",
    "for i, (img, label) in enumerate(predictions_to_import):\n",
    "    task_idx = images.index(img)\n",
    "    predictions.append({\n",
    "        \"task\": tasks[task_idx]['id'],\n",
    "        \"result\": label\n",
    "    })"
   ]
  },
  {
   "cell_type": "code",
   "execution_count": 24,
   "id": "4e9d9e10",
   "metadata": {},
   "outputs": [
    {
     "data": {
      "text/plain": [
       "[{'task': 1091170, 'result': 'Noctiluca'},\n",
       " {'task': 1091172, 'result': 'Copepods'}]"
      ]
     },
     "execution_count": 24,
     "metadata": {},
     "output_type": "execute_result"
    }
   ],
   "source": [
    "predictions"
   ]
  },
  {
   "cell_type": "code",
   "execution_count": 23,
   "id": "f5a4f88a",
   "metadata": {},
   "outputs": [
    {
     "data": {
      "text/plain": [
       "{'created': 2}"
      ]
     },
     "execution_count": 23,
     "metadata": {},
     "output_type": "execute_result"
    }
   ],
   "source": [
    "project.create_predictions(predictions)"
   ]
  }
 ],
 "metadata": {
  "kernelspec": {
   "display_name": "plankton",
   "language": "python",
   "name": "plankton"
  },
  "language_info": {
   "codemirror_mode": {
    "name": "ipython",
    "version": 3
   },
   "file_extension": ".py",
   "mimetype": "text/x-python",
   "name": "python",
   "nbconvert_exporter": "python",
   "pygments_lexer": "ipython3",
   "version": "3.9.13"
  }
 },
 "nbformat": 4,
 "nbformat_minor": 5
}
