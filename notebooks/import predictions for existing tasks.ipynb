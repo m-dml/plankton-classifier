{
 "cells": [
  {
   "cell_type": "code",
   "execution_count": 1,
   "id": "82ef0681",
   "metadata": {},
   "outputs": [],
   "source": [
    "from label_studio_sdk import Client\n",
    "\n",
    "# update these variables based on what you see in the terminal when starting label studio\n",
    "LABEL_STUDIO_URL = 'http://localhost:8883'\n",
    "API_KEY = '061663eb1d5f2e6ff2fb830326e7173c538c4817'"
   ]
  },
  {
   "cell_type": "code",
   "execution_count": 16,
   "id": "4dfe98d3",
   "metadata": {},
   "outputs": [],
   "source": [
    "target_project = 'Testimport_rois_20221102_102108'\n",
    "\n",
    "predictions_to_import = [\n",
    "    ('20220805/20220805_0800/20220805_080714.664.0.png', 'Noctiluca'),\n",
    "    ('20220623/20220623_0700/20220623_071103.834.1.png', 'Copepods')\n",
    "]"
   ]
  },
  {
   "cell_type": "code",
   "execution_count": 3,
   "id": "7575a74f",
   "metadata": {},
   "outputs": [],
   "source": [
    "ls = Client(url=LABEL_STUDIO_URL, api_key=API_KEY)"
   ]
  },
  {
   "cell_type": "code",
   "execution_count": 4,
   "id": "dc381e7b",
   "metadata": {},
   "outputs": [],
   "source": [
    "all_projects = ls.list_projects()"
   ]
  },
  {
   "cell_type": "code",
   "execution_count": 5,
   "id": "e1746719",
   "metadata": {},
   "outputs": [
    {
     "name": "stdout",
     "output_type": "stream",
     "text": [
      "['Testimport_rois_20221102_102108', 'Phytodive_CNN_eval', 'Helgoland_2021_2', 'Phytodive_CPICS']\n"
     ]
    }
   ],
   "source": [
    "project_names = [p.get_params()['title'] for p in all_projects]\n",
    "print(project_names)"
   ]
  },
  {
   "cell_type": "code",
   "execution_count": 6,
   "id": "8241f087",
   "metadata": {},
   "outputs": [],
   "source": [
    "project_idx = project_names.index(target_project)"
   ]
  },
  {
   "cell_type": "code",
   "execution_count": 7,
   "id": "e53cf4a8",
   "metadata": {},
   "outputs": [],
   "source": [
    "project = all_projects[project_idx]"
   ]
  },
  {
   "cell_type": "code",
   "execution_count": 8,
   "id": "dbebb6e4",
   "metadata": {},
   "outputs": [],
   "source": [
    "tasks = project.get_tasks()  # for large projects, might need to specify a filter here or it will be slow"
   ]
  },
  {
   "cell_type": "code",
   "execution_count": 9,
   "id": "61ac5349",
   "metadata": {},
   "outputs": [
    {
     "name": "stdout",
     "output_type": "stream",
     "text": [
      "['20220805/20220805_0800/20220805_080714.664.0.png', '20220609/20220609_1000/20220609_102524.052.0.png', '20220623/20220623_0700/20220623_071103.834.1.png', '20220623/20220623_0700/20220623_071103.834.1.png']\n"
     ]
    }
   ],
   "source": [
    "images = [task['data']['image'] for task in tasks]\n",
    "\n",
    "# remove server info so we just have the relative filename\n",
    "for j, s in enumerate(images):\n",
    "    if ':' not in s:\n",
    "        continue\n",
    "    last_colon = max(loc for loc, val in enumerate(s) if val == ':')\n",
    "    images[j] = s[last_colon + 6:]\n",
    "    \n",
    "print(images)"
   ]
  },
  {
   "cell_type": "code",
   "execution_count": 21,
   "id": "d5cb47aa",
   "metadata": {},
   "outputs": [],
   "source": [
    "predictions = []\n",
    "for i, (img, label) in enumerate(predictions_to_import):\n",
    "    task_idx = images.index(img)\n",
    "    predictions.append({\n",
    "        \"task\": tasks[task_idx]['id'],\n",
    "        \"result\": label\n",
    "    })"
   ]
  },
  {
   "cell_type": "code",
   "execution_count": 24,
   "id": "4e9d9e10",
   "metadata": {},
   "outputs": [
    {
     "data": {
      "text/plain": [
       "[{'task': 1091170, 'result': 'Noctiluca'},\n",
       " {'task': 1091172, 'result': 'Copepods'}]"
      ]
     },
     "execution_count": 24,
     "metadata": {},
     "output_type": "execute_result"
    }
   ],
   "source": [
    "predictions"
   ]
  },
  {
   "cell_type": "code",
   "execution_count": 23,
   "id": "f5a4f88a",
   "metadata": {},
   "outputs": [
    {
     "data": {
      "text/plain": [
       "{'created': 2}"
      ]
     },
     "execution_count": 23,
     "metadata": {},
     "output_type": "execute_result"
    }
   ],
   "source": [
    "project.create_predictions(predictions)"
   ]
  }
 ],
 "metadata": {
  "kernelspec": {
   "display_name": "Python 3 (ipykernel)",
   "language": "python",
   "name": "python3"
  },
  "language_info": {
   "codemirror_mode": {
    "name": "ipython",
    "version": 3
   },
   "file_extension": ".py",
   "mimetype": "text/x-python",
   "name": "python",
   "nbconvert_exporter": "python",
   "pygments_lexer": "ipython3",
   "version": "3.9.13"
  }
 },
 "nbformat": 4,
 "nbformat_minor": 5
}
