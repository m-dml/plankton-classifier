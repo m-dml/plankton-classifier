{
 "cells": [
  {
   "cell_type": "code",
   "execution_count": 1,
   "id": "f65fb8f3-5b6a-4fa6-8f1e-0e981f76897f",
   "metadata": {},
   "outputs": [],
   "source": [
    "import matplotlib.pyplot as plt\n",
    "import seaborn as sns\n",
    "import numpy as np\n",
    "\n",
    "import tensorflow as tf\n",
    "import glob\n",
    "import os\n",
    "import tensorboard as tb\n",
    "import glob\n",
    "import os\n",
    "import pprint\n",
    "import traceback\n",
    "import yaml\n",
    "import matplotlib.pyplot as plt\n",
    "import seaborn as sns\n",
    "sns.set()\n",
    "\n",
    "import click\n",
    "import pandas as pd\n",
    "from tensorboard.backend.event_processing.event_accumulator import EventAccumulator\n",
    "from matplotlib.colors import ListedColormap"
   ]
  },
  {
   "cell_type": "code",
   "execution_count": 4,
   "id": "c5eb5898-e3d6-4f3c-b374-47d425c69a00",
   "metadata": {},
   "outputs": [],
   "source": [
    "sns.set()\n",
    "\n",
    "hereon_color_array = np.array([\n",
    "    [230, 0, 70],\n",
    "    [0,145,160],\n",
    "    [0, 170, 230],\n",
    "    [250,180,35],\n",
    "    [0,70,125],\n",
    "    [175, 25, 60],\n",
    "    [170, 200 ,70],\n",
    "    [250,115,80],\n",
    "    [140, 90, 180],\n",
    "      \n",
    "])\n",
    "hereon_color_array = hereon_color_array / 255\n",
    "hereon_cmap = ListedColormap(hereon_color_array)\n",
    "\n",
    "sns.set_palette(hereon_color_array)"
   ]
  },
  {
   "cell_type": "code",
   "execution_count": 5,
   "id": "f9f93ab9-c803-4e76-841c-5715d8df07e3",
   "metadata": {},
   "outputs": [],
   "source": [
    "def tflog2pandas(path: str) -> pd.DataFrame:\n",
    "    \"\"\"convert single tensorflow log file to pandas DataFrame\n",
    "    Parameters\n",
    "    ----------\n",
    "    path : str\n",
    "        path to tensorflow log file\n",
    "    Returns\n",
    "    -------\n",
    "    pd.DataFrame\n",
    "        converted dataframe\n",
    "    \"\"\"\n",
    "    DEFAULT_SIZE_GUIDANCE = {\n",
    "        \"compressedHistograms\": 1,\n",
    "        \"images\": 1,\n",
    "        \"scalars\": 0,  # 0 means load all\n",
    "        \"histograms\": 1,\n",
    "    }\n",
    "    UNUSED_TAGS = [\"on_train\", \"Cond. Acc\"]\n",
    "    runlog_data = pd.DataFrame({\"metric\": [], \"value\": [], \"step\": []})\n",
    "    try:\n",
    "        event_acc = EventAccumulator(path, DEFAULT_SIZE_GUIDANCE)\n",
    "        event_acc.Reload()\n",
    "        tags = event_acc.Tags()[\"scalars\"]\n",
    "        for tag in tags:\n",
    "            if any([(unused_tag in tag) for unused_tag in UNUSED_TAGS]):\n",
    "                continue\n",
    "            event_list = event_acc.Scalars(tag)\n",
    "            values = list(map(lambda x: x.value, event_list))\n",
    "            step = list(map(lambda x: x.step, event_list))\n",
    "            r = {\"metric\": [tag] * len(step), \"value\": values, \"step\": step}\n",
    "            r = pd.DataFrame(r)\n",
    "            runlog_data = pd.concat([runlog_data, r])\n",
    "    # Dirty catch of DataLossError\n",
    "    except Exception:\n",
    "        print(\"Event file possibly corrupt: {}\".format(path))\n",
    "        traceback.print_exc()\n",
    "    return runlog_data"
   ]
  },
  {
   "cell_type": "code",
   "execution_count": 6,
   "id": "de145b55-018a-4f4e-a4cc-0f30300d11d7",
   "metadata": {},
   "outputs": [],
   "source": [
    "paths = [\n",
    "    \"/gpfs/work/machnitz/plankton_logs/juwels_results\", \n",
    "       ]\n",
    "\n",
    "counter = 0\n",
    "\n",
    "tf_files = []\n",
    "\n",
    "for path in paths:\n",
    "    for current_path, current_sub_dirs, current_files in os.walk(path):\n",
    "        for file in current_files:\n",
    "            if \"events.out.tfevents\" in file:\n",
    "                tf_files.append(os.path.join(current_path, file))"
   ]
  },
  {
   "cell_type": "code",
   "execution_count": 7,
   "id": "0a45428e-abd8-4ea8-9099-252f6b5d382e",
   "metadata": {},
   "outputs": [],
   "source": [
    "df_raw = tflog2pandas(tf_files[1])"
   ]
  },
  {
   "cell_type": "code",
   "execution_count": 17,
   "id": "8866dd03-1e1a-44bb-a19e-7dc7dff6a008",
   "metadata": {},
   "outputs": [],
   "source": [
    "DEFAULT_SIZE_GUIDANCE = {\n",
    "    \"compressedHistograms\": 1,\n",
    "    \"images\": 0,\n",
    "    \"scalars\": 0,  # 0 means load all\n",
    "    \"histograms\": 1,\n",
    "}\n",
    "UNUSED_TAGS = [\"on_train\", \"Cond. Acc\"]\n",
    "runlog_data = pd.DataFrame({\"metric\": [], \"value\": [], \"step\": []})\n",
    "\n",
    "event_acc = EventAccumulator(\"/gpfs/work/machnitz/plankton_logs/juwels_results/2022-01-18/21-34-44/0/logs/tensorboard/default/all/events.out.tfevents.1642538567.jwb0058.juwels.29177.0\", DEFAULT_SIZE_GUIDANCE)\n",
    "event_acc.Reload()\n",
    "tags = event_acc.Tags()[\"scalars\"]\n",
    "for tag in tags:\n",
    "    if any([(unused_tag in tag) for unused_tag in UNUSED_TAGS]):\n",
    "        continue\n",
    "    event_list = event_acc.Scalars(tag)\n",
    "    values = list(map(lambda x: x.value, event_list))\n",
    "    step = list(map(lambda x: x.step, event_list))\n",
    "    r = {\"metric\": [tag] * len(step), \"value\": values, \"step\": step}\n",
    "    r = pd.DataFrame(r)\n",
    "    runlog_data = pd.concat([runlog_data, r])"
   ]
  },
  {
   "cell_type": "code",
   "execution_count": 19,
   "id": "b98c825e-6378-4276-9d66-d7aa8a051fd5",
   "metadata": {},
   "outputs": [
    {
     "data": {
      "text/plain": [
       "{'images': [],\n",
       " 'audio': [],\n",
       " 'histograms': [],\n",
       " 'scalars': ['hp/loss', 'hp/accuracy', 'hp/epoch'],\n",
       " 'distributions': [],\n",
       " 'tensors': [],\n",
       " 'graph': False,\n",
       " 'meta_graph': False,\n",
       " 'run_metadata': []}"
      ]
     },
     "execution_count": 19,
     "metadata": {},
     "output_type": "execute_result"
    }
   ],
   "source": [
    "image_tags = event_acc.Tags()\n",
    "image_tags"
   ]
  },
  {
   "cell_type": "code",
   "execution_count": 10,
   "id": "3b56a5ae-0b43-4fe3-8bf9-20fedc3d35da",
   "metadata": {},
   "outputs": [],
   "source": [
    "images = event_acc.Images('Confusion_Matrix Training')"
   ]
  },
  {
   "cell_type": "code",
   "execution_count": 12,
   "id": "9b100e57-f841-4809-9bfc-66ca10d83950",
   "metadata": {},
   "outputs": [],
   "source": [
    "image = tf.io.decode_image(images[0].encoded_image_string)"
   ]
  },
  {
   "cell_type": "code",
   "execution_count": 14,
   "id": "7eb83086-4a63-4b38-8222-c58dd21e3879",
   "metadata": {},
   "outputs": [
    {
     "data": {
      "text/plain": [
       "<matplotlib.image.AxesImage at 0x7f4db06a7cd0>"
      ]
     },
     "execution_count": 14,
     "metadata": {},
     "output_type": "execute_result"
    },
    {
     "data": {
      "image/png": "[encoded data removed]",
      "text/plain": [
       "<Figure size 432x288 with 1 Axes>"
      ]
     },
     "metadata": {},
     "output_type": "display_data"
    }
   ],
   "source": [
    "plt.imshow(image.numpy())"
   ]
  },
  {
   "cell_type": "code",
   "execution_count": 16,
   "id": "0875f4c4-d899-42dd-bc7e-03113ca8b1d8",
   "metadata": {},
   "outputs": [
    {
     "data": {
      "text/plain": [
       "{'images': ['Confusion_Matrix Validation',\n",
       "  'P(best guess | true) Validation',\n",
       "  'Confusion_Matrix Training',\n",
       "  'P(best guess | true) Training'],\n",
       " 'audio': [],\n",
       " 'histograms': [],\n",
       " 'scalars': ['hp/loss',\n",
       "  'hp/accuracy',\n",
       "  'hp/epoch',\n",
       "  'Cosine LR',\n",
       "  'loss/Training',\n",
       "  'Accuracy/Training',\n",
       "  'epoch',\n",
       "  'loss/Validation',\n",
       "  'Accuracy/Validation',\n",
       "  'Cond. Acc/Jellyfish Validation',\n",
       "  'Cond. Acc/Zooplankton_Other Validation',\n",
       "  'Cond. Acc/Gastropoda Validation',\n",
       "  'Cond. Acc/Dinoflagellates Validation',\n",
       "  'Cond. Acc/Noctiluca Validation',\n",
       "  'Cond. Acc/Phytoplankton Validation',\n",
       "  'Cond. Acc/Trichodesmium Validation',\n",
       "  'Cond. Acc/Radiolaria Validation',\n",
       "  'Cond. Acc/Appendicularia Validation',\n",
       "  'Cond. Acc/MarineSnow Validation',\n",
       "  'Cond. Acc/Ceratocoris Validation',\n",
       "  'Cond. Acc/Trochophora Validation',\n",
       "  'Cond. Acc/Blurry Validation',\n",
       "  'Cond. Acc/Bubbles Validation',\n",
       "  'Cond. Acc/Copepods Validation',\n",
       "  'Cond. Acc/Jellyfish Training',\n",
       "  'Cond. Acc/Zooplankton_Other Training',\n",
       "  'Cond. Acc/Gastropoda Training',\n",
       "  'Cond. Acc/Dinoflagellates Training',\n",
       "  'Cond. Acc/Noctiluca Training',\n",
       "  'Cond. Acc/Phytoplankton Training',\n",
       "  'Cond. Acc/Trichodesmium Training',\n",
       "  'Cond. Acc/Radiolaria Training',\n",
       "  'Cond. Acc/Appendicularia Training',\n",
       "  'Cond. Acc/MarineSnow Training',\n",
       "  'Cond. Acc/Ceratocoris Training',\n",
       "  'Cond. Acc/Trochophora Training',\n",
       "  'Cond. Acc/Blurry Training',\n",
       "  'Cond. Acc/Bubbles Training',\n",
       "  'Cond. Acc/Copepods Training'],\n",
       " 'distributions': [],\n",
       " 'tensors': [],\n",
       " 'graph': True,\n",
       " 'meta_graph': False,\n",
       " 'run_metadata': ['step1']}"
      ]
     },
     "execution_count": 16,
     "metadata": {},
     "output_type": "execute_result"
    }
   ],
   "source": [
    "event_acc.Tags()"
   ]
  },
  {
   "cell_type": "code",
   "execution_count": 9,
   "id": "d9fa4965-48b5-48ef-9ede-13f3491e9b15",
   "metadata": {},
   "outputs": [
    {
     "name": "stderr",
     "output_type": "stream",
     "text": [
      "Global seed set to 0\n",
      "GPU available: True, used: True\n",
      "TPU available: False, using: 0 TPU cores\n",
      "IPU available: False, using: 0 IPUs\n",
      "LOCAL_RANK: 0 - CUDA_VISIBLE_DEVICES: [0]\n",
      "Missing logger folder: logs/default\n",
      "\n",
      "  | Name    | Type   | Params\n",
      "-----------------------------------\n",
      "0 | layer_1 | Linear | 30.8 K\n",
      "1 | layer_2 | Linear | 1.3 K \n",
      "-----------------------------------\n",
      "32.1 K    Trainable params\n",
      "0         Non-trainable params\n",
      "32.1 K    Total params\n",
      "0.129     Total estimated model params size (MB)\n"
     ]
    },
    {
     "name": "stdout",
     "output_type": "stream",
     "text": [
      "                                                                                                                                                                                                                 "
     ]
    },
    {
     "name": "stderr",
     "output_type": "stream",
     "text": [
      "Global seed set to 0\n"
     ]
    },
    {
     "name": "stdout",
     "output_type": "stream",
     "text": [
      "Epoch 0:  50%|█████████████████████████████████████████████████████████████████████                                                                     | 100/200 [00:00<00:00, 196.89it/s, loss=0.0893, v_num=0]\n",
      "Validating: 0it [00:00, ?it/s]\u001b[A\n",
      "Epoch 0:  52%|████████████████████████████████████████████████████████████████████████▍                                                                 | 105/200 [00:00<00:00, 202.05it/s, loss=0.0893, v_num=0]\u001b[A\n",
      "Epoch 0: 100%|██████████████████████████████████████████████████████████████████████████████████████████████████████████████████████████████████████████| 200/200 [00:00<00:00, 322.15it/s, loss=0.0893, v_num=0]\u001b[A\n",
      "Epoch 1:  50%|█████████████████████████████████████████████████████████████████████                                                                     | 100/200 [00:00<00:00, 313.89it/s, loss=0.0884, v_num=0]\u001b[A\n",
      "Validating: 0it [00:00, ?it/s]\u001b[A\n",
      "Epoch 1: 100%|██████████████████████████████████████████████████████████████████████████████████████████████████████████████████████████████████████████| 200/200 [00:00<00:00, 519.74it/s, loss=0.0884, v_num=0]\u001b[A\n",
      "Epoch 2:  50%|█████████████████████████████████████████████████████████████████████▌                                                                     | 100/200 [00:00<00:00, 334.07it/s, loss=0.088, v_num=0]\u001b[A\n",
      "Validating: 0it [00:00, ?it/s]\u001b[A\n",
      "Epoch 2: 100%|███████████████████████████████████████████████████████████████████████████████████████████████████████████████████████████████████████████| 200/200 [00:00<00:00, 546.69it/s, loss=0.088, v_num=0]\u001b[A\n",
      "Epoch 3:  50%|█████████████████████████████████████████████████████████████████████                                                                     | 100/200 [00:00<00:00, 339.47it/s, loss=0.0896, v_num=0]\u001b[A\n",
      "Validating: 0it [00:00, ?it/s]\u001b[A\n",
      "Epoch 3: 100%|██████████████████████████████████████████████████████████████████████████████████████████████████████████████████████████████████████████| 200/200 [00:00<00:00, 551.17it/s, loss=0.0896, v_num=0]\u001b[A\n",
      "Epoch 3: 100%|██████████████████████████████████████████████████████████████████████████████████████████████████████████████████████████████████████████| 200/200 [00:00<00:00, 542.72it/s, loss=0.0896, v_num=0]\u001b[A\n"
     ]
    }
   ],
   "source": [
    "import argparse\n",
    "from pathlib import Path\n",
    "from typing import Tuple\n",
    "\n",
    "import torch\n",
    "import torch.nn.functional as F\n",
    "from torch import Tensor\n",
    "from torch.utils.data import Dataset, DataLoader\n",
    "import pytorch_lightning as pl\n",
    "from pytorch_lightning import Trainer, seed_everything\n",
    "from pytorch_lightning.callbacks import ModelCheckpoint\n",
    "from pytorch_lightning.callbacks import EarlyStopping\n",
    "from pytorch_lightning.loggers import TensorBoardLogger\n",
    "\n",
    "def init_torch(seed: int) -> None:\n",
    "    \"\"\" Initialise torch with a seed \"\"\"\n",
    "    torch.manual_seed(seed)\n",
    "    torch.backends.cudnn.deterministic = True\n",
    "    torch.backends.cudnn.benchmark = False\n",
    "\n",
    "\n",
    "class LitModel(pl.LightningModule):\n",
    "    def __init__(self):\n",
    "        super().__init__()\n",
    "        self.layer_1 = torch.nn.Linear(240, 128)\n",
    "        self.layer_2 = torch.nn.Linear(128, 10)\n",
    "\n",
    "    def forward(self, x):\n",
    "        x = x.view(x.size(0), -1)\n",
    "        x = self.layer_1(x)\n",
    "        x = F.relu(x)\n",
    "        x = self.layer_2(x)\n",
    "        return x\n",
    "\n",
    "    def configure_optimizers(self):\n",
    "        optimizer = torch.optim.Adam(self.parameters(), lr=1e-3)\n",
    "        return optimizer\n",
    "\n",
    "    def training_step(self, batch, batch_idx):\n",
    "        x, y = batch\n",
    "        y_hat = self(x)\n",
    "        loss = F.mse_loss(y_hat, y)\n",
    "        self.log('train_loss', loss, on_epoch=True)\n",
    "        return loss\n",
    "\n",
    "    def validation_step(self, batch, batch_idx):\n",
    "        losses = [40, 20, 30, 10, 1, 0.9, 1, 1, 90, 100]\n",
    "        loss = torch.tensor(float(losses[self.current_epoch])).to(batch[0].device)\n",
    "        logs = {\"val_loss\": loss}\n",
    "        self.log_dict(logs)\n",
    "\n",
    "\n",
    "class LitDataset(Dataset):\n",
    "\n",
    "    def __getitem__(self, idx: int) -> Tuple[Tensor, Tensor]:\n",
    "        return torch.rand(10, 3, 8), torch.rand(10)\n",
    "\n",
    "    def __len__(self) -> int:\n",
    "        return 50000000\n",
    "\n",
    "\n",
    "class LitDataModule(pl.LightningDataModule):\n",
    "\n",
    "    def __init__(self, dataset: Dataset, batch_size: int):\n",
    "        super().__init__()\n",
    "        self.dataset = dataset\n",
    "        self.batch_size = batch_size\n",
    "\n",
    "    def train_dataloader(self):\n",
    "        return DataLoader(self.dataset, batch_size=self.batch_size)\n",
    "\n",
    "    def val_dataloader(self):\n",
    "        return DataLoader(self.dataset, batch_size=self.batch_size)\n",
    "\n",
    "\n",
    "def main() -> None:\n",
    "    # Initialize pytorch\n",
    "    init_torch(0)\n",
    "    seed_everything(0)\n",
    "\n",
    "    # Initialize data module\n",
    "    dataset = LitDataset()\n",
    "    dm = LitDataModule(dataset, 16)\n",
    "\n",
    "    # Create experiment and fit\n",
    "    outroot = Path(\".\")\n",
    "    logger = TensorBoardLogger(save_dir=str(outroot / \"logs\"))\n",
    "    trainer = Trainer(logger=logger,\n",
    "                      gpus=1,\n",
    "                      limit_train_batches=100,\n",
    "                      limit_val_batches=100,\n",
    "                      max_epochs=4\n",
    "    )\n",
    "\n",
    "    model = LitModel()\n",
    "    trainer.fit(model, datamodule=dm)\n",
    "\n",
    "\n",
    "main()"
   ]
  },
  {
   "cell_type": "code",
   "execution_count": null,
   "id": "aca6b414-2f2a-426b-a6fa-2c62c5ca8e1e",
   "metadata": {},
   "outputs": [],
   "source": []
  }
 ],
 "metadata": {
  "kernelspec": {
   "display_name": "hydra",
   "language": "python",
   "name": "hydra"
  },
  "language_info": {
   "codemirror_mode": {
    "name": "ipython",
    "version": 3
   },
   "file_extension": ".py",
   "mimetype": "text/x-python",
   "name": "python",
   "nbconvert_exporter": "python",
   "pygments_lexer": "ipython3",
   "version": "3.8.12"
  }
 },
 "nbformat": 4,
 "nbformat_minor": 5
}
