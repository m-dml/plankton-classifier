{
 "cells": [
  {
   "cell_type": "code",
   "execution_count": 40,
   "id": "f681ab42-a578-4141-aa26-522db9f2db34",
   "metadata": {
    "pycharm": {
     "name": "#%%\n"
    }
   },
   "outputs": [],
   "source": [
    "from tqdm.auto import tqdm\n",
    "import numpy as np\n",
    "import os\n",
    "import pandas as pd\n",
    "import sys\n",
    "\n",
    "sys.path.append(\"..\")\n",
    "\n",
    "from src.lib.config import register_configs\n",
    "from src.utils.EvalWrapper import EvalWrapper\n",
    "\n",
    "\n",
    "# from eval_single_helper_funcs import instantiate_trainer, run_and_save, get_confidence_and_acc_single, get_temperature_file, get_distribution_file"
   ]
  },
  {
   "cell_type": "code",
   "execution_count": 61,
   "id": "f2addaef-7e5d-4b01-a0f5-2ca79d2bde92",
   "metadata": {
    "pycharm": {
     "name": "#%%\n"
    }
   },
   "outputs": [
    {
     "name": "stdout",
     "output_type": "stream",
     "text": [
      "Data splits:  0.00000010,0.00000025,0.00000050,0.00000075,0.00000100,0.00000250,0.00000500,0.00000750,0.00001000,0.00002500,0.00005000,0.00007500,0.00010000,0.00025000,0.00050000,0.00075000,0.00100000,0.00250000,0.00500000,0.00750000,0.01000000,0.02500000,0.05000000,0.07500000,0.10000000,0.25000000,0.50000000,0.75000000,1.00000000,2.50000000,5.00000000,7.50000000\n"
     ]
    }
   ],
   "source": [
    "# set global values:\n",
    "\n",
    "experiments_singlelabel = {\n",
    "#    \"rema\": \"/gpfs/work/machnitz/plankton_logs/supervised/singlelabel/multirun/2022-04-19/08-14-50\",\n",
    "   \"linear_singlelabel\": \"/gpfs/work/machnitz/plankton_logs/linear_eval/singlelabel/multirun/2022-04-29/08-31-47\",\n",
    "#    \"finetune_singlelabel\": \"/gpfs/work/machnitz/plankton_logs/finetune/singlelabel/multirun/2022-04-19/08-15-24\",\n",
    "    \"finetune_sgd_singlelabel\": \"/gpfs/work/machnitz/plankton_logs/finetune_sgd/singlelabel/multirun/2022-04-29/08-19-35\"\n",
    "}\n",
    "\n",
    "vals = [1, 2.5, 5, 7.5]\n",
    "data_splits_per_experiment = \",\".join([f\"{np.round(val * np.power(10, exponent), 15):.8f}\" for exponent in np.arange(-7,0.1,1) for val in vals])\n",
    "print(\"Data splits: \", data_splits_per_experiment)"
   ]
  },
  {
   "cell_type": "code",
   "execution_count": 42,
   "id": "d9bdcdd1-590a-48e9-94d3-524fc8a14200",
   "metadata": {
    "pycharm": {
     "name": "#%%\n"
    }
   },
   "outputs": [],
   "source": [
    "def custom_accuracy(y_pred, y_true):\n",
    "    \n",
    "    _, preds =  torch.max(y_pred, dim=1)\n",
    "    \n",
    "    score = y_true == preds\n",
    "    return score.int().mean()"
   ]
  },
  {
   "cell_type": "markdown",
   "id": "59ed179e-a1f9-455c-bf93-605e5058fd12",
   "metadata": {
    "pycharm": {
     "name": "#%% md\n"
    }
   },
   "source": [
    "# Single Label"
   ]
  },
  {
   "cell_type": "code",
   "execution_count": 43,
   "id": "436827ae",
   "metadata": {
    "collapsed": false,
    "jupyter": {
     "outputs_hidden": false
    },
    "pycharm": {
     "name": "#%%\n"
    }
   },
   "outputs": [
    {
     "data": {
      "application/vnd.jupyter.widget-view+json": {
       "model_id": "f70a5407d53c41f398b06d2e5a988e37",
       "version_major": 2,
       "version_minor": 0
      },
      "text/plain": [
       "  0%|          | 0/19 [00:00<?, ?it/s]"
      ]
     },
     "metadata": {},
     "output_type": "display_data"
    },
    {
     "data": {
      "application/vnd.jupyter.widget-view+json": {
       "model_id": "e7c9f29d29254f27977d91064d9d7637",
       "version_major": 2,
       "version_minor": 0
      },
      "text/plain": [
       "  0%|          | 0/19 [00:00<?, ?it/s]"
      ]
     },
     "metadata": {},
     "output_type": "display_data"
    }
   ],
   "source": [
    "best_checkpoints = []\n",
    "return_metrics = dict()\n",
    "for key, setup_path in experiments_singlelabel.items():\n",
    "    experiment_folders = [os.path.join(setup_path, str(i)) for i in np.arange(0, 19)]\n",
    "    return_metrics[key] = dict()\n",
    "    # fig, axes = plt.subplots(nrows=4, ncols=5, figsize=(20, 15), sharex=True, sharey=True)\n",
    "    for experiment_number, experiment_path in enumerate(tqdm(experiment_folders)):\n",
    "        # print(experiment_number)\n",
    "        with open(os.path.join(experiment_path, \"main.log\"), \"r\") as f:\n",
    "            complete_log = f.readlines()\n",
    "            found_best_checkpoint = False\n",
    "            for line in complete_log:\n",
    "                # print(line)\n",
    "                if found_best_checkpoint:\n",
    "                    best_checkpoint_part = os.path.normpath(line.strip().split(\"multirun/\")[-1]).strip()\n",
    "                    base_path = os.path.normpath(experiment_path.split(\"multirun\")[0]).strip()\n",
    "                    best_checkpoint_result = os.path.join(base_path, \"multirun\", best_checkpoint_part).strip()\n",
    "                    # print(f\"set best checkpoint to {best_checkpoint}\")\n",
    "                    break\n",
    "\n",
    "                if \"[main.main][INFO] - Best checkpoint path:\" in line:\n",
    "                    found_best_checkpoint = True\n",
    "                    # print(f\"found best checkpoint: {line}\")\n",
    "        best_checkpoints.append(best_checkpoint_result)\n"
   ]
  },
  {
   "cell_type": "code",
   "execution_count": 5,
   "id": "b1e60a3f",
   "metadata": {
    "collapsed": false,
    "jupyter": {
     "outputs_hidden": false
    },
    "pycharm": {
     "name": "#%%\n"
    }
   },
   "outputs": [
    {
     "data": {
      "text/plain": [
       "'/gpfs/work/machnitz/plankton_logs/finetune_sgd/singlelabel/022-04-29/08-19-35/18/logs/checkpoints/epoch=01-v1.ckpt'"
      ]
     },
     "execution_count": 5,
     "metadata": {},
     "output_type": "execute_result"
    }
   ],
   "source": [
    "os.path.join(base_path, best_checkpoint_part[1:])"
   ]
  },
  {
   "cell_type": "code",
   "execution_count": 6,
   "id": "2c6706ca",
   "metadata": {
    "pycharm": {
     "name": "#%%\n"
    }
   },
   "outputs": [
    {
     "data": {
      "text/plain": [
       "['/gpfs/work/machnitz/plankton_logs/linear_eval/singlelabel/multirun/2022-04-29/08-31-47/0/logs/checkpoints/epoch=25.ckpt',\n",
       " '/gpfs/work/machnitz/plankton_logs/linear_eval/singlelabel/multirun/2022-04-29/08-31-47/1/logs/checkpoints/epoch=21.ckpt',\n",
       " '/gpfs/work/machnitz/plankton_logs/linear_eval/singlelabel/multirun/2022-04-29/08-31-47/2/logs/checkpoints/epoch=25.ckpt',\n",
       " '/gpfs/work/machnitz/plankton_logs/linear_eval/singlelabel/multirun/2022-04-29/08-31-47/3/logs/checkpoints/epoch=10.ckpt',\n",
       " '/gpfs/work/machnitz/plankton_logs/linear_eval/singlelabel/multirun/2022-04-29/08-31-47/4/logs/checkpoints/epoch=27.ckpt',\n",
       " '/gpfs/work/machnitz/plankton_logs/linear_eval/singlelabel/multirun/2022-04-29/08-31-47/5/logs/checkpoints/epoch=22.ckpt',\n",
       " '/gpfs/work/machnitz/plankton_logs/linear_eval/singlelabel/multirun/2022-04-29/08-31-47/6/logs/checkpoints/epoch=12.ckpt',\n",
       " '/gpfs/work/machnitz/plankton_logs/linear_eval/singlelabel/multirun/2022-04-29/08-31-47/7/logs/checkpoints/epoch=21.ckpt',\n",
       " '/gpfs/work/machnitz/plankton_logs/linear_eval/singlelabel/multirun/2022-04-29/08-31-47/8/logs/checkpoints/epoch=05.ckpt',\n",
       " '/gpfs/work/machnitz/plankton_logs/linear_eval/singlelabel/multirun/2022-04-29/08-31-47/9/logs/checkpoints/epoch=13.ckpt',\n",
       " '/gpfs/work/machnitz/plankton_logs/linear_eval/singlelabel/multirun/2022-04-29/08-31-47/10/logs/checkpoints/epoch=03.ckpt',\n",
       " '/gpfs/work/machnitz/plankton_logs/linear_eval/singlelabel/multirun/2022-04-29/08-31-47/11/logs/checkpoints/epoch=04.ckpt',\n",
       " '/gpfs/work/machnitz/plankton_logs/linear_eval/singlelabel/multirun/2022-04-29/08-31-47/12/logs/checkpoints/epoch=04.ckpt',\n",
       " '/gpfs/work/machnitz/plankton_logs/linear_eval/singlelabel/multirun/2022-04-29/08-31-47/13/logs/checkpoints/epoch=02.ckpt',\n",
       " '/gpfs/work/machnitz/plankton_logs/linear_eval/singlelabel/multirun/2022-04-29/08-31-47/14/logs/checkpoints/epoch=01.ckpt',\n",
       " '/gpfs/work/machnitz/plankton_logs/linear_eval/singlelabel/multirun/2022-04-29/08-31-47/15/logs/checkpoints/epoch=02.ckpt',\n",
       " '/gpfs/work/machnitz/plankton_logs/linear_eval/singlelabel/multirun/2022-04-29/08-31-47/16/logs/checkpoints/epoch=01.ckpt',\n",
       " '/gpfs/work/machnitz/plankton_logs/linear_eval/singlelabel/multirun/2022-04-29/08-31-47/17/logs/checkpoints/epoch=00-v1.ckpt',\n",
       " '/gpfs/work/machnitz/plankton_logs/linear_eval/singlelabel/multirun/2022-04-29/08-31-47/18/logs/checkpoints/epoch=00.ckpt',\n",
       " '/gpfs/work/machnitz/plankton_logs/finetune_sgd/singlelabel/multirun/2022-04-29/08-19-35/0/logs/checkpoints/epoch=07.ckpt',\n",
       " '/gpfs/work/machnitz/plankton_logs/finetune_sgd/singlelabel/multirun/2022-04-29/08-19-35/1/logs/checkpoints/epoch=03.ckpt',\n",
       " '/gpfs/work/machnitz/plankton_logs/finetune_sgd/singlelabel/multirun/2022-04-29/08-19-35/2/logs/checkpoints/epoch=09.ckpt',\n",
       " '/gpfs/work/machnitz/plankton_logs/finetune_sgd/singlelabel/multirun/2022-04-29/08-19-35/3/logs/checkpoints/epoch=05.ckpt',\n",
       " '/gpfs/work/machnitz/plankton_logs/finetune_sgd/singlelabel/multirun/2022-04-29/08-19-35/4/logs/checkpoints/epoch=01.ckpt',\n",
       " '/gpfs/work/machnitz/plankton_logs/finetune_sgd/singlelabel/multirun/2022-04-29/08-19-35/5/logs/checkpoints/epoch=05.ckpt',\n",
       " '/gpfs/work/machnitz/plankton_logs/finetune_sgd/singlelabel/multirun/2022-04-29/08-19-35/6/logs/checkpoints/epoch=02.ckpt',\n",
       " '/gpfs/work/machnitz/plankton_logs/finetune_sgd/singlelabel/multirun/2022-04-29/08-19-35/7/logs/checkpoints/epoch=08.ckpt',\n",
       " '/gpfs/work/machnitz/plankton_logs/finetune_sgd/singlelabel/multirun/2022-04-29/08-19-35/8/logs/checkpoints/epoch=05.ckpt',\n",
       " '/gpfs/work/machnitz/plankton_logs/finetune_sgd/singlelabel/multirun/2022-04-29/08-19-35/9/logs/checkpoints/epoch=12.ckpt',\n",
       " '/gpfs/work/machnitz/plankton_logs/finetune_sgd/singlelabel/multirun/2022-04-29/08-19-35/10/logs/checkpoints/epoch=07.ckpt',\n",
       " '/gpfs/work/machnitz/plankton_logs/finetune_sgd/singlelabel/multirun/2022-04-29/08-19-35/11/logs/checkpoints/epoch=04.ckpt',\n",
       " '/gpfs/work/machnitz/plankton_logs/finetune_sgd/singlelabel/multirun/2022-04-29/08-19-35/12/logs/checkpoints/epoch=04.ckpt',\n",
       " '/gpfs/work/machnitz/plankton_logs/finetune_sgd/singlelabel/multirun/2022-04-29/08-19-35/13/logs/checkpoints/epoch=00.ckpt',\n",
       " '/gpfs/work/machnitz/plankton_logs/finetune_sgd/singlelabel/multirun/2022-04-29/08-19-35/14/logs/checkpoints/epoch=02.ckpt',\n",
       " '/gpfs/work/machnitz/plankton_logs/finetune_sgd/singlelabel/multirun/2022-04-29/08-19-35/15/logs/checkpoints/epoch=02.ckpt',\n",
       " '/gpfs/work/machnitz/plankton_logs/finetune_sgd/singlelabel/multirun/2022-04-29/08-19-35/16/logs/checkpoints/epoch=01.ckpt',\n",
       " '/gpfs/work/machnitz/plankton_logs/finetune_sgd/singlelabel/multirun/2022-04-29/08-19-35/17/logs/checkpoints/epoch=01.ckpt',\n",
       " '/gpfs/work/machnitz/plankton_logs/finetune_sgd/singlelabel/multirun/2022-04-29/08-19-35/18/logs/checkpoints/epoch=01-v1.ckpt']"
      ]
     },
     "execution_count": 6,
     "metadata": {},
     "output_type": "execute_result"
    }
   ],
   "source": [
    "best_checkpoints"
   ]
  },
  {
   "cell_type": "code",
   "execution_count": 8,
   "id": "69b0e04c",
   "metadata": {
    "pycharm": {
     "name": "#%%\n"
    }
   },
   "outputs": [
    {
     "ename": "NameError",
     "evalue": "name 'datamodule' is not defined",
     "output_type": "error",
     "traceback": [
      "\u001b[0;31m---------------------------------------------------------------------------\u001b[0m",
      "\u001b[0;31mNameError\u001b[0m                                 Traceback (most recent call last)",
      "Input \u001b[0;32mIn [8]\u001b[0m, in \u001b[0;36m<cell line: 1>\u001b[0;34m()\u001b[0m\n\u001b[0;32m----> 1\u001b[0m \u001b[43mdatamodule\u001b[49m\u001b[38;5;241m.\u001b[39msetup(stage\u001b[38;5;241m=\u001b[39m\u001b[38;5;124m\"\u001b[39m\u001b[38;5;124mfit\u001b[39m\u001b[38;5;124m\"\u001b[39m)\n\u001b[1;32m      2\u001b[0m val_dataloader \u001b[38;5;241m=\u001b[39m datamodule\u001b[38;5;241m.\u001b[39mval_dataloader()\n\u001b[1;32m      4\u001b[0m \u001b[38;5;28;01mfor\u001b[39;00m batch \u001b[38;5;129;01min\u001b[39;00m val_dataloader:\n",
      "\u001b[0;31mNameError\u001b[0m: name 'datamodule' is not defined"
     ]
    }
   ],
   "source": [
    "\n",
    "datamodule.setup(stage=\"fit\")\n",
    "val_dataloader = datamodule.val_dataloader()\n",
    "\n",
    "for batch in val_dataloader:\n",
    "    example_input, _ = batch\n",
    "    break\n",
    "\n",
    "val_logits, val_labels, val_return_metrics = run_and_save(best_checkpoint, val_dataloader, return_metrics,\n",
    "                                                          key + \"valid\", experiment_number)"
   ]
  },
  {
   "cell_type": "code",
   "execution_count": null,
   "id": "ad187524-eb32-4e4f-b364-0e4230e614e9",
   "metadata": {
    "pycharm": {
     "name": "#%%\n"
    }
   },
   "outputs": [],
   "source": [
    "\n",
    "datamodule.setup(stage=\"test\")\n",
    "test_dataloader = datamodule.test_dataloader()\n",
    "\n",
    "for batch in test_dataloader:\n",
    "    example_input, _ = batch\n",
    "    break\n",
    "\n",
    "test_logits, test_labels, test_return_metrics = run_and_save(best_checkpoint, test_dataloader, return_metrics,\n",
    "                                                             key + \"test_new\", experiment_number)"
   ]
  },
  {
   "cell_type": "code",
   "execution_count": null,
   "id": "950fc000-d522-4627-8db8-5548cf83b5a7",
   "metadata": {
    "pycharm": {
     "name": "#%%\n"
    }
   },
   "outputs": [],
   "source": [
    "reform = {(outerKey, innerKey): values for outerKey, innerDict in return_metrics.items() for innerKey, values in\n",
    "          innerDict.items()}\n",
    "single_label_df = pd.DataFrame.from_dict(reform).T\n",
    "single_label_df.index.names = (\"Model\", \"Experiment\")\n",
    "single_label_df"
   ]
  },
  {
   "cell_type": "code",
   "execution_count": null,
   "id": "26d9ef2a-3f79-424e-b26c-2389cfb2f9da",
   "metadata": {
    "pycharm": {
     "name": "#%%\n"
    }
   },
   "outputs": [],
   "source": [
    "fig, ax = plt.subplots(figsize=(15, 5))\n",
    "sns.lineplot(x=\"Data Fraction\", y=\"Accuracy/Testing\", hue=\"Model\", style=\"Model\", data=single_label_df, ax=ax,\n",
    "             palette=hereon_color_array, markers=True, markersize=10, )\n",
    "\n",
    "# for item in data_splits_per_experiment:\n",
    "#     ax.text(item,0.3,f'{item * 100:.0f}%',color=\"grey\", horizontalalignment=\"center\", rotation=-45)\n",
    "\n",
    "ax.set_xscale(\"log\")\n",
    "plt.savefig(\"Accuracies_Testing_Singlelabel.png\", dpi=300)"
   ]
  },
  {
   "cell_type": "code",
   "execution_count": null,
   "id": "3ecba306-d534-4c4b-910b-80e41e9f7910",
   "metadata": {
    "pycharm": {
     "name": "#%%\n"
    }
   },
   "outputs": [],
   "source": [
    "fig, ax = plt.subplots(figsize=(15, 5))\n",
    "sns.lineplot(x=\"Data Fraction\", y=\"ECE\", hue=\"Model\", style=\"Model\", data=single_label_df, ax=ax,\n",
    "             palette=hereon_color_array, markers=True, markersize=10, )\n",
    "\n",
    "for item in data_splits_per_experiment:\n",
    "    ax.text(item, 0.2, f'{item * 100:.0f}%', color=\"grey\", horizontalalignment=\"center\", rotation=-45)\n",
    "\n",
    "ax.set_xscale(\"log\")\n",
    "ax.legend(loc=\"best\")\n",
    "plt.savefig(\"ECE_Testing_Singlelabel.png\", dpi=300)"
   ]
  },
  {
   "cell_type": "code",
   "execution_count": null,
   "id": "cf5920f7-58f6-4cb8-85a6-aa242a406def",
   "metadata": {
    "pycharm": {
     "name": "#%%\n"
    }
   },
   "outputs": [],
   "source": [
    "fig, ax = plt.subplots(figsize=(15, 5))\n",
    "sns.lineplot(x=\"Data Fraction\", y=\"loss/Testing\", hue=\"Model\", style=\"Model\", data=single_label_df, ax=ax,\n",
    "             palette=hereon_color_array, markers=True, markersize=10, )\n",
    "\n",
    "for item in data_splits_per_experiment:\n",
    "    ax.text(item, 2, f'{item * 100:.0f}%', color=\"grey\", horizontalalignment=\"center\", rotation=-45)\n",
    "\n",
    "ax.set_xscale(\"log\")\n",
    "ax.legend(loc=\"best\")\n",
    "plt.savefig(\"NLL_Testing_Singlelabel.png\", dpi=300)"
   ]
  },
  {
   "cell_type": "code",
   "execution_count": null,
   "id": "701413fd-84bc-4b34-886f-6ea63de73181",
   "metadata": {
    "pycharm": {
     "name": "#%%\n"
    }
   },
   "outputs": [],
   "source": []
  }
 ],
 "metadata": {
  "kernelspec": {
   "display_name": "Plankton",
   "language": "python",
   "name": "plankton"
  },
  "language_info": {
   "codemirror_mode": {
    "name": "ipython",
    "version": 3
   },
   "file_extension": ".py",
   "mimetype": "text/x-python",
   "name": "python",
   "nbconvert_exporter": "python",
   "pygments_lexer": "ipython3",
   "version": "3.8.13"
  }
 },
 "nbformat": 4,
 "nbformat_minor": 5
}
