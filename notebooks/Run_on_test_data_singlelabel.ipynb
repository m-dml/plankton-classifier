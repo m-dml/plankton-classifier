{
 "cells": [
  {
   "cell_type": "code",
   "execution_count": 1,
   "id": "f681ab42-a578-4141-aa26-522db9f2db34",
   "metadata": {
    "pycharm": {
     "name": "#%%\n"
    },
    "trusted": false
   },
   "outputs": [
    {
     "name": "stderr",
     "output_type": "stream",
     "text": [
      "/tmp/ipykernel_124383/529219813.py:20: UserWarning: \n",
      "The version_base parameter is not specified.\n",
      "Please specify a compatability version level, or None.\n",
      "Will assume defaults for version 1.1\n",
      "  hydra.initialize(config_path=\"../conf\", job_name=\"plankton\")\n"
     ]
    }
   ],
   "source": [
    "import matplotlib.pyplot as plt\n",
    "import seaborn as sns\n",
    "import torch\n",
    "import torchmetrics\n",
    "from tqdm.auto import tqdm\n",
    "\n",
    "sns.set()\n",
    "import numpy as np\n",
    "import os\n",
    "import pandas as pd\n",
    "import sys\n",
    "\n",
    "sys.path.append(\"..\")\n",
    "import hydra\n",
    "from src.lib.config import register_configs\n",
    "from src.utils.EvalWrapper import EvalWrapper\n",
    "\n",
    "register_configs()\n",
    "try:\n",
    "    hydra.initialize(config_path=\"../conf\", job_name=\"plankton\")\n",
    "except ValueError:\n",
    "    print(ValueError)\n",
    "\n",
    "import pytorch_lightning as pl\n",
    "import pickle\n",
    "from eval_single_helper_funcs import instantiate_trainer, run_and_save, get_confidence_and_acc_single, get_temperature_file, get_distribution_file"
   ]
  },
  {
   "cell_type": "code",
   "execution_count": 2,
   "id": "f2addaef-7e5d-4b01-a0f5-2ca79d2bde92",
   "metadata": {
    "pycharm": {
     "name": "#%%\n"
    },
    "trusted": false
   },
   "outputs": [
    {
     "name": "stdout",
     "output_type": "stream",
     "text": [
      "Data splits:  [0.01, 0.02, 0.03, 0.04, 0.05, 0.06, 0.07, 0.08, 0.09, 0.1, 0.2, 0.3, 0.4, 0.5, 0.6, 0.7, 0.8, 0.9, 1.0]\n"
     ]
    }
   ],
   "source": [
    "# set global values:\n",
    "\n",
    "experiments_singlelabel = {\n",
    "    \"supervised_singlelabel\": \"/gpfs/work/machnitz/plankton_logs/supervised/singlelabel/multirun/2022-04-19/08-14-50\",\n",
    "    \"linear_singlelabel\": \"/gpfs/work/machnitz/plankton_logs/linear_eval/singlelabel/multirun/2022-04-19/19-15-20\",\n",
    "    \"finetune_singlelabel\": \"/gpfs/work/machnitz/plankton_logs/finetune/singlelabel/multirun/2022-04-19/08-15-24\",\n",
    "    \"finetune_sgd_singlelabel\": \"/gpfs/work/machnitz/plankton_logs/finetune_sgd/singlelabel/multirun/2022-04-19/08-15-10\"\n",
    "}\n",
    "\n",
    "data_splits_per_experiment = [np.round(x, 2) for x in np.arange(0.01, 0.1, 0.01)] + [np.round(x, 2) for x in\n",
    "                                                                                     np.arange(0.1, 1.1, 0.1)]\n",
    "print(\"Data splits: \", data_splits_per_experiment)"
   ]
  },
  {
   "cell_type": "code",
   "execution_count": 3,
   "id": "807252f0-2aac-4720-907a-8812503a8c99",
   "metadata": {
    "pycharm": {
     "name": "#%%\n"
    },
    "trusted": false
   },
   "outputs": [],
   "source": [
    "from matplotlib.colors import ListedColormap\n",
    "import seaborn as sns\n",
    "\n",
    "sns.set()\n",
    "\n",
    "hereon_color_array = np.array([\n",
    "    [230, 0, 70],\n",
    "    [0, 145, 160],\n",
    "    [0, 170, 230],\n",
    "    [250, 180, 35],\n",
    "    [0, 70, 125],\n",
    "    [175, 25, 60],\n",
    "    [170, 200, 70],\n",
    "    [250, 115, 80],\n",
    "    [140, 90, 180],\n",
    "\n",
    "])\n",
    "hereon_color_array = hereon_color_array / 255\n",
    "hereon_cmap = ListedColormap(hereon_color_array)\n",
    "\n",
    "sns.set_palette(hereon_color_array)"
   ]
  },
  {
   "cell_type": "markdown",
   "id": "59ed179e-a1f9-455c-bf93-605e5058fd12",
   "metadata": {
    "pycharm": {
     "name": "#%% md\n"
    }
   },
   "source": [
    "# Single Label"
   ]
  },
  {
   "cell_type": "code",
   "execution_count": 4,
   "id": "0b8b403f-5539-4b41-a5ba-e9f20a84d1ec",
   "metadata": {
    "pycharm": {
     "name": "#%%\n"
    },
    "trusted": false
   },
   "outputs": [
    {
     "name": "stderr",
     "output_type": "stream",
     "text": [
      "Global seed set to 7\n"
     ]
    }
   ],
   "source": [
    "pl.seed_everything(7)\n",
    "np.random.seed(7)\n",
    "cfg = hydra.compose(config_name=\"config\", overrides=[\"+experiment=plankton/publication/supervised_singlelabel\",\n",
    "                                                     \"random_seed=7\",\n",
    "                                                     \"strategy=SingleDevice\",\n",
    "                                                     'strategy.device=\"cuda:0\"',\n",
    "                                                     \"trainer.enable_progress_bar=false\",\n",
    "                                                     \"datamodule.batch_size=200\",\n",
    "                                                     \"lightning_module.log_confusion_matrices=false\",\n",
    "                                                     \"lightning_module.temperature_scale=false\",\n",
    "                                                     ])"
   ]
  },
  {
   "cell_type": "code",
   "execution_count": 5,
   "id": "7a28ad4a-4065-4853-ae0d-c9d80ed515c9",
   "metadata": {
    "pycharm": {
     "name": "#%%\n"
    },
    "trusted": false
   },
   "outputs": [
    {
     "name": "stderr",
     "output_type": "stream",
     "text": [
      "/gpfs/home/machnitz/miniconda3/envs/plankton/lib/python3.8/site-packages/pytorch_lightning/core/datamodule.py:95: LightningDeprecationWarning: DataModule property `train_transforms` was deprecated in v1.5 and will be removed in v1.7.\n",
      "  rank_zero_deprecation(\n",
      "77it [00:00, 4120.88it/s]                                                                                                                                                              | 0/19 [00:00<?, ?it/s]\n",
      "4536it [00:00, 7546.38it/s]\n",
      "88it [00:00, 6615.86it/s]████████████▏                                                                                                                                         | 2/19 [00:00<00:05,  3.20it/s]\n",
      "100it [00:00, 6339.83it/s]\n",
      "95it [00:00, 5601.84it/s]\n",
      "288it [00:00, 8305.78it/s]\n",
      "12it [00:00, 4815.96it/s]\n",
      "158it [00:00, 7711.55it/s]\n",
      "59it [00:00, 7712.04it/s]████████████████████████████████████████████████████████████▊                                                                                         | 8/19 [00:00<00:00, 13.32it/s]\n",
      "1215it [00:00, 15762.50it/s]\n",
      "386it [00:00, 22811.83it/s]\n",
      "56it [00:00, 9911.43it/s]\n",
      "1290it [00:00, 20098.26it/s]█████████████████████████████████████████████████████████████████████████████████████████▋                                                        | 12/19 [00:00<00:00, 18.24it/s]\n",
      "207it [00:00, 12003.28it/s]\n",
      "506it [00:00, 3252.66it/s]\n",
      "125299it [00:09, 13027.06it/s]\n",
      "4416it [00:00, 13631.65it/s]█████████████████████████████████████████████████████████████████████████████████████████████████████████████████████████▊                        | 16/19 [00:10<00:02,  1.02it/s]\n",
      "1691it [00:00, 13655.18it/s]\n",
      "2864it [00:00, 22773.39it/s]\n",
      "Load Klas data: 100%|█████████████████████████████████████████████████████████████████████████████████████████████████████████████████████████████████████████████████████████| 19/19 [00:11<00:00,  1.68it/s]\n",
      "11it [00:00, 2109.71it/s]                                                                                                                                                              | 0/19 [00:00<?, ?it/s]\n",
      "648it [00:00, 13342.90it/s]\n",
      "12it [00:00, 5787.24it/s]\n",
      "14it [00:00, 3620.46it/s]\n",
      "13it [00:00, 4373.62it/s]\n",
      "41it [00:00, 4927.26it/s]\n",
      "1it [00:00, 1363.56it/s]\n",
      "22it [00:00, 8168.07it/s]\n",
      "8it [00:00, 6674.84it/s]\n",
      "173it [00:00, 15814.80it/s]\n",
      "55it [00:00, 19343.18it/s]███████████████████████████████████████████████████████████████████████████▌                                                                        | 10/19 [00:00<00:00, 97.91it/s]\n",
      "8it [00:00, 6373.11it/s]\n",
      "184it [00:00, 17598.21it/s]\n",
      "29it [00:00, 10852.50it/s]\n",
      "72it [00:00, 11910.00it/s]\n",
      "17899it [00:01, 13689.15it/s]\n",
      "630it [00:00, 13272.91it/s]\n",
      "241it [00:00, 12397.92it/s]\n",
      "409it [00:00, 21178.12it/s]\n",
      "Load Klas data: 100%|█████████████████████████████████████████████████████████████████████████████████████████████████████████████████████████████████████████████████████████| 19/19 [00:01<00:00, 12.39it/s]\n",
      "23it [00:00, 7391.13it/s]                                                                                                                                                              | 0/19 [00:00<?, ?it/s]\n",
      "1296it [00:00, 13615.24it/s]\n",
      "27it [00:00, 7693.88it/s]████████████▏                                                                                                                                         | 2/19 [00:00<00:00, 19.75it/s]\n",
      "29it [00:00, 8366.11it/s]\n",
      "29it [00:00, 7623.14it/s]\n",
      "83it [00:00, 5238.15it/s]\n",
      "5it [00:00, 4670.72it/s]\n",
      "46it [00:00, 10643.68it/s]\n",
      "18it [00:00, 8469.54it/s]\n",
      "348it [00:00, 17304.30it/s]\n",
      "111it [00:00, 16296.26it/s]\n",
      "16it [00:00, 7423.55it/s]\n",
      "370it [00:00, 19451.17it/s]\n",
      "61it [00:00, 10682.78it/s]███████████████████████████████████████████████████████████████████████████████████████████████████▋                                                | 13/19 [00:00<00:00, 71.45it/s]\n",
      "145it [00:00, 12581.96it/s]\n",
      "35801it [00:02, 12383.83it/s]\n",
      "1263it [00:00, 13695.47it/s]\n",
      "484it [00:00, 13079.25it/s]\n",
      "819it [00:00, 21887.23it/s]\n",
      "Load Klas data: 100%|█████████████████████████████████████████████████████████████████████████████████████████████████████████████████████████████████████████████████████████| 19/19 [00:03<00:00,  5.77it/s]\n"
     ]
    }
   ],
   "source": [
    "\n",
    "train_transforms = hydra.utils.instantiate(cfg.datamodule.train_transforms)\n",
    "valid_transforms = hydra.utils.instantiate(cfg.datamodule.valid_transforms)\n",
    "\n",
    "datamodule = hydra.utils.instantiate(\n",
    "    cfg.datamodule,\n",
    "    train_transforms=train_transforms,\n",
    "    valid_transforms=valid_transforms,\n",
    "    dataset=cfg.datamodule.dataset,\n",
    "    is_ddp=False,\n",
    ")\n",
    "datamodule.setup(stage=\"test\")"
   ]
  },
  {
   "cell_type": "code",
   "execution_count": 6,
   "id": "b1ea867d-2e4f-48c9-a877-66623921cd3e",
   "metadata": {
    "pycharm": {
     "name": "#%%\n"
    },
    "trusted": false
   },
   "outputs": [
    {
     "data": {
      "text/plain": "  0%|          | 0/19 [00:00<?, ?it/s]",
      "application/vnd.jupyter.widget-view+json": {
       "version_major": 2,
       "version_minor": 0,
       "model_id": "b8c0d545e240497fa4813f70ff1495c8"
      }
     },
     "metadata": {},
     "output_type": "display_data"
    },
    {
     "name": "stdout",
     "output_type": "stream",
     "text": [
      "0\n",
      "1\n",
      "2\n",
      "3\n",
      "4\n",
      "5\n",
      "6\n",
      "7\n",
      "8\n",
      "9\n",
      "10\n",
      "11\n",
      "12\n",
      "13\n",
      "14\n",
      "15\n",
      "16\n",
      "17\n",
      "18\n"
     ]
    },
    {
     "data": {
      "text/plain": "  0%|          | 0/19 [00:00<?, ?it/s]",
      "application/vnd.jupyter.widget-view+json": {
       "version_major": 2,
       "version_minor": 0,
       "model_id": "3a03ec6e50a442d3ad7fa7d864ac3989"
      }
     },
     "metadata": {},
     "output_type": "display_data"
    },
    {
     "name": "stdout",
     "output_type": "stream",
     "text": [
      "0\n",
      "1\n",
      "2\n",
      "3\n",
      "4\n",
      "5\n",
      "6\n",
      "7\n",
      "8\n",
      "9\n",
      "10\n",
      "11\n",
      "12\n",
      "13\n",
      "14\n",
      "15\n",
      "16\n",
      "17\n",
      "18\n"
     ]
    },
    {
     "data": {
      "text/plain": "  0%|          | 0/19 [00:00<?, ?it/s]",
      "application/vnd.jupyter.widget-view+json": {
       "version_major": 2,
       "version_minor": 0,
       "model_id": "f304f219b52f430c9c57222b1eb31908"
      }
     },
     "metadata": {},
     "output_type": "display_data"
    },
    {
     "name": "stdout",
     "output_type": "stream",
     "text": [
      "0\n",
      "1\n",
      "2\n",
      "3\n",
      "4\n",
      "5\n",
      "6\n",
      "7\n",
      "8\n",
      "9\n",
      "10\n",
      "11\n",
      "12\n",
      "13\n",
      "14\n",
      "15\n",
      "16\n",
      "17\n",
      "18\n"
     ]
    },
    {
     "data": {
      "text/plain": "  0%|          | 0/19 [00:00<?, ?it/s]",
      "application/vnd.jupyter.widget-view+json": {
       "version_major": 2,
       "version_minor": 0,
       "model_id": "1fe28e0c6e9a45b1b01f20a5a408f04b"
      }
     },
     "metadata": {},
     "output_type": "display_data"
    },
    {
     "name": "stdout",
     "output_type": "stream",
     "text": [
      "0\n",
      "1\n",
      "2\n",
      "3\n",
      "4\n",
      "5\n",
      "6\n",
      "7\n",
      "8\n",
      "9\n",
      "10\n",
      "11\n",
      "12\n",
      "13\n",
      "14\n",
      "15\n",
      "16\n",
      "17\n",
      "18\n"
     ]
    }
   ],
   "source": [
    "# trainer = instantiate_trainer(cfg)\n",
    "#\n",
    "# test_dataloader = datamodule.test_dataloader()\n",
    "# for example_input, _ in test_dataloader:\n",
    "#     break\n",
    "\n",
    "acc_func = torchmetrics.Accuracy(average=\"none\", num_classes=len(datamodule.unique_labels))\n",
    "best_checkpoints = []\n",
    "return_metrics = dict()\n",
    "for key, setup_path in experiments_singlelabel.items():\n",
    "    experiment_folders = [os.path.join(setup_path, str(i)) for i in np.arange(0, 19)]\n",
    "    return_metrics[key] = dict()\n",
    "    # fig, axes = plt.subplots(nrows=4, ncols=5, figsize=(20, 15), sharex=True, sharey=True)\n",
    "    for experiment_number, experiment_path in enumerate(tqdm(experiment_folders)):\n",
    "        print(experiment_number)\n",
    "        with open(os.path.join(experiment_path, \"main.log\"), \"r\") as f:\n",
    "            complete_log = f.readlines()\n",
    "            found_best_checkpoint = False\n",
    "            for line in complete_log:\n",
    "                # print(line)\n",
    "                if found_best_checkpoint:\n",
    "                    best_checkpoint = line.strip()\n",
    "                    # print(f\"set best checkpoint to {best_checkpoint}\")\n",
    "                    break\n",
    "\n",
    "                if \"[main.main][INFO] - Best checkpoint path:\" in line:\n",
    "                    found_best_checkpoint = True\n",
    "                    # print(f\"found best checkpoint: {line}\")\n",
    "        best_checkpoints.append(best_checkpoint)\n",
    "    #     if os.path.isfile(f\"test_results/labels_{key}_{experiment_number}.pt\"):\n",
    "    #         print(f\"loading {key}_{experiment_number} from file\")\n",
    "    #         logits = torch.load(f\"test_results/logits_{key}_{experiment_number}.pt\")\n",
    "    #         labels = torch.load(f\"test_results/labels_{key}_{experiment_number}.pt\")\n",
    "    #         with open(f\"test_results/dict_{key}_{experiment_number}.pkl\", 'rb') as f:\n",
    "    #             return_metrics = pickle.load(f)\n",
    "    #     else:\n",
    "    #         logits, labels, return_metrics = run_and_save(best_checkpoint, test_dataloader, return_metrics, key,\n",
    "    #                                                       experiment_number, data_splits_per_experiment, trainer,\n",
    "    #                                                       datamodule, example_input)\n",
    "    #\n",
    "    #     accuracies, confidences, ece = get_confidence_and_acc_single(logits, labels)\n",
    "    #     return_metrics[key][experiment_number][\"ECE\"] = ece\n",
    "    #\n",
    "    #     prob_scaling = EvalWrapper(temperature_file=get_temperature_file(best_checkpoint),\n",
    "    #                                training_distribution_file=get_distribution_file(best_checkpoint),\n",
    "    #                                device=\"cpu\")\n",
    "    #\n",
    "    #     corrected_probabilities = prob_scaling(logits=logits, correct_probabilities_with_training_prior=True)\n",
    "    #     accuracies_corrected, confidences_corrected, ece_corrected = get_confidence_and_acc_single(\n",
    "    #         corrected_probabilities,\n",
    "    #         labels,\n",
    "    #         logits_are_probs=True)\n",
    "    #     temp_scaled_logits = prob_scaling(logits=logits, correct_probabilities_with_temperature=True)\n",
    "    #     accuracies_temp, confidences_temp, ece_temp = get_confidence_and_acc_single(temp_scaled_logits,\n",
    "    #                                                                                 labels,\n",
    "    #                                                                                 logits_are_probs=False)\n",
    "    #     temp_and_prior_corrected_probabilities = prob_scaling(logits=temp_scaled_logits,\n",
    "    #                                                           correct_probabilities_with_training_prior=True)\n",
    "    #     accuracies_temp_and_corrected, confidences_temp_and_corrected, ece_temp_and_corrected = get_confidence_and_acc_single(\n",
    "    #         temp_and_prior_corrected_probabilities, labels, logits_are_probs=False)\n",
    "    #\n",
    "    #     ax = axes.flatten()[experiment_number]\n",
    "    #     sns.lineplot(x=confidences.cpu().numpy(), y=accuracies.cpu().numpy(), ax=ax, label=\"pure NN outputs\")\n",
    "    #     sns.lineplot(x=confidences_corrected.cpu().numpy(), y=accuracies_corrected.cpu().numpy(), ax=ax,\n",
    "    #                  label=\"prior corrected outputs\")\n",
    "    #     sns.lineplot(x=confidences_temp.cpu().numpy(), y=accuracies_temp.cpu().numpy(), ax=ax,\n",
    "    #                  label=\"temp scaled outputs\")\n",
    "    #     sns.lineplot(x=confidences_temp_and_corrected.cpu().numpy(), y=accuracies_temp_and_corrected.cpu().numpy(),\n",
    "    #                  ax=ax, label=\"temp scaled and corrected\")\n",
    "    #     ax.plot(np.linspace(0, 1, 100), np.linspace(0, 1, 100), c=\"grey\", ls=\"--\")\n",
    "    #     ax.set_xlabel(\"Confidence\")\n",
    "    #     ax.set_ylabel(\"Accuracy\")\n",
    "    #     ax.set_title(f\"{key} | {data_splits_per_experiment[experiment_number]}\")\n",
    "    #     ax.legend(loc=\"best\")\n",
    "    # plt.savefig(f\"ConfidenceAccuracy{key}.png\", dpi=300)\n",
    "    # plt.show()\n",
    "    # plt.close(\"all\")\n"
   ]
  },
  {
   "cell_type": "code",
   "execution_count": null,
   "outputs": [],
   "source": [],
   "metadata": {
    "collapsed": false,
    "pycharm": {
     "name": "#%%\n"
    }
   }
  },
  {
   "cell_type": "code",
   "execution_count": 7,
   "outputs": [
    {
     "data": {
      "text/plain": "['/gpfs/work/machnitz/plankton_logs/supervised/singlelabel/multirun/2022-04-19/08-14-50/0/logs/checkpoints/epoch=99.ckpt',\n '/gpfs/work/machnitz/plankton_logs/supervised/singlelabel/multirun/2022-04-19/08-14-50/1/logs/checkpoints/epoch=47.ckpt',\n '/gpfs/work/machnitz/plankton_logs/supervised/singlelabel/multirun/2022-04-19/08-14-50/2/logs/checkpoints/epoch=37.ckpt',\n '/gpfs/work/machnitz/plankton_logs/supervised/singlelabel/multirun/2022-04-19/08-14-50/3/logs/checkpoints/epoch=26.ckpt',\n '/gpfs/work/machnitz/plankton_logs/supervised/singlelabel/multirun/2022-04-19/08-14-50/4/logs/checkpoints/epoch=19.ckpt',\n '/gpfs/work/machnitz/plankton_logs/supervised/singlelabel/multirun/2022-04-19/08-14-50/5/logs/checkpoints/epoch=15.ckpt',\n '/gpfs/work/machnitz/plankton_logs/supervised/singlelabel/multirun/2022-04-19/08-14-50/6/logs/checkpoints/epoch=14.ckpt',\n '/gpfs/work/machnitz/plankton_logs/supervised/singlelabel/multirun/2022-04-19/08-14-50/7/logs/checkpoints/epoch=16.ckpt',\n '/gpfs/work/machnitz/plankton_logs/supervised/singlelabel/multirun/2022-04-19/08-14-50/8/logs/checkpoints/epoch=14.ckpt',\n '/gpfs/work/machnitz/plankton_logs/supervised/singlelabel/multirun/2022-04-19/08-14-50/9/logs/checkpoints/epoch=13.ckpt',\n '/gpfs/work/machnitz/plankton_logs/supervised/singlelabel/multirun/2022-04-19/08-14-50/10/logs/checkpoints/epoch=04.ckpt',\n '/gpfs/work/machnitz/plankton_logs/supervised/singlelabel/multirun/2022-04-19/08-14-50/11/logs/checkpoints/epoch=04.ckpt',\n '/gpfs/work/machnitz/plankton_logs/supervised/singlelabel/multirun/2022-04-19/08-14-50/12/logs/checkpoints/epoch=02.ckpt',\n '/gpfs/work/machnitz/plankton_logs/supervised/singlelabel/multirun/2022-04-19/08-14-50/13/logs/checkpoints/epoch=02.ckpt',\n '/gpfs/work/machnitz/plankton_logs/supervised/singlelabel/multirun/2022-04-19/08-14-50/14/logs/checkpoints/epoch=02.ckpt',\n '/gpfs/work/machnitz/plankton_logs/supervised/singlelabel/multirun/2022-04-19/08-14-50/15/logs/checkpoints/epoch=01-v1.ckpt',\n '/gpfs/work/machnitz/plankton_logs/supervised/singlelabel/multirun/2022-04-19/08-14-50/16/logs/checkpoints/epoch=01-v1.ckpt',\n '/gpfs/work/machnitz/plankton_logs/supervised/singlelabel/multirun/2022-04-19/08-14-50/17/logs/checkpoints/epoch=01-v1.ckpt',\n '/gpfs/work/machnitz/plankton_logs/supervised/singlelabel/multirun/2022-04-19/08-14-50/18/logs/checkpoints/epoch=01.ckpt',\n '/gpfs/work/machnitz/plankton_logs/linear_eval/singlelabel/multirun/2022-04-19/19-15-20/0/logs/checkpoints/epoch=21.ckpt',\n '/gpfs/work/machnitz/plankton_logs/linear_eval/singlelabel/multirun/2022-04-19/19-15-20/1/logs/checkpoints/epoch=25.ckpt',\n '/gpfs/work/machnitz/plankton_logs/linear_eval/singlelabel/multirun/2022-04-19/19-15-20/2/logs/checkpoints/epoch=10.ckpt',\n '/gpfs/work/machnitz/plankton_logs/linear_eval/singlelabel/multirun/2022-04-19/19-15-20/3/logs/checkpoints/epoch=27.ckpt',\n '/gpfs/work/machnitz/plankton_logs/linear_eval/singlelabel/multirun/2022-04-19/19-15-20/4/logs/checkpoints/epoch=22.ckpt',\n '/gpfs/work/machnitz/plankton_logs/linear_eval/singlelabel/multirun/2022-04-19/19-15-20/5/logs/checkpoints/epoch=12.ckpt',\n '/gpfs/work/machnitz/plankton_logs/linear_eval/singlelabel/multirun/2022-04-19/19-15-20/6/logs/checkpoints/epoch=21.ckpt',\n '/gpfs/work/machnitz/plankton_logs/linear_eval/singlelabel/multirun/2022-04-19/19-15-20/7/logs/checkpoints/epoch=05.ckpt',\n '/gpfs/work/machnitz/plankton_logs/linear_eval/singlelabel/multirun/2022-04-19/19-15-20/8/logs/checkpoints/epoch=13.ckpt',\n '/gpfs/work/machnitz/plankton_logs/linear_eval/singlelabel/multirun/2022-04-19/19-15-20/9/logs/checkpoints/epoch=03.ckpt',\n '/gpfs/work/machnitz/plankton_logs/linear_eval/singlelabel/multirun/2022-04-19/19-15-20/10/logs/checkpoints/epoch=04.ckpt',\n '/gpfs/work/machnitz/plankton_logs/linear_eval/singlelabel/multirun/2022-04-19/19-15-20/11/logs/checkpoints/epoch=04.ckpt',\n '/gpfs/work/machnitz/plankton_logs/linear_eval/singlelabel/multirun/2022-04-19/19-15-20/12/logs/checkpoints/epoch=02.ckpt',\n '/gpfs/work/machnitz/plankton_logs/linear_eval/singlelabel/multirun/2022-04-19/19-15-20/13/logs/checkpoints/epoch=01.ckpt',\n '/gpfs/work/machnitz/plankton_logs/linear_eval/singlelabel/multirun/2022-04-19/19-15-20/14/logs/checkpoints/epoch=02.ckpt',\n '/gpfs/work/machnitz/plankton_logs/linear_eval/singlelabel/multirun/2022-04-19/19-15-20/15/logs/checkpoints/epoch=01.ckpt',\n '/gpfs/work/machnitz/plankton_logs/linear_eval/singlelabel/multirun/2022-04-19/19-15-20/16/logs/checkpoints/epoch=00-v1.ckpt',\n '/gpfs/work/machnitz/plankton_logs/linear_eval/singlelabel/multirun/2022-04-19/19-15-20/17/logs/checkpoints/epoch=00.ckpt',\n '/gpfs/work/machnitz/plankton_logs/linear_eval/singlelabel/multirun/2022-04-19/19-15-20/18/logs/checkpoints/epoch=01.ckpt',\n '/gpfs/work/machnitz/plankton_logs/finetune/singlelabel/multirun/2022-04-19/08-15-24/0/logs/checkpoints/epoch=89.ckpt',\n '/gpfs/work/machnitz/plankton_logs/finetune/singlelabel/multirun/2022-04-19/08-15-24/1/logs/checkpoints/epoch=40.ckpt',\n '/gpfs/work/machnitz/plankton_logs/finetune/singlelabel/multirun/2022-04-19/08-15-24/2/logs/checkpoints/epoch=37.ckpt',\n '/gpfs/work/machnitz/plankton_logs/finetune/singlelabel/multirun/2022-04-19/08-15-24/3/logs/checkpoints/epoch=22.ckpt',\n '/gpfs/work/machnitz/plankton_logs/finetune/singlelabel/multirun/2022-04-19/08-15-24/4/logs/checkpoints/epoch=19.ckpt',\n '/gpfs/work/machnitz/plankton_logs/finetune/singlelabel/multirun/2022-04-19/08-15-24/5/logs/checkpoints/epoch=15.ckpt',\n '/gpfs/work/machnitz/plankton_logs/finetune/singlelabel/multirun/2022-04-19/08-15-24/6/logs/checkpoints/epoch=15.ckpt',\n '/gpfs/work/machnitz/plankton_logs/finetune/singlelabel/multirun/2022-04-19/08-15-24/7/logs/checkpoints/epoch=16.ckpt',\n '/gpfs/work/machnitz/plankton_logs/finetune/singlelabel/multirun/2022-04-19/08-15-24/8/logs/checkpoints/epoch=12.ckpt',\n '/gpfs/work/machnitz/plankton_logs/finetune/singlelabel/multirun/2022-04-19/08-15-24/9/logs/checkpoints/epoch=13.ckpt',\n '/gpfs/work/machnitz/plankton_logs/finetune/singlelabel/multirun/2022-04-19/08-15-24/10/logs/checkpoints/epoch=04.ckpt',\n '/gpfs/work/machnitz/plankton_logs/finetune/singlelabel/multirun/2022-04-19/08-15-24/11/logs/checkpoints/epoch=04.ckpt',\n '/gpfs/work/machnitz/plankton_logs/finetune/singlelabel/multirun/2022-04-19/08-15-24/12/logs/checkpoints/epoch=02.ckpt',\n '/gpfs/work/machnitz/plankton_logs/finetune/singlelabel/multirun/2022-04-19/08-15-24/13/logs/checkpoints/epoch=02.ckpt',\n '/gpfs/work/machnitz/plankton_logs/finetune/singlelabel/multirun/2022-04-19/08-15-24/14/logs/checkpoints/epoch=02.ckpt',\n '/gpfs/work/machnitz/plankton_logs/finetune/singlelabel/multirun/2022-04-19/08-15-24/15/logs/checkpoints/epoch=01-v1.ckpt',\n '/gpfs/work/machnitz/plankton_logs/finetune/singlelabel/multirun/2022-04-19/08-15-24/16/logs/checkpoints/epoch=01-v1.ckpt',\n '/gpfs/work/machnitz/plankton_logs/finetune/singlelabel/multirun/2022-04-19/08-15-24/17/logs/checkpoints/epoch=01-v1.ckpt',\n '/gpfs/work/machnitz/plankton_logs/finetune/singlelabel/multirun/2022-04-19/08-15-24/18/logs/checkpoints/epoch=01.ckpt',\n '/gpfs/work/machnitz/plankton_logs/linear_eval/singlelabel/multirun/2022-04-19/08-15-10/0/logs/checkpoints/epoch=04.ckpt',\n '/gpfs/work/machnitz/plankton_logs/linear_eval/singlelabel/multirun/2022-04-19/08-15-10/1/logs/checkpoints/epoch=07.ckpt',\n '/gpfs/work/machnitz/plankton_logs/linear_eval/singlelabel/multirun/2022-04-19/08-15-10/2/logs/checkpoints/epoch=05.ckpt',\n '/gpfs/work/machnitz/plankton_logs/linear_eval/singlelabel/multirun/2022-04-19/08-15-10/3/logs/checkpoints/epoch=15.ckpt',\n '/gpfs/work/machnitz/plankton_logs/linear_eval/singlelabel/multirun/2022-04-19/08-15-10/4/logs/checkpoints/epoch=01.ckpt',\n '/gpfs/work/machnitz/plankton_logs/linear_eval/singlelabel/multirun/2022-04-19/08-15-10/5/logs/checkpoints/epoch=08.ckpt',\n '/gpfs/work/machnitz/plankton_logs/linear_eval/singlelabel/multirun/2022-04-19/08-15-10/6/logs/checkpoints/epoch=08.ckpt',\n '/gpfs/work/machnitz/plankton_logs/linear_eval/singlelabel/multirun/2022-04-19/08-15-10/7/logs/checkpoints/epoch=04.ckpt',\n '/gpfs/work/machnitz/plankton_logs/linear_eval/singlelabel/multirun/2022-04-19/08-15-10/8/logs/checkpoints/epoch=07.ckpt',\n '/gpfs/work/machnitz/plankton_logs/linear_eval/singlelabel/multirun/2022-04-19/08-15-10/9/logs/checkpoints/epoch=03.ckpt',\n '/gpfs/work/machnitz/plankton_logs/linear_eval/singlelabel/multirun/2022-04-19/08-15-10/10/logs/checkpoints/epoch=04.ckpt',\n '/gpfs/work/machnitz/plankton_logs/linear_eval/singlelabel/multirun/2022-04-19/08-15-10/11/logs/checkpoints/epoch=04.ckpt',\n '/gpfs/work/machnitz/plankton_logs/linear_eval/singlelabel/multirun/2022-04-19/08-15-10/12/logs/checkpoints/epoch=02.ckpt',\n '/gpfs/work/machnitz/plankton_logs/linear_eval/singlelabel/multirun/2022-04-19/08-15-10/13/logs/checkpoints/epoch=01.ckpt',\n '/gpfs/work/machnitz/plankton_logs/linear_eval/singlelabel/multirun/2022-04-19/08-15-10/14/logs/checkpoints/epoch=02.ckpt',\n '/gpfs/work/machnitz/plankton_logs/linear_eval/singlelabel/multirun/2022-04-19/08-15-10/15/logs/checkpoints/epoch=01.ckpt',\n '/gpfs/work/machnitz/plankton_logs/linear_eval/singlelabel/multirun/2022-04-19/08-15-10/16/logs/checkpoints/epoch=00-v1.ckpt',\n '/gpfs/work/machnitz/plankton_logs/linear_eval/singlelabel/multirun/2022-04-19/08-15-10/17/logs/checkpoints/epoch=00.ckpt',\n '/gpfs/work/machnitz/plankton_logs/linear_eval/singlelabel/multirun/2022-04-19/08-15-10/18/logs/checkpoints/epoch=01.ckpt']"
     },
     "execution_count": 7,
     "metadata": {},
     "output_type": "execute_result"
    }
   ],
   "source": [
    "best_checkpoints"
   ],
   "metadata": {
    "collapsed": false,
    "pycharm": {
     "name": "#%%\n"
    },
    "trusted": false
   },
   "id": "2c6706ca"
  },
  {
   "cell_type": "code",
   "execution_count": 8,
   "outputs": [
    {
     "name": "stderr",
     "output_type": "stream",
     "text": [
      "77it [00:00, 4704.81it/s]                                                                                                                                                              | 0/19 [00:00<?, ?it/s]\n",
      "4536it [00:00, 7116.54it/s]\n",
      "88it [00:00, 6987.20it/s]████████████▏                                                                                                                                         | 2/19 [00:00<00:05,  3.04it/s]\n",
      "100it [00:00, 7218.61it/s]\n",
      "95it [00:00, 7496.59it/s]\n",
      "288it [00:00, 8515.69it/s]\n",
      "12it [00:00, 6250.05it/s]\n",
      "158it [00:00, 8721.69it/s]\n",
      "59it [00:00, 8805.61it/s]████████████████████████████████████████████████████████████▊                                                                                         | 8/19 [00:00<00:00, 13.06it/s]\n",
      "1215it [00:00, 15576.58it/s]\n",
      "386it [00:00, 21297.04it/s]\n",
      "56it [00:00, 10847.50it/s]\n",
      "1290it [00:00, 18747.60it/s]█████████████████████████████████████████████████████████████████████████████████████████▋                                                        | 12/19 [00:00<00:00, 17.94it/s]\n",
      "207it [00:00, 11833.62it/s]\n",
      "506it [00:00, 13170.16it/s]\n",
      "117576it [00:09, 12504.45it/s]\n",
      "Load Klas data:  79%|████████████████████████████████████████████████████████████████████████████████████████████████████████████████████████▊                                | 15/19 [00:10<00:02,  1.44it/s]\n"
     ]
    },
    {
     "ename": "KeyboardInterrupt",
     "evalue": "",
     "output_type": "error",
     "traceback": [
      "\u001B[0;31m---------------------------------------------------------------------------\u001B[0m",
      "\u001B[0;31mKeyboardInterrupt\u001B[0m                         Traceback (most recent call last)",
      "Input \u001B[0;32mIn [8]\u001B[0m, in \u001B[0;36m<cell line: 1>\u001B[0;34m()\u001B[0m\n\u001B[0;32m----> 1\u001B[0m \u001B[43mdatamodule\u001B[49m\u001B[38;5;241;43m.\u001B[39;49m\u001B[43msetup\u001B[49m\u001B[43m(\u001B[49m\u001B[43mstage\u001B[49m\u001B[38;5;241;43m=\u001B[39;49m\u001B[38;5;124;43m\"\u001B[39;49m\u001B[38;5;124;43mfit\u001B[39;49m\u001B[38;5;124;43m\"\u001B[39;49m\u001B[43m)\u001B[49m\n\u001B[1;32m      2\u001B[0m val_dataloader \u001B[38;5;241m=\u001B[39m datamodule\u001B[38;5;241m.\u001B[39mval_dataloader()\n\u001B[1;32m      4\u001B[0m \u001B[38;5;28;01mfor\u001B[39;00m batch \u001B[38;5;129;01min\u001B[39;00m val_dataloader:\n",
      "File \u001B[0;32m~/plankton-classifier-git/notebooks/../src/datamodule/DataLoader.py:209\u001B[0m, in \u001B[0;36mPlanktonDataLoader.setup\u001B[0;34m(self, stage)\u001B[0m\n\u001B[1;32m    203\u001B[0m \u001B[38;5;28;01mdef\u001B[39;00m \u001B[38;5;21msetup\u001B[39m(\u001B[38;5;28mself\u001B[39m, stage\u001B[38;5;241m=\u001B[39m\u001B[38;5;28;01mNone\u001B[39;00m):\n\u001B[1;32m    204\u001B[0m     \u001B[38;5;66;03m# if self.is_set_up:\u001B[39;00m\n\u001B[1;32m    205\u001B[0m     \u001B[38;5;66;03m#     self.console_logger.warning(\"The Datamodule was already set up and therefore this setup will be skipped.\")\u001B[39;00m\n\u001B[1;32m    206\u001B[0m     \u001B[38;5;66;03m#     return\u001B[39;00m\n\u001B[1;32m    208\u001B[0m     \u001B[38;5;28mself\u001B[39m\u001B[38;5;241m.\u001B[39mconsole_logger\u001B[38;5;241m.\u001B[39mdebug(\u001B[38;5;124m\"\u001B[39m\u001B[38;5;124mLoading Training data\u001B[39m\u001B[38;5;124m\"\u001B[39m)\n\u001B[0;32m--> 209\u001B[0m     train_subset \u001B[38;5;241m=\u001B[39m \u001B[38;5;28;43mself\u001B[39;49m\u001B[38;5;241;43m.\u001B[39;49m\u001B[43mprepare_data_setup\u001B[49m\u001B[43m(\u001B[49m\u001B[43msubset\u001B[49m\u001B[38;5;241;43m=\u001B[39;49m\u001B[38;5;124;43m\"\u001B[39;49m\u001B[38;5;124;43mtrain\u001B[39;49m\u001B[38;5;124;43m\"\u001B[39;49m\u001B[43m)\u001B[49m\n\u001B[1;32m    210\u001B[0m     \u001B[38;5;28mself\u001B[39m\u001B[38;5;241m.\u001B[39mconsole_logger\u001B[38;5;241m.\u001B[39mdebug(\u001B[38;5;124mf\u001B[39m\u001B[38;5;124m\"\u001B[39m\u001B[38;5;124mlen(train_subset) = \u001B[39m\u001B[38;5;132;01m{\u001B[39;00m\u001B[38;5;28mlen\u001B[39m(train_subset)\u001B[38;5;132;01m}\u001B[39;00m\u001B[38;5;124m\"\u001B[39m)\n\u001B[1;32m    211\u001B[0m     \u001B[38;5;28mself\u001B[39m\u001B[38;5;241m.\u001B[39mconsole_logger\u001B[38;5;241m.\u001B[39mdebug(\u001B[38;5;124m\"\u001B[39m\u001B[38;5;124mLoading Validation data\u001B[39m\u001B[38;5;124m\"\u001B[39m)\n",
      "File \u001B[0;32m~/plankton-classifier-git/notebooks/../src/datamodule/DataLoader.py:323\u001B[0m, in \u001B[0;36mPlanktonDataLoader.prepare_data_setup\u001B[0;34m(self, subset)\u001B[0m\n\u001B[1;32m    321\u001B[0m \u001B[38;5;28;01mif\u001B[39;00m \u001B[38;5;28mself\u001B[39m\u001B[38;5;241m.\u001B[39muse_klas_data:\n\u001B[1;32m    322\u001B[0m     \u001B[38;5;28;01mfor\u001B[39;00m folder \u001B[38;5;129;01min\u001B[39;00m tqdm(glob\u001B[38;5;241m.\u001B[39mglob(os\u001B[38;5;241m.\u001B[39mpath\u001B[38;5;241m.\u001B[39mjoin(\u001B[38;5;28mself\u001B[39m\u001B[38;5;241m.\u001B[39mklas_data_path, subset, \u001B[38;5;124m\"\u001B[39m\u001B[38;5;124m*\u001B[39m\u001B[38;5;124m\"\u001B[39m)), desc\u001B[38;5;241m=\u001B[39m\u001B[38;5;124m\"\u001B[39m\u001B[38;5;124mLoad Klas data\u001B[39m\u001B[38;5;124m\"\u001B[39m):\n\u001B[0;32m--> 323\u001B[0m         files \u001B[38;5;241m+\u001B[39m\u001B[38;5;241m=\u001B[39m \u001B[38;5;28;43mself\u001B[39;49m\u001B[38;5;241;43m.\u001B[39;49m\u001B[43m_add_data_from_folder\u001B[49m\u001B[43m(\u001B[49m\u001B[43mfolder\u001B[49m\u001B[43m,\u001B[49m\u001B[43m \u001B[49m\u001B[43mfile_ext\u001B[49m\u001B[38;5;241;43m=\u001B[39;49m\u001B[38;5;124;43m\"\u001B[39;49m\u001B[38;5;124;43mpng\u001B[39;49m\u001B[38;5;124;43m\"\u001B[39;49m\u001B[43m)\u001B[49m\n\u001B[1;32m    324\u001B[0m \u001B[38;5;28;01mreturn\u001B[39;00m files\n",
      "File \u001B[0;32m~/plankton-classifier-git/notebooks/../src/datamodule/DataLoader.py:364\u001B[0m, in \u001B[0;36mPlanktonDataLoader._add_data_from_folder\u001B[0;34m(self, folder, file_ext)\u001B[0m\n\u001B[1;32m    362\u001B[0m label \u001B[38;5;241m=\u001B[39m os\u001B[38;5;241m.\u001B[39mpath\u001B[38;5;241m.\u001B[39msplit(folder)[\u001B[38;5;241m-\u001B[39m\u001B[38;5;241m1\u001B[39m]\n\u001B[1;32m    363\u001B[0m label \u001B[38;5;241m=\u001B[39m \u001B[38;5;28mself\u001B[39m\u001B[38;5;241m.\u001B[39m_find_super_class(label)\n\u001B[0;32m--> 364\u001B[0m \u001B[38;5;28;01mif\u001B[39;00m \u001B[43mlabel\u001B[49m\u001B[43m \u001B[49m\u001B[38;5;129;43;01min\u001B[39;49;00m\u001B[43m \u001B[49m\u001B[38;5;28;43mself\u001B[39;49m\u001B[38;5;241;43m.\u001B[39;49m\u001B[43mexcluded_labels\u001B[49m:\n\u001B[1;32m    365\u001B[0m     \u001B[38;5;28;01mcontinue\u001B[39;00m\n\u001B[1;32m    366\u001B[0m files\u001B[38;5;241m.\u001B[39mappend((\u001B[38;5;28mself\u001B[39m\u001B[38;5;241m.\u001B[39mload_image(file, \u001B[38;5;28mself\u001B[39m\u001B[38;5;241m.\u001B[39mpreload_dataset), label))\n",
      "File \u001B[0;32m~/miniconda3/envs/plankton/lib/python3.8/site-packages/omegaconf/listconfig.py:552\u001B[0m, in \u001B[0;36mListConfig.__contains__\u001B[0;34m(self, item)\u001B[0m\n\u001B[1;32m    550\u001B[0m lst \u001B[38;5;241m=\u001B[39m \u001B[38;5;28mself\u001B[39m\u001B[38;5;241m.\u001B[39m\u001B[38;5;18m__dict__\u001B[39m[\u001B[38;5;124m\"\u001B[39m\u001B[38;5;124m_content\u001B[39m\u001B[38;5;124m\"\u001B[39m]\n\u001B[1;32m    551\u001B[0m \u001B[38;5;28;01mfor\u001B[39;00m x \u001B[38;5;129;01min\u001B[39;00m lst:\n\u001B[0;32m--> 552\u001B[0m     x \u001B[38;5;241m=\u001B[39m \u001B[43mx\u001B[49m\u001B[38;5;241;43m.\u001B[39;49m\u001B[43m_dereference_node\u001B[49m\u001B[43m(\u001B[49m\u001B[43m)\u001B[49m\n\u001B[1;32m    553\u001B[0m     \u001B[38;5;28;01mif\u001B[39;00m x \u001B[38;5;241m==\u001B[39m item:\n\u001B[1;32m    554\u001B[0m         \u001B[38;5;28;01mreturn\u001B[39;00m \u001B[38;5;28;01mTrue\u001B[39;00m\n",
      "File \u001B[0;32m~/miniconda3/envs/plankton/lib/python3.8/site-packages/omegaconf/base.py:205\u001B[0m, in \u001B[0;36mNode._dereference_node\u001B[0;34m(self)\u001B[0m\n\u001B[1;32m    204\u001B[0m \u001B[38;5;28;01mdef\u001B[39;00m \u001B[38;5;21m_dereference_node\u001B[39m(\u001B[38;5;28mself\u001B[39m) \u001B[38;5;241m-\u001B[39m\u001B[38;5;241m>\u001B[39m \u001B[38;5;124m\"\u001B[39m\u001B[38;5;124mNode\u001B[39m\u001B[38;5;124m\"\u001B[39m:\n\u001B[0;32m--> 205\u001B[0m     node \u001B[38;5;241m=\u001B[39m \u001B[38;5;28;43mself\u001B[39;49m\u001B[38;5;241;43m.\u001B[39;49m\u001B[43m_dereference_node_impl\u001B[49m\u001B[43m(\u001B[49m\u001B[43mthrow_on_resolution_failure\u001B[49m\u001B[38;5;241;43m=\u001B[39;49m\u001B[38;5;28;43;01mTrue\u001B[39;49;00m\u001B[43m)\u001B[49m\n\u001B[1;32m    206\u001B[0m     \u001B[38;5;28;01massert\u001B[39;00m node \u001B[38;5;129;01mis\u001B[39;00m \u001B[38;5;129;01mnot\u001B[39;00m \u001B[38;5;28;01mNone\u001B[39;00m\n\u001B[1;32m    207\u001B[0m     \u001B[38;5;28;01mreturn\u001B[39;00m node\n",
      "File \u001B[0;32m~/miniconda3/envs/plankton/lib/python3.8/site-packages/omegaconf/base.py:224\u001B[0m, in \u001B[0;36mNode._dereference_node_impl\u001B[0;34m(self, throw_on_resolution_failure, memo)\u001B[0m\n\u001B[1;32m    219\u001B[0m \u001B[38;5;28;01mdef\u001B[39;00m \u001B[38;5;21m_dereference_node_impl\u001B[39m(\n\u001B[1;32m    220\u001B[0m     \u001B[38;5;28mself\u001B[39m,\n\u001B[1;32m    221\u001B[0m     throw_on_resolution_failure: \u001B[38;5;28mbool\u001B[39m,\n\u001B[1;32m    222\u001B[0m     memo: Optional[Set[\u001B[38;5;28mint\u001B[39m]] \u001B[38;5;241m=\u001B[39m \u001B[38;5;28;01mNone\u001B[39;00m,\n\u001B[1;32m    223\u001B[0m ) \u001B[38;5;241m-\u001B[39m\u001B[38;5;241m>\u001B[39m Optional[\u001B[38;5;124m\"\u001B[39m\u001B[38;5;124mNode\u001B[39m\u001B[38;5;124m\"\u001B[39m]:\n\u001B[0;32m--> 224\u001B[0m     \u001B[38;5;28;01mif\u001B[39;00m \u001B[38;5;129;01mnot\u001B[39;00m \u001B[38;5;28;43mself\u001B[39;49m\u001B[38;5;241;43m.\u001B[39;49m\u001B[43m_is_interpolation\u001B[49m\u001B[43m(\u001B[49m\u001B[43m)\u001B[49m:\n\u001B[1;32m    225\u001B[0m         \u001B[38;5;28;01mreturn\u001B[39;00m \u001B[38;5;28mself\u001B[39m\n\u001B[1;32m    227\u001B[0m     parent \u001B[38;5;241m=\u001B[39m \u001B[38;5;28mself\u001B[39m\u001B[38;5;241m.\u001B[39m_get_parent()\n",
      "File \u001B[0;32m~/miniconda3/envs/plankton/lib/python3.8/site-packages/omegaconf/nodes.py:95\u001B[0m, in \u001B[0;36mValueNode._is_interpolation\u001B[0;34m(self)\u001B[0m\n\u001B[1;32m     94\u001B[0m \u001B[38;5;28;01mdef\u001B[39;00m \u001B[38;5;21m_is_interpolation\u001B[39m(\u001B[38;5;28mself\u001B[39m) \u001B[38;5;241m-\u001B[39m\u001B[38;5;241m>\u001B[39m \u001B[38;5;28mbool\u001B[39m:\n\u001B[0;32m---> 95\u001B[0m     \u001B[38;5;28;01mreturn\u001B[39;00m \u001B[43m_is_interpolation\u001B[49m\u001B[43m(\u001B[49m\u001B[38;5;28;43mself\u001B[39;49m\u001B[38;5;241;43m.\u001B[39;49m\u001B[43m_value\u001B[49m\u001B[43m(\u001B[49m\u001B[43m)\u001B[49m\u001B[43m)\u001B[49m\n",
      "File \u001B[0;32m~/miniconda3/envs/plankton/lib/python3.8/site-packages/omegaconf/_utils.py:666\u001B[0m, in \u001B[0;36m_is_interpolation\u001B[0;34m(v, strict_interpolation_validation)\u001B[0m\n\u001B[1;32m    663\u001B[0m \u001B[38;5;28;01mdef\u001B[39;00m \u001B[38;5;21m_is_interpolation\u001B[39m(v: Any, strict_interpolation_validation: \u001B[38;5;28mbool\u001B[39m \u001B[38;5;241m=\u001B[39m \u001B[38;5;28;01mFalse\u001B[39;00m) \u001B[38;5;241m-\u001B[39m\u001B[38;5;241m>\u001B[39m \u001B[38;5;28mbool\u001B[39m:\n\u001B[1;32m    664\u001B[0m     \u001B[38;5;28;01mif\u001B[39;00m \u001B[38;5;28misinstance\u001B[39m(v, \u001B[38;5;28mstr\u001B[39m):\n\u001B[1;32m    665\u001B[0m         ret \u001B[38;5;241m=\u001B[39m (\n\u001B[0;32m--> 666\u001B[0m             \u001B[43mget_value_kind\u001B[49m\u001B[43m(\u001B[49m\u001B[43mv\u001B[49m\u001B[43m,\u001B[49m\u001B[43m \u001B[49m\u001B[43mstrict_interpolation_validation\u001B[49m\u001B[43m)\u001B[49m\n\u001B[1;32m    667\u001B[0m             \u001B[38;5;241m==\u001B[39m ValueKind\u001B[38;5;241m.\u001B[39mINTERPOLATION\n\u001B[1;32m    668\u001B[0m         )\n\u001B[1;32m    669\u001B[0m         \u001B[38;5;28;01massert\u001B[39;00m \u001B[38;5;28misinstance\u001B[39m(ret, \u001B[38;5;28mbool\u001B[39m)\n\u001B[1;32m    670\u001B[0m         \u001B[38;5;28;01mreturn\u001B[39;00m ret\n",
      "File \u001B[0;32m~/miniconda3/envs/plankton/lib/python3.8/site-packages/omegaconf/_utils.py:511\u001B[0m, in \u001B[0;36mget_value_kind\u001B[0;34m(value, strict_interpolation_validation)\u001B[0m\n\u001B[1;32m    508\u001B[0m \u001B[38;5;28;01mif\u001B[39;00m _is_missing_value(value):\n\u001B[1;32m    509\u001B[0m     \u001B[38;5;28;01mreturn\u001B[39;00m ValueKind\u001B[38;5;241m.\u001B[39mMANDATORY_MISSING\n\u001B[0;32m--> 511\u001B[0m value \u001B[38;5;241m=\u001B[39m \u001B[43m_get_value\u001B[49m\u001B[43m(\u001B[49m\u001B[43mvalue\u001B[49m\u001B[43m)\u001B[49m\n\u001B[1;32m    513\u001B[0m \u001B[38;5;66;03m# We identify potential interpolations by the presence of \"${\" in the string.\u001B[39;00m\n\u001B[1;32m    514\u001B[0m \u001B[38;5;66;03m# Note that escaped interpolations (ex: \"esc: \\${bar}\") are identified as\u001B[39;00m\n\u001B[1;32m    515\u001B[0m \u001B[38;5;66;03m# interpolations: this is intended, since they must be processed as interpolations\u001B[39;00m\n\u001B[1;32m    516\u001B[0m \u001B[38;5;66;03m# for the string to be properly un-escaped.\u001B[39;00m\n\u001B[1;32m    517\u001B[0m \u001B[38;5;66;03m# Keep in mind that invalid interpolations will only be detected when\u001B[39;00m\n\u001B[1;32m    518\u001B[0m \u001B[38;5;66;03m# `strict_interpolation_validation` is True.\u001B[39;00m\n\u001B[1;32m    519\u001B[0m \u001B[38;5;28;01mif\u001B[39;00m \u001B[38;5;28misinstance\u001B[39m(value, \u001B[38;5;28mstr\u001B[39m) \u001B[38;5;129;01mand\u001B[39;00m \u001B[38;5;124m\"\u001B[39m\u001B[38;5;124m$\u001B[39m\u001B[38;5;124m{\u001B[39m\u001B[38;5;124m\"\u001B[39m \u001B[38;5;129;01min\u001B[39;00m value:\n",
      "File \u001B[0;32m~/miniconda3/envs/plankton/lib/python3.8/site-packages/omegaconf/_utils.py:675\u001B[0m, in \u001B[0;36m_get_value\u001B[0;34m(value)\u001B[0m\n\u001B[1;32m    674\u001B[0m \u001B[38;5;28;01mdef\u001B[39;00m \u001B[38;5;21m_get_value\u001B[39m(value: Any) \u001B[38;5;241m-\u001B[39m\u001B[38;5;241m>\u001B[39m Any:\n\u001B[0;32m--> 675\u001B[0m     \u001B[38;5;28;01mfrom\u001B[39;00m \u001B[38;5;21;01m.\u001B[39;00m\u001B[38;5;21;01mbase\u001B[39;00m \u001B[38;5;28;01mimport\u001B[39;00m Container\n\u001B[1;32m    676\u001B[0m     \u001B[38;5;28;01mfrom\u001B[39;00m \u001B[38;5;21;01m.\u001B[39;00m\u001B[38;5;21;01mnodes\u001B[39;00m \u001B[38;5;28;01mimport\u001B[39;00m ValueNode\n\u001B[1;32m    678\u001B[0m     \u001B[38;5;28;01mif\u001B[39;00m \u001B[38;5;28misinstance\u001B[39m(value, ValueNode):\n",
      "\u001B[0;31mKeyboardInterrupt\u001B[0m: "
     ]
    }
   ],
   "source": [
    "\n",
    "datamodule.setup(stage=\"fit\")\n",
    "val_dataloader = datamodule.val_dataloader()\n",
    "\n",
    "for batch in val_dataloader:\n",
    "    example_input, _ = batch\n",
    "    break\n",
    "\n",
    "val_logits, val_labels, val_return_metrics = run_and_save(best_checkpoint, val_dataloader, return_metrics,\n",
    "                                                          key + \"valid\", experiment_number)"
   ],
   "metadata": {
    "collapsed": false,
    "pycharm": {
     "name": "#%%\n"
    },
    "trusted": false
   },
   "id": "69b0e04c"
  },
  {
   "cell_type": "code",
   "execution_count": null,
   "id": "ad187524-eb32-4e4f-b364-0e4230e614e9",
   "metadata": {
    "pycharm": {
     "name": "#%%\n"
    },
    "trusted": false
   },
   "outputs": [],
   "source": [
    "\n",
    "datamodule.setup(stage=\"test\")\n",
    "test_dataloader = datamodule.test_dataloader()\n",
    "\n",
    "for batch in test_dataloader:\n",
    "    example_input, _ = batch\n",
    "    break\n",
    "\n",
    "test_logits, test_labels, test_return_metrics = run_and_save(best_checkpoint, test_dataloader, return_metrics,\n",
    "                                                             key + \"test_new\", experiment_number)"
   ]
  },
  {
   "cell_type": "code",
   "execution_count": null,
   "id": "950fc000-d522-4627-8db8-5548cf83b5a7",
   "metadata": {
    "pycharm": {
     "name": "#%%\n"
    },
    "trusted": false
   },
   "outputs": [],
   "source": [
    "reform = {(outerKey, innerKey): values for outerKey, innerDict in return_metrics.items() for innerKey, values in\n",
    "          innerDict.items()}\n",
    "single_label_df = pd.DataFrame.from_dict(reform).T\n",
    "single_label_df.index.names = (\"Model\", \"Experiment\")\n",
    "single_label_df"
   ]
  },
  {
   "cell_type": "code",
   "execution_count": null,
   "id": "26d9ef2a-3f79-424e-b26c-2389cfb2f9da",
   "metadata": {
    "pycharm": {
     "name": "#%%\n"
    },
    "trusted": false
   },
   "outputs": [],
   "source": [
    "fig, ax = plt.subplots(figsize=(15, 5))\n",
    "sns.lineplot(x=\"Data Fraction\", y=\"Accuracy/Testing\", hue=\"Model\", style=\"Model\", data=single_label_df, ax=ax,\n",
    "             palette=hereon_color_array, markers=True, markersize=10, )\n",
    "\n",
    "# for item in data_splits_per_experiment:\n",
    "#     ax.text(item,0.3,f'{item * 100:.0f}%',color=\"grey\", horizontalalignment=\"center\", rotation=-45)\n",
    "\n",
    "ax.set_xscale(\"log\")\n",
    "plt.savefig(\"Accuracies_Testing_Singlelabel.png\", dpi=300)"
   ]
  },
  {
   "cell_type": "code",
   "execution_count": null,
   "id": "3ecba306-d534-4c4b-910b-80e41e9f7910",
   "metadata": {
    "pycharm": {
     "name": "#%%\n"
    },
    "trusted": false
   },
   "outputs": [],
   "source": [
    "fig, ax = plt.subplots(figsize=(15, 5))\n",
    "sns.lineplot(x=\"Data Fraction\", y=\"ECE\", hue=\"Model\", style=\"Model\", data=single_label_df, ax=ax,\n",
    "             palette=hereon_color_array, markers=True, markersize=10, )\n",
    "\n",
    "for item in data_splits_per_experiment:\n",
    "    ax.text(item, 0.2, f'{item * 100:.0f}%', color=\"grey\", horizontalalignment=\"center\", rotation=-45)\n",
    "\n",
    "ax.set_xscale(\"log\")\n",
    "ax.legend(loc=\"best\")\n",
    "plt.savefig(\"ECE_Testing_Singlelabel.png\", dpi=300)"
   ]
  },
  {
   "cell_type": "code",
   "execution_count": null,
   "id": "cf5920f7-58f6-4cb8-85a6-aa242a406def",
   "metadata": {
    "pycharm": {
     "name": "#%%\n"
    },
    "trusted": false
   },
   "outputs": [],
   "source": [
    "fig, ax = plt.subplots(figsize=(15, 5))\n",
    "sns.lineplot(x=\"Data Fraction\", y=\"loss/Testing\", hue=\"Model\", style=\"Model\", data=single_label_df, ax=ax,\n",
    "             palette=hereon_color_array, markers=True, markersize=10, )\n",
    "\n",
    "for item in data_splits_per_experiment:\n",
    "    ax.text(item, 2, f'{item * 100:.0f}%', color=\"grey\", horizontalalignment=\"center\", rotation=-45)\n",
    "\n",
    "ax.set_xscale(\"log\")\n",
    "ax.legend(loc=\"best\")\n",
    "plt.savefig(\"NLL_Testing_Singlelabel.png\", dpi=300)"
   ]
  },
  {
   "cell_type": "code",
   "execution_count": null,
   "id": "701413fd-84bc-4b34-886f-6ea63de73181",
   "metadata": {
    "pycharm": {
     "name": "#%%\n"
    },
    "trusted": false
   },
   "outputs": [],
   "source": []
  }
 ],
 "metadata": {
  "kernelspec": {
   "display_name": "Plankton",
   "language": "python",
   "name": "plankton"
  },
  "language_info": {
   "codemirror_mode": {
    "name": "ipython",
    "version": 3
   },
   "file_extension": ".py",
   "mimetype": "text/x-python",
   "name": "python",
   "nbconvert_exporter": "python",
   "pygments_lexer": "ipython3",
   "version": "3.8.13"
  }
 },
 "nbformat": 4,
 "nbformat_minor": 5
}