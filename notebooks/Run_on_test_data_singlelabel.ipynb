{
 "cells": [
  {
   "cell_type": "code",
   "execution_count": 1,
   "id": "f681ab42-a578-4141-aa26-522db9f2db34",
   "metadata": {
    "pycharm": {
     "name": "#%%\n"
    },
    "trusted": true
   },
   "outputs": [
    {
     "name": "stderr",
     "output_type": "stream",
     "text": "/tmp/ipykernel_133314/2562400360.py:20: UserWarning: \nThe version_base parameter is not specified.\nPlease specify a compatability version level, or None.\nWill assume defaults for version 1.1\n  hydra.initialize(config_path=\"../conf\", job_name=\"plankton\")\n"
    }
   ],
   "source": "import matplotlib.pyplot as plt\nimport seaborn as sns\nimport torch\nimport torchmetrics\nfrom tqdm.auto import tqdm\n\nsns.set()\nimport numpy as np\nimport os\nimport pandas as pd\nimport sys\n\nsys.path.append(\"..\")\nimport hydra\nfrom src.lib.config import register_configs\nfrom src.utils.EvalWrapper import EvalWrapper\n\nregister_configs()\ntry:\n    hydra.initialize(config_path=\"../conf\", job_name=\"plankton\")\nexcept ValueError:\n    print(ValueError)\n\nimport pytorch_lightning as pl\nimport pickle\nfrom eval_single_helper_funcs import instantiate_trainer, run_and_save, get_confidence_and_acc_single, get_temperature_file, get_distribution_file"
  },
  {
   "cell_type": "code",
   "execution_count": 2,
   "id": "f2addaef-7e5d-4b01-a0f5-2ca79d2bde92",
   "metadata": {
    "pycharm": {
     "name": "#%%\n"
    },
    "trusted": true
   },
   "outputs": [
    {
     "name": "stdout",
     "output_type": "stream",
     "text": "Data splits:  [0.01, 0.02, 0.03, 0.04, 0.05, 0.06, 0.07, 0.08, 0.09, 0.1, 0.2, 0.3, 0.4, 0.5, 0.6, 0.7, 0.8, 0.9, 1.0]\n"
    }
   ],
   "source": "# set global values:\n\nexperiments_singlelabel = {\n    \"supervised_singlelabel\": \"/gpfs/work/machnitz/plankton_logs/supervised/singlelabel/multirun/2022-04-19/08-14-50\",\n    \"linear_singlelabel\": \"/gpfs/work/machnitz/plankton_logs/linear_eval/singlelabel/multirun/2022-04-19/19-15-20\",\n    \"finetune_singlelabel\": \"/gpfs/work/machnitz/plankton_logs/finetune/singlelabel/multirun/2022-04-19/08-15-24\",\n    \"finetune_sgd_singlelabel\": \"/gpfs/work/machnitz/plankton_logs/finetune_sgd/singlelabel/multirun/2022-04-19/08-15-10\"\n}\n\ndata_splits_per_experiment = [np.round(x, 2) for x in np.arange(0.01, 0.1, 0.01)] + [np.round(x, 2) for x in\n                                                                                     np.arange(0.1, 1.1, 0.1)]\nprint(\"Data splits: \", data_splits_per_experiment)"
  },
  {
   "cell_type": "code",
   "execution_count": 3,
   "id": "807252f0-2aac-4720-907a-8812503a8c99",
   "metadata": {
    "pycharm": {
     "name": "#%%\n"
    },
    "trusted": true
   },
   "outputs": [],
   "source": "from matplotlib.colors import ListedColormap\nimport seaborn as sns\n\nsns.set()\n\nhereon_color_array = np.array([\n    [230, 0, 70],\n    [0, 145, 160],\n    [0, 170, 230],\n    [250, 180, 35],\n    [0, 70, 125],\n    [175, 25, 60],\n    [170, 200, 70],\n    [250, 115, 80],\n    [140, 90, 180],\n\n])\nhereon_color_array = hereon_color_array / 255\nhereon_cmap = ListedColormap(hereon_color_array)\n\nsns.set_palette(hereon_color_array)"
  },
  {
   "cell_type": "markdown",
   "id": "59ed179e-a1f9-455c-bf93-605e5058fd12",
   "metadata": {
    "pycharm": {
     "name": "#%% md\n"
    }
   },
   "source": "# Single Label"
  },
  {
   "cell_type": "code",
   "execution_count": 4,
   "id": "0b8b403f-5539-4b41-a5ba-e9f20a84d1ec",
   "metadata": {
    "pycharm": {
     "name": "#%%\n"
    },
    "trusted": true
   },
   "outputs": [
    {
     "name": "stderr",
     "output_type": "stream",
     "text": "Global seed set to 7\n"
    }
   ],
   "source": "pl.seed_everything(7)\nnp.random.seed(7)\ncfg = hydra.compose(config_name=\"config\", overrides=[\"+experiment=plankton/publication/supervised_singlelabel\",\n                                                     \"random_seed=7\",\n                                                     \"strategy=SingleDevice\",\n                                                     'strategy.device=\"cuda:0\"',\n                                                     \"trainer.enable_progress_bar=false\",\n                                                     \"datamodule.batch_size=200\",\n                                                     \"lightning_module.log_confusion_matrices=false\",\n                                                     \"lightning_module.temperature_scale=false\",\n                                                     ])"
  },
  {
   "cell_type": "code",
   "execution_count": 5,
   "id": "7a28ad4a-4065-4853-ae0d-c9d80ed515c9",
   "metadata": {
    "pycharm": {
     "name": "#%%\n"
    },
    "trusted": true
   },
   "outputs": [],
   "source": "\n# train_transforms = hydra.utils.instantiate(cfg.datamodule.train_transforms)\n# valid_transforms = hydra.utils.instantiate(cfg.datamodule.valid_transforms)\n#\n# datamodule = hydra.utils.instantiate(\n#     cfg.datamodule,\n#     train_transforms=train_transforms,\n#     valid_transforms=valid_transforms,\n#     dataset=cfg.datamodule.dataset,\n#     is_ddp=False,\n# )\n# datamodule.setup(stage=\"test\")"
  },
  {
   "cell_type": "code",
   "execution_count": null,
   "outputs": [],
   "source": [
    "# trainer = instantiate_trainer(cfg)\n",
    "#\n",
    "# test_dataloader = datamodule.test_dataloader()\n",
    "# for example_input, _ in test_dataloader:\n",
    "#     break\n",
    "\n",
    "# acc_func = torchmetrics.Accuracy(average=\"none\", num_classes=len(datamodule.unique_labels))\n",
    "best_checkpoints = []\n",
    "return_metrics = dict()\n",
    "for key, setup_path in experiments_singlelabel.items():\n",
    "    experiment_folders = [os.path.join(setup_path, str(i)) for i in np.arange(0, 19)]\n",
    "    return_metrics[key] = dict()\n",
    "    # fig, axes = plt.subplots(nrows=4, ncols=5, figsize=(20, 15), sharex=True, sharey=True)\n",
    "    for experiment_number, experiment_path in enumerate(tqdm(experiment_folders)):\n",
    "        # print(experiment_number)\n",
    "        with open(os.path.join(experiment_path, \"main.log\"), \"r\") as f:\n",
    "            complete_log = f.readlines()\n",
    "            found_best_checkpoint = False\n",
    "            for line in complete_log:\n",
    "                # print(line)\n",
    "                if found_best_checkpoint:\n",
    "                    best_checkpoint_part = os.path.normpath(line.strip().split(\"multirun/\")[-1]).strip()\n",
    "                    base_path = os.path.normpath(experiment_path.split(\"multirun\")[0]).strip()\n",
    "                    best_checkpoint_result = os.path.join(base_path, \"multirun\", best_checkpoint_part).strip()\n",
    "                    # print(f\"set best checkpoint to {best_checkpoint}\")\n",
    "                    break\n",
    "\n",
    "                if \"[main.main][INFO] - Best checkpoint path:\" in line:\n",
    "                    found_best_checkpoint = True\n",
    "                    # print(f\"found best checkpoint: {line}\")\n",
    "        best_checkpoints.append(best_checkpoint_result)\n",
    "    #     if os.path.isfile(f\"test_results/labels_{key}_{experiment_number}.pt\"):\n",
    "    #         print(f\"loading {key}_{experiment_number} from file\")\n",
    "    #         logits = torch.load(f\"test_results/logits_{key}_{experiment_number}.pt\")\n",
    "    #         labels = torch.load(f\"test_results/labels_{key}_{experiment_number}.pt\")\n",
    "    #         with open(f\"test_results/dict_{key}_{experiment_number}.pkl\", 'rb') as f:\n",
    "    #             return_metrics = pickle.load(f)\n",
    "    #     else:\n",
    "    #         logits, labels, return_metrics = run_and_save(best_checkpoint, test_dataloader, return_metrics, key,\n",
    "    #                                                       experiment_number, data_splits_per_experiment, trainer,\n",
    "    #                                                       datamodule, example_input)\n",
    "    #\n",
    "    #     accuracies, confidences, ece = get_confidence_and_acc_single(logits, labels)\n",
    "    #     return_metrics[key][experiment_number][\"ECE\"] = ece\n",
    "    #\n",
    "    #     prob_scaling = EvalWrapper(temperature_file=get_temperature_file(best_checkpoint),\n",
    "    #                                training_distribution_file=get_distribution_file(best_checkpoint),\n",
    "    #                                device=\"cpu\")\n",
    "    #\n",
    "    #     corrected_probabilities = prob_scaling(logits=logits, correct_probabilities_with_training_prior=True)\n",
    "    #     accuracies_corrected, confidences_corrected, ece_corrected = get_confidence_and_acc_single(\n",
    "    #         corrected_probabilities,\n",
    "    #         labels,\n",
    "    #         logits_are_probs=True)\n",
    "    #     temp_scaled_logits = prob_scaling(logits=logits, correct_probabilities_with_temperature=True)\n",
    "    #     accuracies_temp, confidences_temp, ece_temp = get_confidence_and_acc_single(temp_scaled_logits,\n",
    "    #                                                                                 labels,\n",
    "    #                                                                                 logits_are_probs=False)\n",
    "    #     temp_and_prior_corrected_probabilities = prob_scaling(logits=temp_scaled_logits,\n",
    "    #                                                           correct_probabilities_with_training_prior=True)\n",
    "    #     accuracies_temp_and_corrected, confidences_temp_and_corrected, ece_temp_and_corrected = get_confidence_and_acc_single(\n",
    "    #         temp_and_prior_corrected_probabilities, labels, logits_are_probs=False)\n",
    "    #\n",
    "    #     ax = axes.flatten()[experiment_number]\n",
    "    #     sns.lineplot(x=confidences.cpu().numpy(), y=accuracies.cpu().numpy(), ax=ax, label=\"pure NN outputs\")\n",
    "    #     sns.lineplot(x=confidences_corrected.cpu().numpy(), y=accuracies_corrected.cpu().numpy(), ax=ax,\n",
    "    #                  label=\"prior corrected outputs\")\n",
    "    #     sns.lineplot(x=confidences_temp.cpu().numpy(), y=accuracies_temp.cpu().numpy(), ax=ax,\n",
    "    #                  label=\"temp scaled outputs\")\n",
    "    #     sns.lineplot(x=confidences_temp_and_corrected.cpu().numpy(), y=accuracies_temp_and_corrected.cpu().numpy(),\n",
    "    #                  ax=ax, label=\"temp scaled and corrected\")\n",
    "    #     ax.plot(np.linspace(0, 1, 100), np.linspace(0, 1, 100), c=\"grey\", ls=\"--\")\n",
    "    #     ax.set_xlabel(\"Confidence\")\n",
    "    #     ax.set_ylabel(\"Accuracy\")\n",
    "    #     ax.set_title(f\"{key} | {data_splits_per_experiment[experiment_number]}\")\n",
    "    #     ax.legend(loc=\"best\")\n",
    "    # plt.savefig(f\"ConfidenceAccuracy{key}.png\", dpi=300)\n",
    "    # plt.show()\n",
    "    # plt.close(\"all\")\n"
   ],
   "metadata": {
    "collapsed": false,
    "pycharm": {
     "name": "#%%\n"
    }
   }
  },
  {
   "cell_type": "code",
   "execution_count": null,
   "outputs": [],
   "source": [
    "os.path.join(base_path, best_checkpoint_part[1:])"
   ],
   "metadata": {
    "collapsed": false,
    "pycharm": {
     "name": "#%%\n"
    }
   }
  },
  {
   "cell_type": "code",
   "execution_count": 36,
   "id": "2c6706ca",
   "metadata": {
    "pycharm": {
     "name": "#%%\n"
    },
    "trusted": true
   },
   "outputs": [
    {
     "data": {
      "text/plain": "['/gpfs/work/machnitz/plankton_logs/supervised/singlelabel/multirun/2022-04-19/08-14-50/0/logs/checkpoints/epoch=99.ckpt',\n '/gpfs/work/machnitz/plankton_logs/supervised/singlelabel/multirun/2022-04-19/08-14-50/1/logs/checkpoints/epoch=47.ckpt',\n '/gpfs/work/machnitz/plankton_logs/supervised/singlelabel/multirun/2022-04-19/08-14-50/2/logs/checkpoints/epoch=37.ckpt',\n '/gpfs/work/machnitz/plankton_logs/supervised/singlelabel/multirun/2022-04-19/08-14-50/3/logs/checkpoints/epoch=26.ckpt',\n '/gpfs/work/machnitz/plankton_logs/supervised/singlelabel/multirun/2022-04-19/08-14-50/4/logs/checkpoints/epoch=19.ckpt',\n '/gpfs/work/machnitz/plankton_logs/supervised/singlelabel/multirun/2022-04-19/08-14-50/5/logs/checkpoints/epoch=15.ckpt',\n '/gpfs/work/machnitz/plankton_logs/supervised/singlelabel/multirun/2022-04-19/08-14-50/6/logs/checkpoints/epoch=14.ckpt',\n '/gpfs/work/machnitz/plankton_logs/supervised/singlelabel/multirun/2022-04-19/08-14-50/7/logs/checkpoints/epoch=16.ckpt',\n '/gpfs/work/machnitz/plankton_logs/supervised/singlelabel/multirun/2022-04-19/08-14-50/8/logs/checkpoints/epoch=14.ckpt',\n '/gpfs/work/machnitz/plankton_logs/supervised/singlelabel/multirun/2022-04-19/08-14-50/9/logs/checkpoints/epoch=13.ckpt',\n '/gpfs/work/machnitz/plankton_logs/supervised/singlelabel/multirun/2022-04-19/08-14-50/10/logs/checkpoints/epoch=04.ckpt',\n '/gpfs/work/machnitz/plankton_logs/supervised/singlelabel/multirun/2022-04-19/08-14-50/11/logs/checkpoints/epoch=04.ckpt',\n '/gpfs/work/machnitz/plankton_logs/supervised/singlelabel/multirun/2022-04-19/08-14-50/12/logs/checkpoints/epoch=02.ckpt',\n '/gpfs/work/machnitz/plankton_logs/supervised/singlelabel/multirun/2022-04-19/08-14-50/13/logs/checkpoints/epoch=02.ckpt',\n '/gpfs/work/machnitz/plankton_logs/supervised/singlelabel/multirun/2022-04-19/08-14-50/14/logs/checkpoints/epoch=02.ckpt',\n '/gpfs/work/machnitz/plankton_logs/supervised/singlelabel/multirun/2022-04-19/08-14-50/15/logs/checkpoints/epoch=01-v1.ckpt',\n '/gpfs/work/machnitz/plankton_logs/supervised/singlelabel/multirun/2022-04-19/08-14-50/16/logs/checkpoints/epoch=01-v1.ckpt',\n '/gpfs/work/machnitz/plankton_logs/supervised/singlelabel/multirun/2022-04-19/08-14-50/17/logs/checkpoints/epoch=01-v1.ckpt',\n '/gpfs/work/machnitz/plankton_logs/supervised/singlelabel/multirun/2022-04-19/08-14-50/18/logs/checkpoints/epoch=01.ckpt',\n '/gpfs/work/machnitz/plankton_logs/linear_eval/singlelabel/multirun/2022-04-19/19-15-20/0/logs/checkpoints/epoch=21.ckpt',\n '/gpfs/work/machnitz/plankton_logs/linear_eval/singlelabel/multirun/2022-04-19/19-15-20/1/logs/checkpoints/epoch=25.ckpt',\n '/gpfs/work/machnitz/plankton_logs/linear_eval/singlelabel/multirun/2022-04-19/19-15-20/2/logs/checkpoints/epoch=10.ckpt',\n '/gpfs/work/machnitz/plankton_logs/linear_eval/singlelabel/multirun/2022-04-19/19-15-20/3/logs/checkpoints/epoch=27.ckpt',\n '/gpfs/work/machnitz/plankton_logs/linear_eval/singlelabel/multirun/2022-04-19/19-15-20/4/logs/checkpoints/epoch=22.ckpt',\n '/gpfs/work/machnitz/plankton_logs/linear_eval/singlelabel/multirun/2022-04-19/19-15-20/5/logs/checkpoints/epoch=12.ckpt',\n '/gpfs/work/machnitz/plankton_logs/linear_eval/singlelabel/multirun/2022-04-19/19-15-20/6/logs/checkpoints/epoch=21.ckpt',\n '/gpfs/work/machnitz/plankton_logs/linear_eval/singlelabel/multirun/2022-04-19/19-15-20/7/logs/checkpoints/epoch=05.ckpt',\n '/gpfs/work/machnitz/plankton_logs/linear_eval/singlelabel/multirun/2022-04-19/19-15-20/8/logs/checkpoints/epoch=13.ckpt',\n '/gpfs/work/machnitz/plankton_logs/linear_eval/singlelabel/multirun/2022-04-19/19-15-20/9/logs/checkpoints/epoch=03.ckpt',\n '/gpfs/work/machnitz/plankton_logs/linear_eval/singlelabel/multirun/2022-04-19/19-15-20/10/logs/checkpoints/epoch=04.ckpt',\n '/gpfs/work/machnitz/plankton_logs/linear_eval/singlelabel/multirun/2022-04-19/19-15-20/11/logs/checkpoints/epoch=04.ckpt',\n '/gpfs/work/machnitz/plankton_logs/linear_eval/singlelabel/multirun/2022-04-19/19-15-20/12/logs/checkpoints/epoch=02.ckpt',\n '/gpfs/work/machnitz/plankton_logs/linear_eval/singlelabel/multirun/2022-04-19/19-15-20/13/logs/checkpoints/epoch=01.ckpt',\n '/gpfs/work/machnitz/plankton_logs/linear_eval/singlelabel/multirun/2022-04-19/19-15-20/14/logs/checkpoints/epoch=02.ckpt',\n '/gpfs/work/machnitz/plankton_logs/linear_eval/singlelabel/multirun/2022-04-19/19-15-20/15/logs/checkpoints/epoch=01.ckpt',\n '/gpfs/work/machnitz/plankton_logs/linear_eval/singlelabel/multirun/2022-04-19/19-15-20/16/logs/checkpoints/epoch=00-v1.ckpt',\n '/gpfs/work/machnitz/plankton_logs/linear_eval/singlelabel/multirun/2022-04-19/19-15-20/17/logs/checkpoints/epoch=00.ckpt',\n '/gpfs/work/machnitz/plankton_logs/linear_eval/singlelabel/multirun/2022-04-19/19-15-20/18/logs/checkpoints/epoch=01.ckpt',\n '/gpfs/work/machnitz/plankton_logs/finetune/singlelabel/multirun/2022-04-19/08-15-24/0/logs/checkpoints/epoch=89.ckpt',\n '/gpfs/work/machnitz/plankton_logs/finetune/singlelabel/multirun/2022-04-19/08-15-24/1/logs/checkpoints/epoch=40.ckpt',\n '/gpfs/work/machnitz/plankton_logs/finetune/singlelabel/multirun/2022-04-19/08-15-24/2/logs/checkpoints/epoch=37.ckpt',\n '/gpfs/work/machnitz/plankton_logs/finetune/singlelabel/multirun/2022-04-19/08-15-24/3/logs/checkpoints/epoch=22.ckpt',\n '/gpfs/work/machnitz/plankton_logs/finetune/singlelabel/multirun/2022-04-19/08-15-24/4/logs/checkpoints/epoch=19.ckpt',\n '/gpfs/work/machnitz/plankton_logs/finetune/singlelabel/multirun/2022-04-19/08-15-24/5/logs/checkpoints/epoch=15.ckpt',\n '/gpfs/work/machnitz/plankton_logs/finetune/singlelabel/multirun/2022-04-19/08-15-24/6/logs/checkpoints/epoch=15.ckpt',\n '/gpfs/work/machnitz/plankton_logs/finetune/singlelabel/multirun/2022-04-19/08-15-24/7/logs/checkpoints/epoch=16.ckpt',\n '/gpfs/work/machnitz/plankton_logs/finetune/singlelabel/multirun/2022-04-19/08-15-24/8/logs/checkpoints/epoch=12.ckpt',\n '/gpfs/work/machnitz/plankton_logs/finetune/singlelabel/multirun/2022-04-19/08-15-24/9/logs/checkpoints/epoch=13.ckpt',\n '/gpfs/work/machnitz/plankton_logs/finetune/singlelabel/multirun/2022-04-19/08-15-24/10/logs/checkpoints/epoch=04.ckpt',\n '/gpfs/work/machnitz/plankton_logs/finetune/singlelabel/multirun/2022-04-19/08-15-24/11/logs/checkpoints/epoch=04.ckpt',\n '/gpfs/work/machnitz/plankton_logs/finetune/singlelabel/multirun/2022-04-19/08-15-24/12/logs/checkpoints/epoch=02.ckpt',\n '/gpfs/work/machnitz/plankton_logs/finetune/singlelabel/multirun/2022-04-19/08-15-24/13/logs/checkpoints/epoch=02.ckpt',\n '/gpfs/work/machnitz/plankton_logs/finetune/singlelabel/multirun/2022-04-19/08-15-24/14/logs/checkpoints/epoch=02.ckpt',\n '/gpfs/work/machnitz/plankton_logs/finetune/singlelabel/multirun/2022-04-19/08-15-24/15/logs/checkpoints/epoch=01-v1.ckpt',\n '/gpfs/work/machnitz/plankton_logs/finetune/singlelabel/multirun/2022-04-19/08-15-24/16/logs/checkpoints/epoch=01-v1.ckpt',\n '/gpfs/work/machnitz/plankton_logs/finetune/singlelabel/multirun/2022-04-19/08-15-24/17/logs/checkpoints/epoch=01-v1.ckpt',\n '/gpfs/work/machnitz/plankton_logs/finetune/singlelabel/multirun/2022-04-19/08-15-24/18/logs/checkpoints/epoch=01.ckpt',\n '/gpfs/work/machnitz/plankton_logs/finetune_sgd/singlelabel/multirun/2022-04-19/08-15-10/0/logs/checkpoints/epoch=04.ckpt',\n '/gpfs/work/machnitz/plankton_logs/finetune_sgd/singlelabel/multirun/2022-04-19/08-15-10/1/logs/checkpoints/epoch=07.ckpt',\n '/gpfs/work/machnitz/plankton_logs/finetune_sgd/singlelabel/multirun/2022-04-19/08-15-10/2/logs/checkpoints/epoch=05.ckpt',\n '/gpfs/work/machnitz/plankton_logs/finetune_sgd/singlelabel/multirun/2022-04-19/08-15-10/3/logs/checkpoints/epoch=15.ckpt',\n '/gpfs/work/machnitz/plankton_logs/finetune_sgd/singlelabel/multirun/2022-04-19/08-15-10/4/logs/checkpoints/epoch=01.ckpt',\n '/gpfs/work/machnitz/plankton_logs/finetune_sgd/singlelabel/multirun/2022-04-19/08-15-10/5/logs/checkpoints/epoch=08.ckpt',\n '/gpfs/work/machnitz/plankton_logs/finetune_sgd/singlelabel/multirun/2022-04-19/08-15-10/6/logs/checkpoints/epoch=08.ckpt',\n '/gpfs/work/machnitz/plankton_logs/finetune_sgd/singlelabel/multirun/2022-04-19/08-15-10/7/logs/checkpoints/epoch=04.ckpt',\n '/gpfs/work/machnitz/plankton_logs/finetune_sgd/singlelabel/multirun/2022-04-19/08-15-10/8/logs/checkpoints/epoch=07.ckpt',\n '/gpfs/work/machnitz/plankton_logs/finetune_sgd/singlelabel/multirun/2022-04-19/08-15-10/9/logs/checkpoints/epoch=03.ckpt',\n '/gpfs/work/machnitz/plankton_logs/finetune_sgd/singlelabel/multirun/2022-04-19/08-15-10/10/logs/checkpoints/epoch=04.ckpt',\n '/gpfs/work/machnitz/plankton_logs/finetune_sgd/singlelabel/multirun/2022-04-19/08-15-10/11/logs/checkpoints/epoch=04.ckpt',\n '/gpfs/work/machnitz/plankton_logs/finetune_sgd/singlelabel/multirun/2022-04-19/08-15-10/12/logs/checkpoints/epoch=02.ckpt',\n '/gpfs/work/machnitz/plankton_logs/finetune_sgd/singlelabel/multirun/2022-04-19/08-15-10/13/logs/checkpoints/epoch=01.ckpt',\n '/gpfs/work/machnitz/plankton_logs/finetune_sgd/singlelabel/multirun/2022-04-19/08-15-10/14/logs/checkpoints/epoch=02.ckpt',\n '/gpfs/work/machnitz/plankton_logs/finetune_sgd/singlelabel/multirun/2022-04-19/08-15-10/15/logs/checkpoints/epoch=01.ckpt',\n '/gpfs/work/machnitz/plankton_logs/finetune_sgd/singlelabel/multirun/2022-04-19/08-15-10/16/logs/checkpoints/epoch=00-v1.ckpt',\n '/gpfs/work/machnitz/plankton_logs/finetune_sgd/singlelabel/multirun/2022-04-19/08-15-10/17/logs/checkpoints/epoch=00.ckpt',\n '/gpfs/work/machnitz/plankton_logs/finetune_sgd/singlelabel/multirun/2022-04-19/08-15-10/18/logs/checkpoints/epoch=01.ckpt']"
     },
     "execution_count": 36,
     "metadata": {},
     "output_type": "execute_result"
    }
   ],
   "source": "best_checkpoints"
  },
  {
   "cell_type": "code",
   "execution_count": 8,
   "id": "69b0e04c",
   "metadata": {
    "pycharm": {
     "name": "#%%\n"
    },
    "trusted": true
   },
   "outputs": [
    {
     "ename": "NameError",
     "evalue": "name 'datamodule' is not defined",
     "output_type": "error",
     "traceback": [
      "\u001B[0;31m---------------------------------------------------------------------------\u001B[0m",
      "\u001B[0;31mNameError\u001B[0m                                 Traceback (most recent call last)",
      "Input \u001B[0;32mIn [8]\u001B[0m, in \u001B[0;36m<cell line: 1>\u001B[0;34m()\u001B[0m\n\u001B[0;32m----> 1\u001B[0m \u001B[43mdatamodule\u001B[49m\u001B[38;5;241m.\u001B[39msetup(stage\u001B[38;5;241m=\u001B[39m\u001B[38;5;124m\"\u001B[39m\u001B[38;5;124mfit\u001B[39m\u001B[38;5;124m\"\u001B[39m)\n\u001B[1;32m      2\u001B[0m val_dataloader \u001B[38;5;241m=\u001B[39m datamodule\u001B[38;5;241m.\u001B[39mval_dataloader()\n\u001B[1;32m      4\u001B[0m \u001B[38;5;28;01mfor\u001B[39;00m batch \u001B[38;5;129;01min\u001B[39;00m val_dataloader:\n",
      "\u001B[0;31mNameError\u001B[0m: name 'datamodule' is not defined"
     ]
    }
   ],
   "source": "\ndatamodule.setup(stage=\"fit\")\nval_dataloader = datamodule.val_dataloader()\n\nfor batch in val_dataloader:\n    example_input, _ = batch\n    break\n\nval_logits, val_labels, val_return_metrics = run_and_save(best_checkpoint, val_dataloader, return_metrics,\n                                                          key + \"valid\", experiment_number)"
  },
  {
   "cell_type": "code",
   "execution_count": null,
   "id": "ad187524-eb32-4e4f-b364-0e4230e614e9",
   "metadata": {
    "pycharm": {
     "name": "#%%\n"
    },
    "trusted": true
   },
   "outputs": [],
   "source": "\ndatamodule.setup(stage=\"test\")\ntest_dataloader = datamodule.test_dataloader()\n\nfor batch in test_dataloader:\n    example_input, _ = batch\n    break\n\ntest_logits, test_labels, test_return_metrics = run_and_save(best_checkpoint, test_dataloader, return_metrics,\n                                                             key + \"test_new\", experiment_number)"
  },
  {
   "cell_type": "code",
   "execution_count": null,
   "id": "950fc000-d522-4627-8db8-5548cf83b5a7",
   "metadata": {
    "pycharm": {
     "name": "#%%\n"
    },
    "trusted": true
   },
   "outputs": [],
   "source": "reform = {(outerKey, innerKey): values for outerKey, innerDict in return_metrics.items() for innerKey, values in\n          innerDict.items()}\nsingle_label_df = pd.DataFrame.from_dict(reform).T\nsingle_label_df.index.names = (\"Model\", \"Experiment\")\nsingle_label_df"
  },
  {
   "cell_type": "code",
   "execution_count": null,
   "id": "26d9ef2a-3f79-424e-b26c-2389cfb2f9da",
   "metadata": {
    "pycharm": {
     "name": "#%%\n"
    },
    "trusted": true
   },
   "outputs": [],
   "source": "fig, ax = plt.subplots(figsize=(15, 5))\nsns.lineplot(x=\"Data Fraction\", y=\"Accuracy/Testing\", hue=\"Model\", style=\"Model\", data=single_label_df, ax=ax,\n             palette=hereon_color_array, markers=True, markersize=10, )\n\n# for item in data_splits_per_experiment:\n#     ax.text(item,0.3,f'{item * 100:.0f}%',color=\"grey\", horizontalalignment=\"center\", rotation=-45)\n\nax.set_xscale(\"log\")\nplt.savefig(\"Accuracies_Testing_Singlelabel.png\", dpi=300)"
  },
  {
   "cell_type": "code",
   "execution_count": null,
   "id": "3ecba306-d534-4c4b-910b-80e41e9f7910",
   "metadata": {
    "pycharm": {
     "name": "#%%\n"
    },
    "trusted": true
   },
   "outputs": [],
   "source": "fig, ax = plt.subplots(figsize=(15, 5))\nsns.lineplot(x=\"Data Fraction\", y=\"ECE\", hue=\"Model\", style=\"Model\", data=single_label_df, ax=ax,\n             palette=hereon_color_array, markers=True, markersize=10, )\n\nfor item in data_splits_per_experiment:\n    ax.text(item, 0.2, f'{item * 100:.0f}%', color=\"grey\", horizontalalignment=\"center\", rotation=-45)\n\nax.set_xscale(\"log\")\nax.legend(loc=\"best\")\nplt.savefig(\"ECE_Testing_Singlelabel.png\", dpi=300)"
  },
  {
   "cell_type": "code",
   "execution_count": null,
   "id": "cf5920f7-58f6-4cb8-85a6-aa242a406def",
   "metadata": {
    "pycharm": {
     "name": "#%%\n"
    },
    "trusted": true
   },
   "outputs": [],
   "source": "fig, ax = plt.subplots(figsize=(15, 5))\nsns.lineplot(x=\"Data Fraction\", y=\"loss/Testing\", hue=\"Model\", style=\"Model\", data=single_label_df, ax=ax,\n             palette=hereon_color_array, markers=True, markersize=10, )\n\nfor item in data_splits_per_experiment:\n    ax.text(item, 2, f'{item * 100:.0f}%', color=\"grey\", horizontalalignment=\"center\", rotation=-45)\n\nax.set_xscale(\"log\")\nax.legend(loc=\"best\")\nplt.savefig(\"NLL_Testing_Singlelabel.png\", dpi=300)"
  },
  {
   "cell_type": "code",
   "execution_count": null,
   "id": "701413fd-84bc-4b34-886f-6ea63de73181",
   "metadata": {
    "pycharm": {
     "name": "#%%\n"
    },
    "trusted": true
   },
   "outputs": [],
   "source": ""
  }
 ],
 "metadata": {
  "kernelspec": {
   "display_name": "Plankton",
   "language": "python",
   "name": "plankton"
  },
  "language_info": {
   "codemirror_mode": {
    "name": "ipython",
    "version": 3
   },
   "file_extension": ".py",
   "mimetype": "text/x-python",
   "name": "python",
   "nbconvert_exporter": "python",
   "pygments_lexer": "ipython3",
   "version": "3.8.13"
  }
 },
 "nbformat": 4,
 "nbformat_minor": 5
}