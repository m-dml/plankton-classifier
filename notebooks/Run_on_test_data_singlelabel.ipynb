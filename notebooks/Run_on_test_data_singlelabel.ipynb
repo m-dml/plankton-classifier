{
 "cells": [
  {
   "cell_type": "code",
   "execution_count": 1,
   "id": "f681ab42-a578-4141-aa26-522db9f2db34",
   "metadata": {
    "pycharm": {
     "name": "#%%\n"
    },
    "trusted": false
   },
   "outputs": [],
   "source": [
    "import matplotlib.pyplot as plt\n",
    "import seaborn as sns\n",
    "import torch\n",
    "import torchmetrics\n",
    "from tqdm.auto import tqdm\n",
    "\n",
    "sns.set()\n",
    "import numpy as np\n",
    "import os\n",
    "import pandas as pd\n",
    "import sys\n",
    "\n",
    "sys.path.append(\"..\")\n",
    "import hydra\n",
    "from src.lib.config import register_configs\n",
    "from src.utils.EvalWrapper import EvalWrapper\n",
    "\n",
    "register_configs()\n",
    "try:\n",
    "    hydra.initialize(config_path=\"../conf\", job_name=\"plankton\")\n",
    "except ValueError:\n",
    "    print(ValueError)\n",
    "\n",
    "import pytorch_lightning as pl\n",
    "import pickle\n",
    "from eval_single_helper_funcs import instantiate_trainer, run_and_save, get_confidence_and_acc_single, get_temperature_file, get_distribution_file"
   ]
  },
  {
   "cell_type": "code",
   "execution_count": 2,
   "id": "f2addaef-7e5d-4b01-a0f5-2ca79d2bde92",
   "metadata": {
    "pycharm": {
     "name": "#%%\n"
    },
    "trusted": false
   },
   "outputs": [
    {
     "name": "stdout",
     "output_type": "stream",
     "text": [
      "Data splits:  [0.01, 0.02, 0.03, 0.04, 0.05, 0.06, 0.07, 0.08, 0.09, 0.1, 0.2, 0.3, 0.4, 0.5, 0.6, 0.7, 0.8, 0.9, 1.0]\n"
     ]
    }
   ],
   "source": [
    "# set global values:\n",
    "\n",
    "experiments_singlelabel = {\n",
    "    \"supervised_singlelabel\": \"/gpfs/work/machnitz/plankton_logs/supervised/singlelabel/multirun/2022-04-19/08-14-50\",\n",
    "    \"linear_singlelabel\": \"/gpfs/work/machnitz/plankton_logs/linear_eval/singlelabel/multirun/2022-04-19/19-15-20\",\n",
    "    \"finetune_singlelabel\": \"/gpfs/work/machnitz/plankton_logs/finetune/singlelabel/multirun/2022-04-19/08-15-24\",\n",
    "    \"finetune_sgd_singlelabel\": \"/gpfs/work/machnitz/plankton_logs/finetune_sgd/singlelabel/multirun/2022-04-19/08-15-10\"\n",
    "}\n",
    "\n",
    "data_splits_per_experiment = [np.round(x, 2) for x in np.arange(0.01, 0.1, 0.01)] + [np.round(x, 2) for x in\n",
    "                                                                                     np.arange(0.1, 1.1, 0.1)]\n",
    "print(\"Data splits: \", data_splits_per_experiment)"
   ]
  },
  {
   "cell_type": "code",
   "execution_count": 3,
   "id": "807252f0-2aac-4720-907a-8812503a8c99",
   "metadata": {
    "pycharm": {
     "name": "#%%\n"
    },
    "trusted": false
   },
   "outputs": [],
   "source": [
    "from matplotlib.colors import ListedColormap\n",
    "import seaborn as sns\n",
    "\n",
    "sns.set()\n",
    "\n",
    "hereon_color_array = np.array([\n",
    "    [230, 0, 70],\n",
    "    [0, 145, 160],\n",
    "    [0, 170, 230],\n",
    "    [250, 180, 35],\n",
    "    [0, 70, 125],\n",
    "    [175, 25, 60],\n",
    "    [170, 200, 70],\n",
    "    [250, 115, 80],\n",
    "    [140, 90, 180],\n",
    "\n",
    "])\n",
    "hereon_color_array = hereon_color_array / 255\n",
    "hereon_cmap = ListedColormap(hereon_color_array)\n",
    "\n",
    "sns.set_palette(hereon_color_array)"
   ]
  },
  {
   "cell_type": "markdown",
   "id": "59ed179e-a1f9-455c-bf93-605e5058fd12",
   "metadata": {
    "pycharm": {
     "name": "#%% md\n"
    }
   },
   "source": [
    "# Single Label"
   ]
  },
  {
   "cell_type": "code",
   "execution_count": 4,
   "id": "0b8b403f-5539-4b41-a5ba-e9f20a84d1ec",
   "metadata": {
    "pycharm": {
     "name": "#%%\n"
    },
    "trusted": false
   },
   "outputs": [
    {
     "name": "stderr",
     "output_type": "stream",
     "text": [
      "Global seed set to 7\n"
     ]
    }
   ],
   "source": [
    "pl.seed_everything(7)\n",
    "np.random.seed(7)\n",
    "cfg = hydra.compose(config_name=\"config\", overrides=[\"+experiment=plankton/publication/supervised_singlelabel\",\n",
    "                                                     \"random_seed=7\",\n",
    "                                                     \"strategy=SingleDevice\",\n",
    "                                                     'strategy.device=\"cuda:0\"',\n",
    "                                                     \"trainer.enable_progress_bar=false\",\n",
    "                                                     \"datamodule.batch_size=200\",\n",
    "                                                     \"lightning_module.log_confusion_matrices=false\",\n",
    "                                                     \"lightning_module.temperature_scale=false\",\n",
    "                                                     ])"
   ]
  },
  {
   "cell_type": "code",
   "execution_count": 5,
   "id": "7a28ad4a-4065-4853-ae0d-c9d80ed515c9",
   "metadata": {
    "pycharm": {
     "name": "#%%\n"
    },
    "trusted": false
   },
   "outputs": [
    {
     "name": "stderr",
     "output_type": "stream",
     "text": [
      "/gpfs/home/machnitz/miniconda3/envs/plankton/lib/python3.8/site-packages/pytorch_lightning/core/datamodule.py:95: LightningDeprecationWarning: DataModule property `train_transforms` was deprecated in v1.5 and will be removed in v1.7.\n",
      "  rank_zero_deprecation(\n",
      "77it [00:00, 3014.75it/s]                                                                                                                                                              | 0/19 [00:00<?, ?it/s]\n",
      "4536it [00:00, 7412.24it/s]\n",
      "88it [00:00, 6201.46it/s]████████████▏                                                                                                                                         | 2/19 [00:00<00:05,  3.11it/s]\n",
      "100it [00:00, 6785.03it/s]\n",
      "95it [00:00, 6573.60it/s]\n",
      "288it [00:00, 7746.41it/s]\n",
      "12it [00:00, 3975.96it/s]\n",
      "158it [00:00, 8343.51it/s]\n",
      "59it [00:00, 7647.22it/s]████████████████████████████████████████████████████████████▊                                                                                         | 8/19 [00:00<00:00, 13.01it/s]\n",
      "1215it [00:00, 15824.81it/s]\n",
      "386it [00:00, 21166.46it/s]\n",
      "56it [00:00, 10186.09it/s]\n",
      "1290it [00:00, 20135.43it/s]█████████████████████████████████████████████████████████████████████████████████████████▋                                                        | 12/19 [00:00<00:00, 17.88it/s]\n",
      "207it [00:00, 11310.56it/s]\n",
      "506it [00:00, 2055.79it/s]\n",
      "125299it [00:10, 12012.28it/s]\n",
      "4416it [00:00, 13090.69it/s]█████████████████████████████████████████████████████████████████████████████████████████████████████████████████████████▊                        | 16/19 [00:11<00:03,  1.07s/it]\n",
      "1691it [00:00, 13596.59it/s]█████████████████████████████████████████████████████████████████████████████████████████████████████████████████████████████████▉                | 17/19 [00:11<00:01,  1.02it/s]\n",
      "2864it [00:00, 22630.27it/s]\n",
      "Load Klas data: 100%|█████████████████████████████████████████████████████████████████████████████████████████████████████████████████████████████████████████████████████████| 19/19 [00:12<00:00,  1.55it/s]\n",
      "11it [00:00, 5253.03it/s]                                                                                                                                                              | 0/19 [00:00<?, ?it/s]\n",
      "648it [00:00, 12937.06it/s]\n",
      "12it [00:00, 4902.75it/s]\n",
      "14it [00:00, 4887.65it/s]\n",
      "13it [00:00, 2250.16it/s]\n",
      "41it [00:00, 9084.82it/s]\n",
      "1it [00:00, 1208.73it/s]\n",
      "22it [00:00, 8775.53it/s]\n",
      "8it [00:00, 6109.69it/s]\n",
      "173it [00:00, 15502.27it/s]\n",
      "55it [00:00, 18095.91it/s]███████████████████████████████████████████████████████████████████████████▌                                                                        | 10/19 [00:00<00:00, 99.39it/s]\n",
      "8it [00:00, 6154.52it/s]\n",
      "184it [00:00, 17286.41it/s]\n",
      "29it [00:00, 10356.31it/s]\n",
      "72it [00:00, 10626.71it/s]\n",
      "17899it [00:01, 13129.15it/s]\n",
      "630it [00:00, 13101.48it/s]\n",
      "241it [00:00, 11788.76it/s]\n",
      "409it [00:00, 18636.29it/s]\n",
      "Load Klas data: 100%|█████████████████████████████████████████████████████████████████████████████████████████████████████████████████████████████████████████████████████████| 19/19 [00:01<00:00, 11.92it/s]\n",
      "23it [00:00, 6867.10it/s]                                                                                                                                                              | 0/19 [00:00<?, ?it/s]\n",
      "1296it [00:00, 13360.68it/s]\n",
      "27it [00:00, 6816.72it/s]████████████▏                                                                                                                                         | 2/19 [00:00<00:00, 19.31it/s]\n",
      "29it [00:00, 8278.42it/s]\n",
      "29it [00:00, 3681.11it/s]\n",
      "83it [00:00, 10073.13it/s]\n",
      "5it [00:00, 4895.31it/s]\n",
      "46it [00:00, 10683.17it/s]\n",
      "18it [00:00, 8867.45it/s]\n",
      "348it [00:00, 17037.08it/s]\n",
      "111it [00:00, 15871.81it/s]\n",
      "16it [00:00, 8542.37it/s]\n",
      "370it [00:00, 17821.87it/s]\n",
      "61it [00:00, 9658.46it/s]\n",
      "145it [00:00, 12425.41it/s]██████████████████████████████████████████████████████████████████████████████████████████████████████████▋                                        | 14/19 [00:00<00:00, 74.50it/s]\n",
      "35801it [00:02, 12095.81it/s]\n",
      "1263it [00:00, 13375.70it/s]\n",
      "484it [00:00, 13031.73it/s]\n",
      "819it [00:00, 22064.08it/s]\n",
      "Load Klas data: 100%|█████████████████████████████████████████████████████████████████████████████████████████████████████████████████████████████████████████████████████████| 19/19 [00:03<00:00,  5.65it/s]\n"
     ]
    }
   ],
   "source": [
    "\n",
    "train_transforms = hydra.utils.instantiate(cfg.datamodule.train_transforms)\n",
    "valid_transforms = hydra.utils.instantiate(cfg.datamodule.valid_transforms)\n",
    "\n",
    "datamodule = hydra.utils.instantiate(\n",
    "    cfg.datamodule,\n",
    "    train_transforms=train_transforms,\n",
    "    valid_transforms=valid_transforms,\n",
    "    dataset=cfg.datamodule.dataset,\n",
    "    is_ddp=False,\n",
    ")\n",
    "datamodule.setup(stage=\"test\")"
   ]
  },
  {
   "cell_type": "code",
   "execution_count": 6,
   "id": "b1ea867d-2e4f-48c9-a877-66623921cd3e",
   "metadata": {
    "pycharm": {
     "name": "#%%\n"
    },
    "trusted": false
   },
   "outputs": [
    {
     "data": {
      "text/plain": "  0%|          | 0/19 [00:00<?, ?it/s]",
      "application/vnd.jupyter.widget-view+json": {
       "version_major": 2,
       "version_minor": 0,
       "model_id": "f5b597c1920c4ead8f519b14db9f33ac"
      }
     },
     "metadata": {},
     "output_type": "display_data"
    },
    {
     "name": "stdout",
     "output_type": "stream",
     "text": [
      "0\n",
      "1\n",
      "2\n",
      "3\n",
      "4\n",
      "5\n",
      "6\n",
      "7\n",
      "8\n",
      "9\n",
      "10\n",
      "11\n",
      "12\n",
      "13\n",
      "14\n",
      "15\n",
      "16\n",
      "17\n",
      "18\n"
     ]
    },
    {
     "data": {
      "text/plain": "  0%|          | 0/19 [00:00<?, ?it/s]",
      "application/vnd.jupyter.widget-view+json": {
       "version_major": 2,
       "version_minor": 0,
       "model_id": "a581de6cd0b244a3bbeea6e7b8340850"
      }
     },
     "metadata": {},
     "output_type": "display_data"
    },
    {
     "name": "stdout",
     "output_type": "stream",
     "text": [
      "0\n",
      "1\n",
      "2\n",
      "3\n",
      "4\n",
      "5\n",
      "6\n",
      "7\n",
      "8\n",
      "9\n",
      "10\n",
      "11\n",
      "12\n",
      "13\n",
      "14\n",
      "15\n",
      "16\n",
      "17\n",
      "18\n"
     ]
    },
    {
     "data": {
      "text/plain": "  0%|          | 0/19 [00:00<?, ?it/s]",
      "application/vnd.jupyter.widget-view+json": {
       "version_major": 2,
       "version_minor": 0,
       "model_id": "0f8e1a86c2d943aaa43c66f57959a857"
      }
     },
     "metadata": {},
     "output_type": "display_data"
    },
    {
     "name": "stdout",
     "output_type": "stream",
     "text": [
      "0\n",
      "1\n",
      "2\n",
      "3\n",
      "4\n",
      "5\n",
      "6\n",
      "7\n",
      "8\n",
      "9\n",
      "10\n",
      "11\n",
      "12\n",
      "13\n",
      "14\n",
      "15\n",
      "16\n",
      "17\n",
      "18\n"
     ]
    },
    {
     "data": {
      "text/plain": "  0%|          | 0/19 [00:00<?, ?it/s]",
      "application/vnd.jupyter.widget-view+json": {
       "version_major": 2,
       "version_minor": 0,
       "model_id": "f1d000ab545942ec99f1fa05630d4a6f"
      }
     },
     "metadata": {},
     "output_type": "display_data"
    },
    {
     "name": "stdout",
     "output_type": "stream",
     "text": [
      "0\n",
      "1\n",
      "2\n",
      "3\n",
      "4\n",
      "5\n",
      "6\n",
      "7\n",
      "8\n",
      "9\n",
      "10\n",
      "11\n",
      "12\n",
      "13\n",
      "14\n",
      "15\n",
      "16\n",
      "17\n",
      "18\n"
     ]
    }
   ],
   "source": [
    "# trainer = instantiate_trainer(cfg)\n",
    "#\n",
    "# test_dataloader = datamodule.test_dataloader()\n",
    "# for example_input, _ in test_dataloader:\n",
    "#     break\n",
    "\n",
    "acc_func = torchmetrics.Accuracy(average=\"none\", num_classes=len(datamodule.unique_labels))\n",
    "best_checkpoints = []\n",
    "return_metrics = dict()\n",
    "for key, setup_path in experiments_singlelabel.items():\n",
    "    experiment_folders = [os.path.join(setup_path, str(i)) for i in np.arange(0, 19)]\n",
    "    return_metrics[key] = dict()\n",
    "    # fig, axes = plt.subplots(nrows=4, ncols=5, figsize=(20, 15), sharex=True, sharey=True)\n",
    "    for experiment_number, experiment_path in enumerate(tqdm(experiment_folders)):\n",
    "        print(experiment_number)\n",
    "        with open(os.path.join(experiment_path, \"main.log\"), \"r\") as f:\n",
    "            complete_log = f.readlines()\n",
    "            found_best_checkpoint = False\n",
    "            for line in complete_log:\n",
    "                # print(line)\n",
    "                if found_best_checkpoint:\n",
    "                    best_checkpoint = line.strip()\n",
    "                    # print(f\"set best checkpoint to {best_checkpoint}\")\n",
    "                    break\n",
    "\n",
    "                if \"[main.main][INFO] - Best checkpoint path:\" in line:\n",
    "                    found_best_checkpoint = True\n",
    "                    # print(f\"found best checkpoint: {line}\")\n",
    "        best_checkpoints.append(best_checkpoint)\n",
    "    #     if os.path.isfile(f\"test_results/labels_{key}_{experiment_number}.pt\"):\n",
    "    #         print(f\"loading {key}_{experiment_number} from file\")\n",
    "    #         logits = torch.load(f\"test_results/logits_{key}_{experiment_number}.pt\")\n",
    "    #         labels = torch.load(f\"test_results/labels_{key}_{experiment_number}.pt\")\n",
    "    #         with open(f\"test_results/dict_{key}_{experiment_number}.pkl\", 'rb') as f:\n",
    "    #             return_metrics = pickle.load(f)\n",
    "    #     else:\n",
    "    #         logits, labels, return_metrics = run_and_save(best_checkpoint, test_dataloader, return_metrics, key,\n",
    "    #                                                       experiment_number, data_splits_per_experiment, trainer,\n",
    "    #                                                       datamodule, example_input)\n",
    "    #\n",
    "    #     accuracies, confidences, ece = get_confidence_and_acc_single(logits, labels)\n",
    "    #     return_metrics[key][experiment_number][\"ECE\"] = ece\n",
    "    #\n",
    "    #     prob_scaling = EvalWrapper(temperature_file=get_temperature_file(best_checkpoint),\n",
    "    #                                training_distribution_file=get_distribution_file(best_checkpoint),\n",
    "    #                                device=\"cpu\")\n",
    "    #\n",
    "    #     corrected_probabilities = prob_scaling(logits=logits, correct_probabilities_with_training_prior=True)\n",
    "    #     accuracies_corrected, confidences_corrected, ece_corrected = get_confidence_and_acc_single(\n",
    "    #         corrected_probabilities,\n",
    "    #         labels,\n",
    "    #         logits_are_probs=True)\n",
    "    #     temp_scaled_logits = prob_scaling(logits=logits, correct_probabilities_with_temperature=True)\n",
    "    #     accuracies_temp, confidences_temp, ece_temp = get_confidence_and_acc_single(temp_scaled_logits,\n",
    "    #                                                                                 labels,\n",
    "    #                                                                                 logits_are_probs=False)\n",
    "    #     temp_and_prior_corrected_probabilities = prob_scaling(logits=temp_scaled_logits,\n",
    "    #                                                           correct_probabilities_with_training_prior=True)\n",
    "    #     accuracies_temp_and_corrected, confidences_temp_and_corrected, ece_temp_and_corrected = get_confidence_and_acc_single(\n",
    "    #         temp_and_prior_corrected_probabilities, labels, logits_are_probs=False)\n",
    "    #\n",
    "    #     ax = axes.flatten()[experiment_number]\n",
    "    #     sns.lineplot(x=confidences.cpu().numpy(), y=accuracies.cpu().numpy(), ax=ax, label=\"pure NN outputs\")\n",
    "    #     sns.lineplot(x=confidences_corrected.cpu().numpy(), y=accuracies_corrected.cpu().numpy(), ax=ax,\n",
    "    #                  label=\"prior corrected outputs\")\n",
    "    #     sns.lineplot(x=confidences_temp.cpu().numpy(), y=accuracies_temp.cpu().numpy(), ax=ax,\n",
    "    #                  label=\"temp scaled outputs\")\n",
    "    #     sns.lineplot(x=confidences_temp_and_corrected.cpu().numpy(), y=accuracies_temp_and_corrected.cpu().numpy(),\n",
    "    #                  ax=ax, label=\"temp scaled and corrected\")\n",
    "    #     ax.plot(np.linspace(0, 1, 100), np.linspace(0, 1, 100), c=\"grey\", ls=\"--\")\n",
    "    #     ax.set_xlabel(\"Confidence\")\n",
    "    #     ax.set_ylabel(\"Accuracy\")\n",
    "    #     ax.set_title(f\"{key} | {data_splits_per_experiment[experiment_number]}\")\n",
    "    #     ax.legend(loc=\"best\")\n",
    "    # plt.savefig(f\"ConfidenceAccuracy{key}.png\", dpi=300)\n",
    "    # plt.show()\n",
    "    # plt.close(\"all\")\n"
   ]
  },
  {
   "cell_type": "code",
   "execution_count": 8,
   "outputs": [
    {
     "data": {
      "text/plain": "['/gpfs/work/machnitz/plankton_logs/supervised/singlelabel/multirun/2022-04-19/08-14-50/0/logs/checkpoints/epoch=99.ckpt',\n '/gpfs/work/machnitz/plankton_logs/supervised/singlelabel/multirun/2022-04-19/08-14-50/1/logs/checkpoints/epoch=47.ckpt',\n '/gpfs/work/machnitz/plankton_logs/supervised/singlelabel/multirun/2022-04-19/08-14-50/2/logs/checkpoints/epoch=37.ckpt',\n '/gpfs/work/machnitz/plankton_logs/supervised/singlelabel/multirun/2022-04-19/08-14-50/3/logs/checkpoints/epoch=26.ckpt',\n '/gpfs/work/machnitz/plankton_logs/supervised/singlelabel/multirun/2022-04-19/08-14-50/4/logs/checkpoints/epoch=19.ckpt',\n '/gpfs/work/machnitz/plankton_logs/supervised/singlelabel/multirun/2022-04-19/08-14-50/5/logs/checkpoints/epoch=15.ckpt',\n '/gpfs/work/machnitz/plankton_logs/supervised/singlelabel/multirun/2022-04-19/08-14-50/6/logs/checkpoints/epoch=14.ckpt',\n '/gpfs/work/machnitz/plankton_logs/supervised/singlelabel/multirun/2022-04-19/08-14-50/7/logs/checkpoints/epoch=16.ckpt',\n '/gpfs/work/machnitz/plankton_logs/supervised/singlelabel/multirun/2022-04-19/08-14-50/8/logs/checkpoints/epoch=14.ckpt',\n '/gpfs/work/machnitz/plankton_logs/supervised/singlelabel/multirun/2022-04-19/08-14-50/9/logs/checkpoints/epoch=13.ckpt',\n '/gpfs/work/machnitz/plankton_logs/supervised/singlelabel/multirun/2022-04-19/08-14-50/10/logs/checkpoints/epoch=04.ckpt',\n '/gpfs/work/machnitz/plankton_logs/supervised/singlelabel/multirun/2022-04-19/08-14-50/11/logs/checkpoints/epoch=04.ckpt',\n '/gpfs/work/machnitz/plankton_logs/supervised/singlelabel/multirun/2022-04-19/08-14-50/12/logs/checkpoints/epoch=02.ckpt',\n '/gpfs/work/machnitz/plankton_logs/supervised/singlelabel/multirun/2022-04-19/08-14-50/13/logs/checkpoints/epoch=02.ckpt',\n '/gpfs/work/machnitz/plankton_logs/supervised/singlelabel/multirun/2022-04-19/08-14-50/14/logs/checkpoints/epoch=02.ckpt',\n '/gpfs/work/machnitz/plankton_logs/supervised/singlelabel/multirun/2022-04-19/08-14-50/15/logs/checkpoints/epoch=01-v1.ckpt',\n '/gpfs/work/machnitz/plankton_logs/supervised/singlelabel/multirun/2022-04-19/08-14-50/16/logs/checkpoints/epoch=01-v1.ckpt',\n '/gpfs/work/machnitz/plankton_logs/supervised/singlelabel/multirun/2022-04-19/08-14-50/17/logs/checkpoints/epoch=01-v1.ckpt',\n '/gpfs/work/machnitz/plankton_logs/supervised/singlelabel/multirun/2022-04-19/08-14-50/18/logs/checkpoints/epoch=01.ckpt',\n '/gpfs/work/machnitz/plankton_logs/linear_eval/singlelabel/multirun/2022-04-19/19-15-20/0/logs/checkpoints/epoch=21.ckpt',\n '/gpfs/work/machnitz/plankton_logs/linear_eval/singlelabel/multirun/2022-04-19/19-15-20/1/logs/checkpoints/epoch=25.ckpt',\n '/gpfs/work/machnitz/plankton_logs/linear_eval/singlelabel/multirun/2022-04-19/19-15-20/2/logs/checkpoints/epoch=10.ckpt',\n '/gpfs/work/machnitz/plankton_logs/linear_eval/singlelabel/multirun/2022-04-19/19-15-20/3/logs/checkpoints/epoch=27.ckpt',\n '/gpfs/work/machnitz/plankton_logs/linear_eval/singlelabel/multirun/2022-04-19/19-15-20/4/logs/checkpoints/epoch=22.ckpt',\n '/gpfs/work/machnitz/plankton_logs/linear_eval/singlelabel/multirun/2022-04-19/19-15-20/5/logs/checkpoints/epoch=12.ckpt',\n '/gpfs/work/machnitz/plankton_logs/linear_eval/singlelabel/multirun/2022-04-19/19-15-20/6/logs/checkpoints/epoch=21.ckpt',\n '/gpfs/work/machnitz/plankton_logs/linear_eval/singlelabel/multirun/2022-04-19/19-15-20/7/logs/checkpoints/epoch=05.ckpt',\n '/gpfs/work/machnitz/plankton_logs/linear_eval/singlelabel/multirun/2022-04-19/19-15-20/8/logs/checkpoints/epoch=13.ckpt',\n '/gpfs/work/machnitz/plankton_logs/linear_eval/singlelabel/multirun/2022-04-19/19-15-20/9/logs/checkpoints/epoch=03.ckpt',\n '/gpfs/work/machnitz/plankton_logs/linear_eval/singlelabel/multirun/2022-04-19/19-15-20/10/logs/checkpoints/epoch=04.ckpt',\n '/gpfs/work/machnitz/plankton_logs/linear_eval/singlelabel/multirun/2022-04-19/19-15-20/11/logs/checkpoints/epoch=04.ckpt',\n '/gpfs/work/machnitz/plankton_logs/linear_eval/singlelabel/multirun/2022-04-19/19-15-20/12/logs/checkpoints/epoch=02.ckpt',\n '/gpfs/work/machnitz/plankton_logs/linear_eval/singlelabel/multirun/2022-04-19/19-15-20/13/logs/checkpoints/epoch=01.ckpt',\n '/gpfs/work/machnitz/plankton_logs/linear_eval/singlelabel/multirun/2022-04-19/19-15-20/14/logs/checkpoints/epoch=02.ckpt',\n '/gpfs/work/machnitz/plankton_logs/linear_eval/singlelabel/multirun/2022-04-19/19-15-20/15/logs/checkpoints/epoch=01.ckpt',\n '/gpfs/work/machnitz/plankton_logs/linear_eval/singlelabel/multirun/2022-04-19/19-15-20/16/logs/checkpoints/epoch=00-v1.ckpt',\n '/gpfs/work/machnitz/plankton_logs/linear_eval/singlelabel/multirun/2022-04-19/19-15-20/17/logs/checkpoints/epoch=00.ckpt',\n '/gpfs/work/machnitz/plankton_logs/linear_eval/singlelabel/multirun/2022-04-19/19-15-20/18/logs/checkpoints/epoch=01.ckpt',\n '/gpfs/work/machnitz/plankton_logs/finetune/singlelabel/multirun/2022-04-19/08-15-24/0/logs/checkpoints/epoch=89.ckpt',\n '/gpfs/work/machnitz/plankton_logs/finetune/singlelabel/multirun/2022-04-19/08-15-24/1/logs/checkpoints/epoch=40.ckpt',\n '/gpfs/work/machnitz/plankton_logs/finetune/singlelabel/multirun/2022-04-19/08-15-24/2/logs/checkpoints/epoch=37.ckpt',\n '/gpfs/work/machnitz/plankton_logs/finetune/singlelabel/multirun/2022-04-19/08-15-24/3/logs/checkpoints/epoch=22.ckpt',\n '/gpfs/work/machnitz/plankton_logs/finetune/singlelabel/multirun/2022-04-19/08-15-24/4/logs/checkpoints/epoch=19.ckpt',\n '/gpfs/work/machnitz/plankton_logs/finetune/singlelabel/multirun/2022-04-19/08-15-24/5/logs/checkpoints/epoch=15.ckpt',\n '/gpfs/work/machnitz/plankton_logs/finetune/singlelabel/multirun/2022-04-19/08-15-24/6/logs/checkpoints/epoch=15.ckpt',\n '/gpfs/work/machnitz/plankton_logs/finetune/singlelabel/multirun/2022-04-19/08-15-24/7/logs/checkpoints/epoch=16.ckpt',\n '/gpfs/work/machnitz/plankton_logs/finetune/singlelabel/multirun/2022-04-19/08-15-24/8/logs/checkpoints/epoch=12.ckpt',\n '/gpfs/work/machnitz/plankton_logs/finetune/singlelabel/multirun/2022-04-19/08-15-24/9/logs/checkpoints/epoch=13.ckpt',\n '/gpfs/work/machnitz/plankton_logs/finetune/singlelabel/multirun/2022-04-19/08-15-24/10/logs/checkpoints/epoch=04.ckpt',\n '/gpfs/work/machnitz/plankton_logs/finetune/singlelabel/multirun/2022-04-19/08-15-24/11/logs/checkpoints/epoch=04.ckpt',\n '/gpfs/work/machnitz/plankton_logs/finetune/singlelabel/multirun/2022-04-19/08-15-24/12/logs/checkpoints/epoch=02.ckpt',\n '/gpfs/work/machnitz/plankton_logs/finetune/singlelabel/multirun/2022-04-19/08-15-24/13/logs/checkpoints/epoch=02.ckpt',\n '/gpfs/work/machnitz/plankton_logs/finetune/singlelabel/multirun/2022-04-19/08-15-24/14/logs/checkpoints/epoch=02.ckpt',\n '/gpfs/work/machnitz/plankton_logs/finetune/singlelabel/multirun/2022-04-19/08-15-24/15/logs/checkpoints/epoch=01-v1.ckpt',\n '/gpfs/work/machnitz/plankton_logs/finetune/singlelabel/multirun/2022-04-19/08-15-24/16/logs/checkpoints/epoch=01-v1.ckpt',\n '/gpfs/work/machnitz/plankton_logs/finetune/singlelabel/multirun/2022-04-19/08-15-24/17/logs/checkpoints/epoch=01-v1.ckpt',\n '/gpfs/work/machnitz/plankton_logs/finetune/singlelabel/multirun/2022-04-19/08-15-24/18/logs/checkpoints/epoch=01.ckpt',\n '/gpfs/work/machnitz/plankton_logs/linear_eval/singlelabel/multirun/2022-04-19/08-15-10/0/logs/checkpoints/epoch=04.ckpt',\n '/gpfs/work/machnitz/plankton_logs/linear_eval/singlelabel/multirun/2022-04-19/08-15-10/1/logs/checkpoints/epoch=07.ckpt',\n '/gpfs/work/machnitz/plankton_logs/linear_eval/singlelabel/multirun/2022-04-19/08-15-10/2/logs/checkpoints/epoch=05.ckpt',\n '/gpfs/work/machnitz/plankton_logs/linear_eval/singlelabel/multirun/2022-04-19/08-15-10/3/logs/checkpoints/epoch=15.ckpt',\n '/gpfs/work/machnitz/plankton_logs/linear_eval/singlelabel/multirun/2022-04-19/08-15-10/4/logs/checkpoints/epoch=01.ckpt',\n '/gpfs/work/machnitz/plankton_logs/linear_eval/singlelabel/multirun/2022-04-19/08-15-10/5/logs/checkpoints/epoch=08.ckpt',\n '/gpfs/work/machnitz/plankton_logs/linear_eval/singlelabel/multirun/2022-04-19/08-15-10/6/logs/checkpoints/epoch=08.ckpt',\n '/gpfs/work/machnitz/plankton_logs/linear_eval/singlelabel/multirun/2022-04-19/08-15-10/7/logs/checkpoints/epoch=04.ckpt',\n '/gpfs/work/machnitz/plankton_logs/linear_eval/singlelabel/multirun/2022-04-19/08-15-10/8/logs/checkpoints/epoch=07.ckpt',\n '/gpfs/work/machnitz/plankton_logs/linear_eval/singlelabel/multirun/2022-04-19/08-15-10/9/logs/checkpoints/epoch=03.ckpt',\n '/gpfs/work/machnitz/plankton_logs/linear_eval/singlelabel/multirun/2022-04-19/08-15-10/10/logs/checkpoints/epoch=04.ckpt',\n '/gpfs/work/machnitz/plankton_logs/linear_eval/singlelabel/multirun/2022-04-19/08-15-10/11/logs/checkpoints/epoch=04.ckpt',\n '/gpfs/work/machnitz/plankton_logs/linear_eval/singlelabel/multirun/2022-04-19/08-15-10/12/logs/checkpoints/epoch=02.ckpt',\n '/gpfs/work/machnitz/plankton_logs/linear_eval/singlelabel/multirun/2022-04-19/08-15-10/13/logs/checkpoints/epoch=01.ckpt',\n '/gpfs/work/machnitz/plankton_logs/linear_eval/singlelabel/multirun/2022-04-19/08-15-10/14/logs/checkpoints/epoch=02.ckpt',\n '/gpfs/work/machnitz/plankton_logs/linear_eval/singlelabel/multirun/2022-04-19/08-15-10/15/logs/checkpoints/epoch=01.ckpt',\n '/gpfs/work/machnitz/plankton_logs/linear_eval/singlelabel/multirun/2022-04-19/08-15-10/16/logs/checkpoints/epoch=00-v1.ckpt',\n '/gpfs/work/machnitz/plankton_logs/linear_eval/singlelabel/multirun/2022-04-19/08-15-10/17/logs/checkpoints/epoch=00.ckpt',\n '/gpfs/work/machnitz/plankton_logs/linear_eval/singlelabel/multirun/2022-04-19/08-15-10/18/logs/checkpoints/epoch=01.ckpt']"
     },
     "execution_count": 8,
     "metadata": {},
     "output_type": "execute_result"
    }
   ],
   "source": [
    "best_checkpoints"
   ],
   "metadata": {
    "collapsed": false,
    "pycharm": {
     "name": "#%%\n"
    }
   }
  },
  {
   "cell_type": "code",
   "execution_count": 7,
   "outputs": [
    {
     "name": "stderr",
     "output_type": "stream",
     "text": [
      "77it [00:00, 4135.39it/s]                                                                                                                                                              | 0/19 [00:00<?, ?it/s]\n",
      "4536it [00:00, 7013.59it/s]\n",
      "88it [00:00, 6935.99it/s]████████████▏                                                                                                                                         | 2/19 [00:00<00:05,  2.98it/s]\n",
      "100it [00:00, 7050.08it/s]\n",
      "95it [00:00, 7026.63it/s]\n",
      "288it [00:00, 7847.56it/s]\n",
      "12it [00:00, 5253.83it/s]\n",
      "158it [00:00, 8461.33it/s]\n",
      "59it [00:00, 8527.06it/s]████████████████████████████████████████████████████████████▊                                                                                         | 8/19 [00:00<00:00, 12.74it/s]\n",
      "1215it [00:00, 14911.59it/s]\n",
      "386it [00:00, 20519.40it/s]\n",
      "56it [00:00, 9911.01it/s]\n",
      "1290it [00:00, 18500.80it/s]█████████████████████████████████████████████████████████████████████████████████████████▋                                                        | 12/19 [00:00<00:00, 17.44it/s]\n",
      "207it [00:00, 11253.97it/s]\n",
      "506it [00:00, 13131.85it/s]\n",
      "125299it [00:10, 12169.52it/s]\n",
      "4416it [00:00, 7540.54it/s]██████████████████████████████████████████████████████████████████████████████████████████████████████████████████████████▊                        | 16/19 [00:11<00:03,  1.04s/it]\n",
      "1691it [00:00, 12162.22it/s]█████████████████████████████████████████████████████████████████████████████████████████████████████████████████████████████████▉                | 17/19 [00:11<00:01,  1.02it/s]\n",
      "2864it [00:00, 20171.70it/s]\n",
      "Load Klas data: 100%|█████████████████████████████████████████████████████████████████████████████████████████████████████████████████████████████████████████████████████████| 19/19 [00:12<00:00,  1.56it/s]\n",
      "11it [00:00, 7195.47it/s]                                                                                                                                                              | 0/19 [00:00<?, ?it/s]\n",
      "648it [00:00, 12188.75it/s]\n",
      "12it [00:00, 7091.96it/s]\n",
      "14it [00:00, 7770.31it/s]\n",
      "13it [00:00, 7135.04it/s]\n",
      "41it [00:00, 10168.91it/s]\n",
      "1it [00:00, 1385.63it/s]\n",
      "22it [00:00, 8688.77it/s]\n",
      "8it [00:00, 9115.58it/s]\n",
      "173it [00:00, 15840.35it/s]\n",
      "55it [00:00, 17837.06it/s]\n",
      "8it [00:00, 7516.67it/s]\n",
      "184it [00:00, 17571.37it/s]\n",
      "29it [00:00, 9904.31it/s]████████████████████████████████████████████████████████████████████████████████████████████████████                                                | 13/19 [00:00<00:00, 117.35it/s]\n",
      "72it [00:00, 11756.07it/s]\n",
      "17899it [00:01, 12305.77it/s]\n",
      "630it [00:00, 12569.56it/s]\n",
      "241it [00:00, 11630.87it/s]\n",
      "409it [00:00, 19322.28it/s]\n",
      "Load Klas data: 100%|█████████████████████████████████████████████████████████████████████████████████████████████████████████████████████████████████████████████████████████| 19/19 [00:01<00:00, 11.33it/s]\n",
      "23it [00:00, 8589.53it/s]                                                                                                                                                              | 0/19 [00:00<?, ?it/s]\n",
      "1296it [00:00, 12476.43it/s]\n",
      "27it [00:00, 9674.20it/s]████████████▏                                                                                                                                         | 2/19 [00:00<00:00, 18.28it/s]\n",
      "29it [00:00, 9006.65it/s]\n",
      "29it [00:00, 9024.02it/s]\n",
      "83it [00:00, 9835.77it/s]\n",
      "5it [00:00, 5343.06it/s]\n",
      "46it [00:00, 10384.73it/s]\n",
      "18it [00:00, 8649.04it/s]\n",
      "348it [00:00, 15588.54it/s]\n",
      "111it [00:00, 19555.10it/s]\n",
      "16it [00:00, 8265.66it/s]\n",
      "370it [00:00, 17546.81it/s]\n",
      "61it [00:00, 10755.53it/s]\n",
      "145it [00:00, 12294.79it/s]\n",
      "35801it [00:02, 12392.32it/s]████████████████████████████████████████████████████████████████████████████████████████████████████████████████▊                                | 15/19 [00:00<00:00, 76.30it/s]\n",
      "1263it [00:00, 11941.88it/s]\n",
      "484it [00:00, 11767.48it/s]\n",
      "819it [00:00, 18790.12it/s]\n",
      "Load Klas data: 100%|█████████████████████████████████████████████████████████████████████████████████████████████████████████████████████████████████████████████████████████| 19/19 [00:03<00:00,  5.74it/s]\n",
      "/gpfs/home/machnitz/miniconda3/envs/plankton/lib/python3.8/site-packages/pytorch_lightning/core/datamodule.py:88: LightningDeprecationWarning: DataModule property `train_transforms` was deprecated in v1.5 and will be removed in v1.7.\n",
      "  rank_zero_deprecation(\n"
     ]
    },
    {
     "ename": "TypeError",
     "evalue": "run_and_save() missing 4 required positional arguments: 'data_splits_per_experiment', 'trainer', 'datamodule', and 'example_input'",
     "output_type": "error",
     "traceback": [
      "\u001B[0;31m---------------------------------------------------------------------------\u001B[0m",
      "\u001B[0;31mTypeError\u001B[0m                                 Traceback (most recent call last)",
      "Input \u001B[0;32mIn [7]\u001B[0m, in \u001B[0;36m<cell line: 8>\u001B[0;34m()\u001B[0m\n\u001B[1;32m      5\u001B[0m     example_input, _ \u001B[38;5;241m=\u001B[39m batch\n\u001B[1;32m      6\u001B[0m     \u001B[38;5;28;01mbreak\u001B[39;00m\n\u001B[0;32m----> 8\u001B[0m val_logits, val_labels, val_return_metrics \u001B[38;5;241m=\u001B[39m \u001B[43mrun_and_save\u001B[49m\u001B[43m(\u001B[49m\u001B[43mbest_checkpoint\u001B[49m\u001B[43m,\u001B[49m\u001B[43m \u001B[49m\u001B[43mval_dataloader\u001B[49m\u001B[43m,\u001B[49m\u001B[43m \u001B[49m\u001B[43mreturn_metrics\u001B[49m\u001B[43m,\u001B[49m\n\u001B[1;32m      9\u001B[0m \u001B[43m                                                          \u001B[49m\u001B[43mkey\u001B[49m\u001B[43m \u001B[49m\u001B[38;5;241;43m+\u001B[39;49m\u001B[43m \u001B[49m\u001B[38;5;124;43m\"\u001B[39;49m\u001B[38;5;124;43mvalid\u001B[39;49m\u001B[38;5;124;43m\"\u001B[39;49m\u001B[43m,\u001B[49m\u001B[43m \u001B[49m\u001B[43mexperiment_number\u001B[49m\u001B[43m)\u001B[49m\n",
      "\u001B[0;31mTypeError\u001B[0m: run_and_save() missing 4 required positional arguments: 'data_splits_per_experiment', 'trainer', 'datamodule', and 'example_input'"
     ]
    }
   ],
   "source": [
    "\n",
    "datamodule.setup(stage=\"fit\")\n",
    "val_dataloader = datamodule.val_dataloader()\n",
    "\n",
    "for batch in val_dataloader:\n",
    "    example_input, _ = batch\n",
    "    break\n",
    "\n",
    "val_logits, val_labels, val_return_metrics = run_and_save(best_checkpoint, val_dataloader, return_metrics,\n",
    "                                                          key + \"valid\", experiment_number)"
   ],
   "metadata": {
    "collapsed": false,
    "pycharm": {
     "name": "#%%\n"
    }
   }
  },
  {
   "cell_type": "code",
   "execution_count": null,
   "id": "ad187524-eb32-4e4f-b364-0e4230e614e9",
   "metadata": {
    "pycharm": {
     "name": "#%%\n"
    },
    "trusted": false
   },
   "outputs": [],
   "source": [
    "\n",
    "datamodule.setup(stage=\"test\")\n",
    "test_dataloader = datamodule.test_dataloader()\n",
    "\n",
    "for batch in test_dataloader:\n",
    "    example_input, _ = batch\n",
    "    break\n",
    "\n",
    "test_logits, test_labels, test_return_metrics = run_and_save(best_checkpoint, test_dataloader, return_metrics,\n",
    "                                                             key + \"test_new\", experiment_number)"
   ]
  },
  {
   "cell_type": "code",
   "execution_count": null,
   "id": "950fc000-d522-4627-8db8-5548cf83b5a7",
   "metadata": {
    "pycharm": {
     "name": "#%%\n"
    },
    "trusted": false
   },
   "outputs": [],
   "source": [
    "reform = {(outerKey, innerKey): values for outerKey, innerDict in return_metrics.items() for innerKey, values in\n",
    "          innerDict.items()}\n",
    "single_label_df = pd.DataFrame.from_dict(reform).T\n",
    "single_label_df.index.names = (\"Model\", \"Experiment\")\n",
    "single_label_df"
   ]
  },
  {
   "cell_type": "code",
   "execution_count": null,
   "id": "26d9ef2a-3f79-424e-b26c-2389cfb2f9da",
   "metadata": {
    "pycharm": {
     "name": "#%%\n"
    },
    "trusted": false
   },
   "outputs": [],
   "source": [
    "fig, ax = plt.subplots(figsize=(15, 5))\n",
    "sns.lineplot(x=\"Data Fraction\", y=\"Accuracy/Testing\", hue=\"Model\", style=\"Model\", data=single_label_df, ax=ax,\n",
    "             palette=hereon_color_array, markers=True, markersize=10, )\n",
    "\n",
    "# for item in data_splits_per_experiment:\n",
    "#     ax.text(item,0.3,f'{item * 100:.0f}%',color=\"grey\", horizontalalignment=\"center\", rotation=-45)\n",
    "\n",
    "ax.set_xscale(\"log\")\n",
    "plt.savefig(\"Accuracies_Testing_Singlelabel.png\", dpi=300)"
   ]
  },
  {
   "cell_type": "code",
   "execution_count": null,
   "id": "3ecba306-d534-4c4b-910b-80e41e9f7910",
   "metadata": {
    "pycharm": {
     "name": "#%%\n"
    },
    "trusted": false
   },
   "outputs": [],
   "source": [
    "fig, ax = plt.subplots(figsize=(15, 5))\n",
    "sns.lineplot(x=\"Data Fraction\", y=\"ECE\", hue=\"Model\", style=\"Model\", data=single_label_df, ax=ax,\n",
    "             palette=hereon_color_array, markers=True, markersize=10, )\n",
    "\n",
    "for item in data_splits_per_experiment:\n",
    "    ax.text(item, 0.2, f'{item * 100:.0f}%', color=\"grey\", horizontalalignment=\"center\", rotation=-45)\n",
    "\n",
    "ax.set_xscale(\"log\")\n",
    "ax.legend(loc=\"best\")\n",
    "plt.savefig(\"ECE_Testing_Singlelabel.png\", dpi=300)"
   ]
  },
  {
   "cell_type": "code",
   "execution_count": null,
   "id": "cf5920f7-58f6-4cb8-85a6-aa242a406def",
   "metadata": {
    "pycharm": {
     "name": "#%%\n"
    },
    "trusted": false
   },
   "outputs": [],
   "source": [
    "fig, ax = plt.subplots(figsize=(15, 5))\n",
    "sns.lineplot(x=\"Data Fraction\", y=\"loss/Testing\", hue=\"Model\", style=\"Model\", data=single_label_df, ax=ax,\n",
    "             palette=hereon_color_array, markers=True, markersize=10, )\n",
    "\n",
    "for item in data_splits_per_experiment:\n",
    "    ax.text(item, 2, f'{item * 100:.0f}%', color=\"grey\", horizontalalignment=\"center\", rotation=-45)\n",
    "\n",
    "ax.set_xscale(\"log\")\n",
    "ax.legend(loc=\"best\")\n",
    "plt.savefig(\"NLL_Testing_Singlelabel.png\", dpi=300)"
   ]
  },
  {
   "cell_type": "code",
   "execution_count": null,
   "id": "701413fd-84bc-4b34-886f-6ea63de73181",
   "metadata": {
    "pycharm": {
     "name": "#%%\n"
    },
    "trusted": false
   },
   "outputs": [],
   "source": []
  }
 ],
 "metadata": {
  "kernelspec": {
   "display_name": "Plankton",
   "language": "python",
   "name": "plankton"
  },
  "language_info": {
   "codemirror_mode": {
    "name": "ipython",
    "version": 3
   },
   "file_extension": ".py",
   "mimetype": "text/x-python",
   "name": "python",
   "nbconvert_exporter": "python",
   "pygments_lexer": "ipython3",
   "version": "3.8.13"
  }
 },
 "nbformat": 4,
 "nbformat_minor": 5
}