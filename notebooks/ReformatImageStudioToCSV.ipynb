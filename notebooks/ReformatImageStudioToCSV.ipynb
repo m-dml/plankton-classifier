{
 "cells": [
  {
   "cell_type": "code",
   "execution_count": 1,
   "id": "46c5982d-551e-4838-871e-051314856eba",
   "metadata": {},
   "outputs": [],
   "source": [
    "import pandas as pd\n",
    "import glob\n",
    "from sklearn.utils import shuffle\n",
    "import numpy as np\n",
    "import matplotlib.pyplot as plt"
   ]
  },
  {
   "cell_type": "code",
   "execution_count": 2,
   "id": "db7b3db2-baaa-4332-92d6-8f2fc9903e35",
   "metadata": {},
   "outputs": [],
   "source": [
    "file = glob.glob(\"../data/project-1-at-2022-10-26-07-54-e2766658.csv\")[0]\n",
    "df =  pd.read_csv(file)"
   ]
  },
  {
   "cell_type": "code",
   "execution_count": 3,
   "id": "2e8b10c1-0736-401a-8d01-84191b54a99c",
   "metadata": {},
   "outputs": [
    {
     "data": {
      "text/html": [
       "<div>\n",
       "<style scoped>\n",
       "    .dataframe tbody tr th:only-of-type {\n",
       "        vertical-align: middle;\n",
       "    }\n",
       "\n",
       "    .dataframe tbody tr th {\n",
       "        vertical-align: top;\n",
       "    }\n",
       "\n",
       "    .dataframe thead th {\n",
       "        text-align: right;\n",
       "    }\n",
       "</style>\n",
       "<table border=\"1\" class=\"dataframe\">\n",
       "  <thead>\n",
       "    <tr style=\"text-align: right;\">\n",
       "      <th></th>\n",
       "      <th>image</th>\n",
       "      <th>id</th>\n",
       "      <th>class</th>\n",
       "      <th>annotator</th>\n",
       "      <th>annotation_id</th>\n",
       "      <th>created_at</th>\n",
       "      <th>updated_at</th>\n",
       "      <th>lead_time</th>\n",
       "      <th>kp-1</th>\n",
       "      <th>choice</th>\n",
       "    </tr>\n",
       "  </thead>\n",
       "  <tbody>\n",
       "    <tr>\n",
       "      <th>0</th>\n",
       "      <td>http://localhost:8887/20220804/20220804_0000/2...</td>\n",
       "      <td>150148</td>\n",
       "      <td>Blurry</td>\n",
       "      <td>1</td>\n",
       "      <td>3956</td>\n",
       "      <td>2022-10-25T22:38:47.249886Z</td>\n",
       "      <td>2022-10-25T22:38:47.249909Z</td>\n",
       "      <td>3.106</td>\n",
       "      <td>NaN</td>\n",
       "      <td>NaN</td>\n",
       "    </tr>\n",
       "    <tr>\n",
       "      <th>1</th>\n",
       "      <td>http://localhost:8887/20220809/20220809_1100/2...</td>\n",
       "      <td>347747</td>\n",
       "      <td>Blurry</td>\n",
       "      <td>1</td>\n",
       "      <td>3955</td>\n",
       "      <td>2022-10-25T22:38:42.832533Z</td>\n",
       "      <td>2022-10-25T22:38:42.832557Z</td>\n",
       "      <td>1.488</td>\n",
       "      <td>NaN</td>\n",
       "      <td>NaN</td>\n",
       "    </tr>\n",
       "    <tr>\n",
       "      <th>2</th>\n",
       "      <td>http://localhost:8887/20220803/20220803_2200/2...</td>\n",
       "      <td>689402</td>\n",
       "      <td>Blurry</td>\n",
       "      <td>1</td>\n",
       "      <td>3954</td>\n",
       "      <td>2022-10-25T22:38:40.080463Z</td>\n",
       "      <td>2022-10-25T22:38:40.080487Z</td>\n",
       "      <td>2.288</td>\n",
       "      <td>NaN</td>\n",
       "      <td>NaN</td>\n",
       "    </tr>\n",
       "    <tr>\n",
       "      <th>3</th>\n",
       "      <td>http://localhost:8887/20220627/20220627_0700/2...</td>\n",
       "      <td>92765</td>\n",
       "      <td>Noctiluca</td>\n",
       "      <td>1</td>\n",
       "      <td>3953</td>\n",
       "      <td>2022-10-25T22:38:36.487277Z</td>\n",
       "      <td>2022-10-25T22:38:36.487301Z</td>\n",
       "      <td>9.796</td>\n",
       "      <td>[{\"x\": 14.878892733564014, \"y\": 37.14285714285...</td>\n",
       "      <td>NaN</td>\n",
       "    </tr>\n",
       "    <tr>\n",
       "      <th>4</th>\n",
       "      <td>http://localhost:8887/20220626/20220626_1200/2...</td>\n",
       "      <td>219844</td>\n",
       "      <td>Marine snow</td>\n",
       "      <td>1</td>\n",
       "      <td>3952</td>\n",
       "      <td>2022-10-25T22:38:25.355673Z</td>\n",
       "      <td>2022-10-25T22:38:25.355706Z</td>\n",
       "      <td>1.915</td>\n",
       "      <td>NaN</td>\n",
       "      <td>NaN</td>\n",
       "    </tr>\n",
       "    <tr>\n",
       "      <th>...</th>\n",
       "      <td>...</td>\n",
       "      <td>...</td>\n",
       "      <td>...</td>\n",
       "      <td>...</td>\n",
       "      <td>...</td>\n",
       "      <td>...</td>\n",
       "      <td>...</td>\n",
       "      <td>...</td>\n",
       "      <td>...</td>\n",
       "      <td>...</td>\n",
       "    </tr>\n",
       "    <tr>\n",
       "      <th>3016</th>\n",
       "      <td>http://localhost:8887/20220803/20220803_1100/2...</td>\n",
       "      <td>636814</td>\n",
       "      <td>Marine snow</td>\n",
       "      <td>1</td>\n",
       "      <td>5</td>\n",
       "      <td>2022-10-15T19:51:59.505220Z</td>\n",
       "      <td>2022-10-15T19:51:59.505247Z</td>\n",
       "      <td>36.252</td>\n",
       "      <td>NaN</td>\n",
       "      <td>NaN</td>\n",
       "    </tr>\n",
       "    <tr>\n",
       "      <th>3017</th>\n",
       "      <td>http://localhost:8887/20220623/20220623_0700/2...</td>\n",
       "      <td>4</td>\n",
       "      <td>Noctiluca</td>\n",
       "      <td>1</td>\n",
       "      <td>4</td>\n",
       "      <td>2022-10-15T19:51:11.483942Z</td>\n",
       "      <td>2022-10-15T19:51:11.483974Z</td>\n",
       "      <td>19.688</td>\n",
       "      <td>[{\"x\": 74.02985074626865, \"y\": 17, \"width\": 0....</td>\n",
       "      <td>NaN</td>\n",
       "    </tr>\n",
       "    <tr>\n",
       "      <th>3018</th>\n",
       "      <td>http://localhost:8887/20220623/20220623_0700/2...</td>\n",
       "      <td>3</td>\n",
       "      <td>Marine snow</td>\n",
       "      <td>1</td>\n",
       "      <td>3</td>\n",
       "      <td>2022-10-15T19:50:45.371033Z</td>\n",
       "      <td>2022-10-15T19:50:45.371056Z</td>\n",
       "      <td>42.983</td>\n",
       "      <td>[{\"x\": 89.2018779342723, \"y\": 13.75, \"width\": ...</td>\n",
       "      <td>NaN</td>\n",
       "    </tr>\n",
       "    <tr>\n",
       "      <th>3019</th>\n",
       "      <td>http://localhost:8887/20220623/20220623_0700/2...</td>\n",
       "      <td>2</td>\n",
       "      <td>Blurry</td>\n",
       "      <td>1</td>\n",
       "      <td>2</td>\n",
       "      <td>2022-10-15T19:49:58.754810Z</td>\n",
       "      <td>2022-10-15T19:49:58.754838Z</td>\n",
       "      <td>19.669</td>\n",
       "      <td>NaN</td>\n",
       "      <td>NaN</td>\n",
       "    </tr>\n",
       "    <tr>\n",
       "      <th>3020</th>\n",
       "      <td>http://localhost:8887/20220623/20220623_0700/2...</td>\n",
       "      <td>1</td>\n",
       "      <td>Noctiluca</td>\n",
       "      <td>1</td>\n",
       "      <td>1</td>\n",
       "      <td>2022-10-15T16:58:23.639405Z</td>\n",
       "      <td>2022-10-15T19:49:29.463244Z</td>\n",
       "      <td>72.603</td>\n",
       "      <td>[{\"x\": 40, \"y\": 16.374269005847953, \"width\": 0...</td>\n",
       "      <td>NaN</td>\n",
       "    </tr>\n",
       "  </tbody>\n",
       "</table>\n",
       "<p>3021 rows × 10 columns</p>\n",
       "</div>"
      ],
      "text/plain": [
       "                                                  image      id        class  \\\n",
       "0     http://localhost:8887/20220804/20220804_0000/2...  150148       Blurry   \n",
       "1     http://localhost:8887/20220809/20220809_1100/2...  347747       Blurry   \n",
       "2     http://localhost:8887/20220803/20220803_2200/2...  689402       Blurry   \n",
       "3     http://localhost:8887/20220627/20220627_0700/2...   92765    Noctiluca   \n",
       "4     http://localhost:8887/20220626/20220626_1200/2...  219844  Marine snow   \n",
       "...                                                 ...     ...          ...   \n",
       "3016  http://localhost:8887/20220803/20220803_1100/2...  636814  Marine snow   \n",
       "3017  http://localhost:8887/20220623/20220623_0700/2...       4    Noctiluca   \n",
       "3018  http://localhost:8887/20220623/20220623_0700/2...       3  Marine snow   \n",
       "3019  http://localhost:8887/20220623/20220623_0700/2...       2       Blurry   \n",
       "3020  http://localhost:8887/20220623/20220623_0700/2...       1    Noctiluca   \n",
       "\n",
       "      annotator  annotation_id                   created_at  \\\n",
       "0             1           3956  2022-10-25T22:38:47.249886Z   \n",
       "1             1           3955  2022-10-25T22:38:42.832533Z   \n",
       "2             1           3954  2022-10-25T22:38:40.080463Z   \n",
       "3             1           3953  2022-10-25T22:38:36.487277Z   \n",
       "4             1           3952  2022-10-25T22:38:25.355673Z   \n",
       "...         ...            ...                          ...   \n",
       "3016          1              5  2022-10-15T19:51:59.505220Z   \n",
       "3017          1              4  2022-10-15T19:51:11.483942Z   \n",
       "3018          1              3  2022-10-15T19:50:45.371033Z   \n",
       "3019          1              2  2022-10-15T19:49:58.754810Z   \n",
       "3020          1              1  2022-10-15T16:58:23.639405Z   \n",
       "\n",
       "                       updated_at  lead_time  \\\n",
       "0     2022-10-25T22:38:47.249909Z      3.106   \n",
       "1     2022-10-25T22:38:42.832557Z      1.488   \n",
       "2     2022-10-25T22:38:40.080487Z      2.288   \n",
       "3     2022-10-25T22:38:36.487301Z      9.796   \n",
       "4     2022-10-25T22:38:25.355706Z      1.915   \n",
       "...                           ...        ...   \n",
       "3016  2022-10-15T19:51:59.505247Z     36.252   \n",
       "3017  2022-10-15T19:51:11.483974Z     19.688   \n",
       "3018  2022-10-15T19:50:45.371056Z     42.983   \n",
       "3019  2022-10-15T19:49:58.754838Z     19.669   \n",
       "3020  2022-10-15T19:49:29.463244Z     72.603   \n",
       "\n",
       "                                                   kp-1 choice  \n",
       "0                                                   NaN    NaN  \n",
       "1                                                   NaN    NaN  \n",
       "2                                                   NaN    NaN  \n",
       "3     [{\"x\": 14.878892733564014, \"y\": 37.14285714285...    NaN  \n",
       "4                                                   NaN    NaN  \n",
       "...                                                 ...    ...  \n",
       "3016                                                NaN    NaN  \n",
       "3017  [{\"x\": 74.02985074626865, \"y\": 17, \"width\": 0....    NaN  \n",
       "3018  [{\"x\": 89.2018779342723, \"y\": 13.75, \"width\": ...    NaN  \n",
       "3019                                                NaN    NaN  \n",
       "3020  [{\"x\": 40, \"y\": 16.374269005847953, \"width\": 0...    NaN  \n",
       "\n",
       "[3021 rows x 10 columns]"
      ]
     },
     "execution_count": 3,
     "metadata": {},
     "output_type": "execute_result"
    }
   ],
   "source": [
    "df"
   ]
  },
  {
   "cell_type": "code",
   "execution_count": 4,
   "id": "b7c04ff2-d95f-49c7-b9ac-0de6b5680796",
   "metadata": {},
   "outputs": [],
   "source": [
    "df_reformat = df[[\"image\", \"class\"]]\n",
    "\n",
    "for idx, line in df_reformat.iterrows():\n",
    "    path = line[\"image\"]\n",
    "    line[\"image\"] = path.replace(\"http://localhost:8887/\", \"\")\n",
    "    \n",
    "df_reformat = df_reformat.rename(columns={\"image\":\"file\"})\n",
    "df_reformat = df_reformat.dropna()"
   ]
  },
  {
   "cell_type": "code",
   "execution_count": 5,
   "id": "276224ac-6450-45b1-bfdb-7c4f65cbcb05",
   "metadata": {},
   "outputs": [],
   "source": [
    "df_reformat = df_reformat[df_reformat[\"class\"] != \"Dinoflagellate\"] "
   ]
  },
  {
   "cell_type": "code",
   "execution_count": 15,
   "id": "4a2e1762-6501-4cca-9795-f0a27c89c8c8",
   "metadata": {},
   "outputs": [],
   "source": [
    "all_good = False\n",
    "np.random.seed(5)\n",
    "counter = 0\n",
    "df_reformat_old = df_reformat\n",
    "while not all_good:\n",
    "    df_reformat = shuffle(df_reformat_old)\n",
    "    train_size = int(df_reformat.shape[0] / 100 * 70)\n",
    "    val_size = int(df_reformat.shape[0] / 100 * 25)\n",
    "\n",
    "    train_df = df_reformat.iloc[:train_size]\n",
    "    val_df =  df_reformat.iloc[train_size: train_size + val_size]\n",
    "    test_df = df_reformat.iloc[train_size + val_size:]\n",
    "\n",
    "    unique_labels = df_reformat[\"class\"].unique()\n",
    "    \n",
    "    train_df_mini = train_df[train_df[\"file\"].str.startswith(\"20220609/\")]\n",
    "    val_df_mini =  train_df_mini.copy()\n",
    "    test_df_mini =  train_df_mini.copy()\n",
    "\n",
    "    try:\n",
    "        assert set(train_df[\"class\"].unique()) == set(unique_labels), \"Trainset set does not have all labels\"\n",
    "        assert set(val_df[\"class\"].unique()) == set(unique_labels), \"Validation set does not have all labels\"\n",
    "        assert set(train_df_mini[\"class\"].unique()) == set(val_df_mini[\"class\"].unique()), \"Trainset set does not have all labels\"\n",
    "        assert set(test_df[\"class\"].unique()) == set(unique_labels), \"Testset set does not have all labels\"\n",
    "        all_good = True\n",
    "    except AssertionError:\n",
    "        counter += 1\n",
    "    \n",
    "    if df_reformat_old.equals(df_reformat):\n",
    "        raise ValueError\n",
    "    df_reformat_old = df_reformat.copy()\n",
    "    if counter > 100000:\n",
    "        print(\"No shuffle found\")\n",
    "        break\n",
    "        \n",
    "    if counter % 1000 == 0:\n",
    "        print(counter)"
   ]
  },
  {
   "cell_type": "code",
   "execution_count": 16,
   "id": "0b10eb75-533b-45b0-8e94-de8db20df1dd",
   "metadata": {},
   "outputs": [],
   "source": [
    "train_df.to_csv(\"../data/phytodive_train.csv\", index=True)\n",
    "val_df.to_csv(\"../data/phytodive_val.csv\", index=True)\n",
    "test_df.to_csv(\"../data/phytodive_test.csv\", index=True)"
   ]
  },
  {
   "cell_type": "code",
   "execution_count": 17,
   "id": "1d24ef16-8de1-4969-88d4-9fe921790f84",
   "metadata": {},
   "outputs": [],
   "source": [
    "train_df_mini.to_csv(\"../data/phytodive_train_mini.csv\", index=True)\n",
    "val_df_mini.to_csv(\"../data/phytodive_val_mini.csv\", index=True)\n",
    "test_df_mini.to_csv(\"../data/phytodive_test_mini.csv\", index=True)"
   ]
  },
  {
   "cell_type": "code",
   "execution_count": 10,
   "id": "cf696dce-ac4a-489f-a150-282c809e2ff3",
   "metadata": {},
   "outputs": [
    {
     "data": {
      "text/plain": [
       "6"
      ]
     },
     "execution_count": 10,
     "metadata": {},
     "output_type": "execute_result"
    }
   ],
   "source": [
    "len(set(train_df_mini[\"class\"].unique()))"
   ]
  },
  {
   "cell_type": "code",
   "execution_count": 11,
   "id": "88c16fb9-66aa-4b6f-a8c6-b875bfe74e8f",
   "metadata": {},
   "outputs": [
    {
     "data": {
      "text/plain": [
       "4"
      ]
     },
     "execution_count": 11,
     "metadata": {},
     "output_type": "execute_result"
    }
   ],
   "source": [
    "len(set(val_df_mini[\"class\"].unique()))"
   ]
  },
  {
   "cell_type": "code",
   "execution_count": 12,
   "id": "d9da0cc8-3600-43a6-8e1a-17a6946c3c22",
   "metadata": {},
   "outputs": [
    {
     "name": "stderr",
     "output_type": "stream",
     "text": [
      "C:\\Users\\Machnitz\\AppData\\Local\\Temp\\ipykernel_16192\\2572935260.py:3: UserWarning: FixedFormatter should only be used together with FixedLocator\n",
      "  ax.set_xticklabels(df_reformat[\"class\"].unique(), rotation=90, ha='right')\n"
     ]
    },
    {
     "data": {
      "image/png": "[encoded data removed]",
      "text/plain": [
       "<Figure size 640x480 with 1 Axes>"
      ]
     },
     "metadata": {},
     "output_type": "display_data"
    }
   ],
   "source": [
    "fig, ax = plt.subplots()\n",
    "df_reformat[\"class\"].hist(ax=ax, bins=10)\n",
    "ax.set_xticklabels(df_reformat[\"class\"].unique(), rotation=90, ha='right')\n",
    "ax.set_yscale(\"log\")"
   ]
  },
  {
   "cell_type": "code",
   "execution_count": 13,
   "id": "f6be898c-95b6-487e-9c41-29b6fc3a044c",
   "metadata": {},
   "outputs": [
    {
     "data": {
      "text/html": [
       "<div>\n",
       "<style scoped>\n",
       "    .dataframe tbody tr th:only-of-type {\n",
       "        vertical-align: middle;\n",
       "    }\n",
       "\n",
       "    .dataframe tbody tr th {\n",
       "        vertical-align: top;\n",
       "    }\n",
       "\n",
       "    .dataframe thead th {\n",
       "        text-align: right;\n",
       "    }\n",
       "</style>\n",
       "<table border=\"1\" class=\"dataframe\">\n",
       "  <thead>\n",
       "    <tr style=\"text-align: right;\">\n",
       "      <th></th>\n",
       "      <th>file</th>\n",
       "      <th>class</th>\n",
       "    </tr>\n",
       "  </thead>\n",
       "  <tbody>\n",
       "  </tbody>\n",
       "</table>\n",
       "</div>"
      ],
      "text/plain": [
       "Empty DataFrame\n",
       "Columns: [file, class]\n",
       "Index: []"
      ]
     },
     "execution_count": 13,
     "metadata": {},
     "output_type": "execute_result"
    }
   ],
   "source": [
    "df_reformat[df_reformat[\"class\"] == \"Dinoflagellate\"] "
   ]
  },
  {
   "cell_type": "code",
   "execution_count": null,
   "id": "1fb813fa-59b6-4063-a0d5-b0796cbbfd95",
   "metadata": {},
   "outputs": [],
   "source": []
  }
 ],
 "metadata": {
  "kernelspec": {
   "display_name": "Python 3 (ipykernel)",
   "language": "python",
   "name": "python3"
  },
  "language_info": {
   "codemirror_mode": {
    "name": "ipython",
    "version": 3
   },
   "file_extension": ".py",
   "mimetype": "text/x-python",
   "name": "python",
   "nbconvert_exporter": "python",
   "pygments_lexer": "ipython3",
   "version": "3.9.12"
  }
 },
 "nbformat": 4,
 "nbformat_minor": 5
}
