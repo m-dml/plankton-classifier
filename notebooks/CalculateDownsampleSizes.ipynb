{
 "cells": [
  {
   "cell_type": "code",
   "execution_count": 2,
   "id": "c06bf633-054c-4b7d-bf0e-7ef09111a776",
   "metadata": {},
   "outputs": [],
   "source": [
    "import numpy as np\n",
    "import glob\n",
    "import os"
   ]
  },
  {
   "cell_type": "code",
   "execution_count": 3,
   "id": "23e9b5f3-0259-41ef-935b-c53a94a1027e",
   "metadata": {},
   "outputs": [],
   "source": [
    "multi_label_train_data = \"/gpfs/work/machnitz/plankton_dataset/new_data/multi_label/train\"\n",
    "single_label_train_data = \"/gpfs/work/machnitz/plankton_dataset/new_data/M160_Sorted/train\"\n",
    "\n",
    "multi_files = glob.glob(os.path.join(multi_label_train_data, \"*.png\"))\n",
    "single_files = glob.glob(os.path.join(single_label_train_data, \"*/*.png\"))"
   ]
  },
  {
   "cell_type": "code",
   "execution_count": 5,
   "id": "4481b2f7-cee7-4165-ba38-0520072070ed",
   "metadata": {},
   "outputs": [],
   "source": [
    "splits = [np.round(x, 2) for x in np.arange(0.01, 0.1, 0.01)] + [np.round(x, 2) for x in np.arange(0.1, 1.1, 0.1)]"
   ]
  },
  {
   "cell_type": "code",
   "execution_count": 6,
   "id": "595fb517-7b37-4979-92e2-ed5f6989cdc2",
   "metadata": {},
   "outputs": [
    {
     "name": "stdout",
     "output_type": "stream",
     "text": [
      "Single Label splits:\n",
      "[1433, 2867, 4300, 5734, 7167, 8601, 10034, 11467, 12901, 14334, 28669, 43003, 57337, 71672, 86006, 100340, 114674, 129009, 143343]\n",
      "============\n",
      "Multi Label splits:\n",
      "[7, 14, 21, 28, 35, 42, 49, 56, 63, 70, 140, 210, 280, 350, 420, 490, 560, 630, 700]\n"
     ]
    }
   ],
   "source": [
    "print(\"Single Label splits:\")\n",
    "print(list(np.round(len(single_files) * np.array(splits), 0).astype(int)))\n",
    "\n",
    "print(\"============\")\n",
    "print(\"Multi Label splits:\")\n",
    "print(list(np.round(len(multi_files) * np.array(splits), 0).astype(int)))"
   ]
  },
  {
   "cell_type": "code",
   "execution_count": 4,
   "id": "87e24f87-60fe-4f69-9b40-f77f4cdb00e4",
   "metadata": {},
   "outputs": [
    {
     "name": "stdout",
     "output_type": "stream",
     "text": [
      "There are overall 700 multi label files\n",
      "There are overall 143343 single label files\n"
     ]
    }
   ],
   "source": [
    "print(f\"There are overall {len(multi_files)} multi label files\")\n",
    "print(f\"There are overall {len(single_files)} single label files\")"
   ]
  },
  {
   "cell_type": "code",
   "execution_count": 11,
   "id": "292e02c9-407a-4a87-9eb8-b9d13cb0256a",
   "metadata": {},
   "outputs": [
    {
     "data": {
      "text/plain": [
       "4.226287702332164"
      ]
     },
     "execution_count": 11,
     "metadata": {},
     "output_type": "execute_result"
    }
   ],
   "source": [
    "len(single_files) / 33917"
   ]
  },
  {
   "cell_type": "code",
   "execution_count": 10,
   "id": "6ec87010-9f42-42f5-83df-82fa4b4e15e3",
   "metadata": {},
   "outputs": [
    {
     "data": {
      "text/plain": [
       "128000"
      ]
     },
     "execution_count": 10,
     "metadata": {},
     "output_type": "execute_result"
    }
   ],
   "source": [
    "64*2000"
   ]
  },
  {
   "cell_type": "code",
   "execution_count": null,
   "id": "cf3adbf8-75f2-4263-85bc-1a3d0cc59863",
   "metadata": {},
   "outputs": [],
   "source": []
  }
 ],
 "metadata": {
  "kernelspec": {
   "display_name": "Plankton",
   "language": "python",
   "name": "plankton"
  },
  "language_info": {
   "codemirror_mode": {
    "name": "ipython",
    "version": 3
   },
   "file_extension": ".py",
   "mimetype": "text/x-python",
   "name": "python",
   "nbconvert_exporter": "python",
   "pygments_lexer": "ipython3",
   "version": "3.8.13"
  }
 },
 "nbformat": 4,
 "nbformat_minor": 5
}
